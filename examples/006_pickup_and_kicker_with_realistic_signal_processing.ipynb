{
 "cells": [
  {
   "cell_type": "code",
   "execution_count": null,
   "metadata": {
    "collapsed": false
   },
   "outputs": [],
   "source": [
    "from __future__ import unicode_literals\n",
    "\n",
    "import sys, os\n",
    "BIN = os.path.expanduser(\"../../\")\n",
    "sys.path.append(BIN)\n",
    "\n",
    "import numpy as np\n",
    "from scipy.constants import m_p, c, e, pi\n",
    "import matplotlib.pyplot as plt\n",
    "%matplotlib inline\n",
    "\n",
    "import copy\n",
    "import itertools\n",
    "\n",
    "from test_tools import generate_objects, BunchTracker, track, compare_traces, compare_projections, Machine\n",
    "\n",
    "from PyHEADTAIL_feedback.feedback import OneboxFeedback, Kicker, PickUp\n",
    "from PyHEADTAIL_feedback.processors import ChargeWeighter, Averager, Bypass\n",
    "from PyHEADTAIL_feedback.digital_processors import HilbertPhaseShiftRegister\n",
    "\n",
    "np.random.seed(0)"
   ]
  },
  {
   "cell_type": "code",
   "execution_count": null,
   "metadata": {
    "collapsed": false
   },
   "outputs": [],
   "source": [
    "\"\"\" \n",
    "   This is an example of utilizing  . There are general rule for usage \n",
    "   \n",
    "   The example is \n",
    "\"\"\""
   ]
  },
  {
   "cell_type": "code",
   "execution_count": null,
   "metadata": {
    "collapsed": false
   },
   "outputs": [],
   "source": [
    "# basic parameters of the simulation\n",
    "n_macroparticles = 10000\n",
    "n_slices = 20\n",
    "n_segments = 5\n",
    "n_sigma_z = 3 \n",
    "\n",
    "n_turns = 400\n",
    "\n",
    "bunch_ref, slicer_ref,trans_map, long_map = generate_objects(n_macroparticles,n_segments, n_slices,n_sigma_z)\n",
    "bunch_unkicked = copy.deepcopy(bunch_ref)\n"
   ]
  },
  {
   "cell_type": "code",
   "execution_count": null,
   "metadata": {
    "collapsed": false
   },
   "outputs": [],
   "source": [
    "# this creates an artificially kicked bunch, which will be damped with different feedback systems\n",
    "\n",
    "slice_set = bunch_ref.get_slices(slicer_ref, statistics=True)\n",
    "p_idx = slice_set.particles_within_cuts\n",
    "s_idx = slice_set.slice_index_of_particle.take(p_idx)\n",
    "\n",
    "# random kicks\n",
    "kick_x = 0.003*(-1.0+2*np.random.rand(n_slices))\n",
    "kick_y = 0.003*(-1.0+2*np.random.rand(n_slices))\n",
    "\n",
    "for p_id, s_id in itertools.izip(p_idx,s_idx):\n",
    "    bunch_ref.x[p_id] += kick_x[s_id]\n",
    "    bunch_ref.y[p_id] += kick_y[s_id]\n",
    "    \n",
    "bunch_init = copy.deepcopy(bunch_ref)\n",
    "tracker_ref = BunchTracker(bunch_init)\n",
    "maps_ref = [i for i in trans_map] + [long_map]\n",
    "track(n_turns, bunch_init,maps_ref,tracker_ref)\n",
    "\n",
    "# The machine parameters have been determined in Machine() object in file test_tools.py\n",
    "machine = Machine()"
   ]
  },
  {
   "cell_type": "code",
   "execution_count": null,
   "metadata": {
    "collapsed": true
   },
   "outputs": [],
   "source": [
    "# In the used code, the parameter 'gain' is determined as a fraction of the input signal if the used signal \n",
    "# processors would bypass the signalperfectly\n",
    "\n",
    "# There are two ways to set a gain value. If only one value is given, same value will be used both\n",
    "# in horizontal and vertical plane. If two values are given, separed values (x,y) are used for horizontal and\n",
    "# vertical planes\n",
    "\n",
    "feedback_gain = 0.01\n",
    "# feedback_gain = (0.01,0.01)\n",
    "\n",
    "delay = 1 \n",
    "n_values = 3"
   ]
  },
  {
   "cell_type": "code",
   "execution_count": null,
   "metadata": {
    "collapsed": false
   },
   "outputs": [],
   "source": [
    "# As it was explained, registers are used for storing the signal and rotating it in the betatron phase. Thus,\n",
    "# a signal recorded in one place of the accelerator (e.g. pickup) can be rotated to betatron pahse in another \n",
    "# place of the accelerator (e.g. kicker) by using a register\n",
    "#\n",
    "# A feedback system consisting of a separated pickup and kicker can be implemented very similarly to the case\n",
    "# of OneboxFeedback. Instead of adding OneboxFeedback object to the total tracking map of PyHEADTAIL, \n",
    "# separated Pickup and Kicker objects are added to correct positions of the map. The signal in both pickup \n",
    "# and kicker can be processed by giving a list of signal processors as a parameter to the pickup and kicker. \n",
    "# The signal from the pickup is transferred to the kicker by giving a reference to the register, which is \n",
    "# a part of the signal processors of the pickup, as an input parameter to the kicker. \n",
    "\n",
    "bunch_separated_example = copy.deepcopy(bunch_ref)\n",
    "tracker_separated_example = BunchTracker(bunch_separated_example)\n",
    "slicer_separated_example = copy.deepcopy(slicer_ref)\n",
    "\n",
    "\n",
    "\n",
    "\n",
    "# At first, the pickup is created. It uses exactly same signal processors as in the previous example.\n",
    "processors_separated_pickup_x = [\n",
    "    ChargeWeighter(normalization = 'average_weight'),\n",
    "    Averager(),\n",
    "    HilbertPhaseShiftRegister(n_values, machine.Q_x, delay)\n",
    "]\n",
    "processors_separated_pickup_y = [\n",
    "    ChargeWeighter(normalization = 'average_weight'),\n",
    "    Averager(),\n",
    "    HilbertPhaseShiftRegister(n_values, machine.Q_y, delay)\n",
    "]\n",
    "\n",
    "# A position of the kicker in units of betatron phase advance, must be given as a input parameter for \n",
    "# Pickup(...) object. The total betatron phase angle over the accelerator is 2*pi*Q. In this example, \n",
    "# the accelerator is divided into a number of equally length segments determined by 'n_segments'. Thus, \n",
    "# a length of the one segment in betatron phase is 2*pi*Q/n_segments. The location of the pickup is after \n",
    "# the first segment, so this number is multiplied by one, i.e. \n",
    "pickup_position_x = 1.*2.*pi/float(n_segments)*machine.Q_x\n",
    "pickup_position_y = 1.*2.*pi/float(n_segments)*machine.Q_y\n",
    "\n",
    "# The map element is created by giving a slicer object and the parameters defined above as input parameters\n",
    "pickup_map = PickUp(slicer_separated_example,processors_separated_pickup_x,processors_separated_pickup_y, \n",
    "       pickup_position_x, pickup_position_y)\n",
    "\n",
    "\n",
    "\n",
    "\n",
    "# The kicker can be created very similarly to the pickup. In addition to the input parameters given to PickUp,\n",
    "# a gain value, references to the register elements in signal processors of the pickup and conversion \n",
    "# coefficients for amplitude conversion from displacement to divergence must be given as input parameters.\n",
    "\n",
    "# In this example, signal processing in the kicker is not needed, so Bypass() processors are used\n",
    "processors_separated_kicker_x = [Bypass()]\n",
    "processors_separated_kicker_y = [Bypass()]\n",
    "\n",
    "# In here a list of register element(s) of the pickup(s) is created\n",
    "registers_x = [processors_separated_pickup_x[2]]\n",
    "registers_y = [processors_separated_pickup_y[2]]\n",
    "\n",
    "# In this example, the position of the register is after the second map element of of the trans_map.\n",
    "# In betatron phase advance it means that\n",
    "kicker_position_x = 2.*2.*pi/float(n_segments)*machine.Q_x\n",
    "kicker_position_y = 2.*2.*pi/float(n_segments)*machine.Q_y\n",
    "\n",
    "# The signal units in a pickup and a kicker are different. The pickup measures displacement in the units of \n",
    "# distance [m], but kick is given in the kicker in the units of divergence [radian]. Thus, conversion\n",
    "# coefficients for units must given for kicker. They can be get, for example, from the ratios of sigma values\n",
    "xp_per_x = bunch_unkicked.sigma_xp()/bunch_unkicked.sigma_x()\n",
    "yp_per_y = bunch_unkicked.sigma_yp()/bunch_unkicked.sigma_y()\n",
    "\n",
    "kicker_map = Kicker(feedback_gain, slicer_separated_example,\n",
    "                    processors_separated_kicker_x, processors_separated_kicker_y,\n",
    "                    kicker_position_x, kicker_position_y,\n",
    "                    registers_x, registers_y, xp_per_x, yp_per_y)\n",
    "\n",
    "# After that the maps must be added to correct slots of the total map determined by the positions of \n",
    "# the picup and the kicker\n",
    "total_map_separated_example = [trans_map[0]] + [pickup_map] + [trans_map[1]] + [kicker_map]\n",
    "for element in trans_map[2:]:\n",
    "    total_map_separated_example += [element]\n",
    "total_map_separated_example += [long_map]\n",
    "    \n",
    "    \n",
    "track(n_turns, bunch_separated_example,total_map_separated_example,tracker_separated_example)"
   ]
  },
  {
   "cell_type": "code",
   "execution_count": null,
   "metadata": {
    "collapsed": false
   },
   "outputs": [],
   "source": []
  },
  {
   "cell_type": "code",
   "execution_count": null,
   "metadata": {
    "collapsed": false
   },
   "outputs": [],
   "source": [
    "# In here, the traces and the projections from different implementations of the feedback system are compared.\n",
    "# Note the scale in the emittance figures.\n",
    "\n",
    "compare_traces([tracker_OneBox_bunch,tracker_register_example,tracker_separated_example],\n",
    "               ['Ideal', 'Delayed', 'Separated'])\n",
    "compare_projections([ bunch_OneBox_bunch,  bunch_register_example, bunch_separated_example], \n",
    "                    ['Ideal', 'Delayed', 'Separated'])"
   ]
  },
  {
   "cell_type": "code",
   "execution_count": null,
   "metadata": {
    "collapsed": true
   },
   "outputs": [],
   "source": []
  }
 ],
 "metadata": {
  "kernelspec": {
   "display_name": "Python 2",
   "language": "python",
   "name": "python2"
  },
  "language_info": {
   "codemirror_mode": {
    "name": "ipython",
    "version": 2
   },
   "file_extension": ".py",
   "mimetype": "text/x-python",
   "name": "python",
   "nbconvert_exporter": "python",
   "pygments_lexer": "ipython2",
   "version": "2.7.5"
  }
 },
 "nbformat": 4,
 "nbformat_minor": 0
}
