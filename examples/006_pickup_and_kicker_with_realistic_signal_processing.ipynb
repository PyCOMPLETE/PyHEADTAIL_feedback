{
 "cells": [
  {
   "cell_type": "code",
   "execution_count": null,
   "metadata": {
    "collapsed": false
   },
   "outputs": [],
   "source": [
    "from __future__ import unicode_literals\n",
    "\n",
    "import sys, os\n",
    "BIN = os.path.expanduser(\"../../\")\n",
    "sys.path.append(BIN)\n",
    "\n",
    "import numpy as np\n",
    "from scipy.constants import m_p, c, e, pi\n",
    "import matplotlib.pyplot as plt\n",
    "%matplotlib inline\n",
    "\n",
    "import copy\n",
    "import itertools\n",
    "\n",
    "from test_tools import generate_objects, BunchTracker, track, compare_traces, compare_projections, Machine\n",
    "\n",
    "from PyHEADTAIL_feedback.feedback import OneboxFeedback, Kicker, PickUp\n",
    "from PyHEADTAIL_feedback.processors import ChargeWeighter, Averager, Bypass, Lowpass, Sinc, NoiseGenerator\n",
    "from PyHEADTAIL_feedback.digital_processors import HilbertPhaseShiftRegister, ADC, DAC, FIR_Filter\n",
    "from PyHEADTAIL.particles.slicing import UniformBinSlicer\n",
    "\n",
    "np.random.seed(0)"
   ]
  },
  {
   "cell_type": "code",
   "execution_count": null,
   "metadata": {
    "collapsed": false
   },
   "outputs": [],
   "source": [
    "\"\"\" \n",
    "    In this example, a model for more realistic feedback system is presented. Note that it does not try to \n",
    "    emulate any system from the real life, but parts of the system required by more realistic simulations are\n",
    "    presented. The simulations are very sensitive to details of the feedback model and it must be remembered\n",
    "    that this is a toy model!\n",
    "    \n",
    "    The example is based on directly to one pickup and one kicker example in the file \n",
    "    002_separated_pickup_and_kicker.ipynb. This example focuses on the details of the signal processors, and \n",
    "    more details about other parts of the model can be found from there.\n",
    "\"\"\""
   ]
  },
  {
   "cell_type": "code",
   "execution_count": null,
   "metadata": {
    "collapsed": false
   },
   "outputs": [],
   "source": [
    "# basic parameters of the simulation\n",
    "n_macroparticles = 10000\n",
    "n_slices = 200\n",
    "n_segments = 5\n",
    "n_sigma_z = 3 \n",
    "\n",
    "n_turns = 5000\n",
    "\n",
    "bunch_ref, slicer_ref,trans_map, long_map = generate_objects(n_macroparticles,n_segments, n_slices,n_sigma_z)\n",
    "bunch_unkicked = copy.deepcopy(bunch_ref)\n"
   ]
  },
  {
   "cell_type": "code",
   "execution_count": null,
   "metadata": {
    "collapsed": false
   },
   "outputs": [],
   "source": [
    "# This creates an artificially kicked bunch, which will be damped with different feedback systems\n",
    "slicer_for_kicks = UniformBinSlicer(n_slices=5, n_sigma_z=3)\n",
    "slice_set = bunch_ref.get_slices(slicer_for_kicks, statistics=True)\n",
    "p_idx = slice_set.particles_within_cuts\n",
    "s_idx = slice_set.slice_index_of_particle.take(p_idx)\n",
    "\n",
    "# random kicks\n",
    "kick_x = 0.003*(-1.0+2*np.random.rand(n_slices))\n",
    "kick_y = 0.003*(-1.0+2*np.random.rand(n_slices))\n",
    "\n",
    "for p_id, s_id in itertools.izip(p_idx,s_idx):\n",
    "    bunch_ref.x[p_id] += kick_x[s_id]\n",
    "    bunch_ref.y[p_id] += kick_y[s_id]\n",
    "    \n",
    "bunch_init = copy.deepcopy(bunch_ref)\n",
    "tracker_ref = BunchTracker(bunch_init)\n",
    "maps_ref = [i for i in trans_map] + [long_map]\n",
    "track(n_turns, bunch_init,maps_ref,tracker_ref)\n",
    "\n",
    "# The machine parameters have been determined in Machine() object in file test_tools.py\n",
    "machine = Machine()"
   ]
  },
  {
   "cell_type": "code",
   "execution_count": null,
   "metadata": {
    "collapsed": true
   },
   "outputs": [],
   "source": [
    "# In the used code, the parameter 'gain' is determined as a fraction of the input signal if the used signal \n",
    "# processors would bypass the signalperfectly\n",
    "\n",
    "# There are two ways to set a gain value. If only one value is given, same value will be used both\n",
    "# in horizontal and vertical plane. If two values are given, separed values (x,y) are used for horizontal and\n",
    "# vertical planes\n",
    "\n",
    "feedback_gain = 0.033\n",
    "# feedback_gain = (0.01,0.01)\n",
    "\n",
    "\n",
    "# Parameters for the feedback system\n",
    "pickup_bandwidth = 10e9 # [Hz]\n",
    "sampling_rate = 4e9 # [Hz]\n",
    "n_FIT_taps = 5\n",
    "FIR_bandwidth = 1e9 # [Hz] \n",
    "kicker_bandwidth = 1e9 # [Hz]\n",
    "\n",
    "noise_level = 1.\n",
    "noise_level_x = noise_level * bunch_unkicked.sigma_x()\n",
    "noise_level_y = noise_level * bunch_unkicked.sigma_y()\n",
    "\n",
    "\n",
    "delay = 1 \n",
    "n_values = 7"
   ]
  },
  {
   "cell_type": "code",
   "execution_count": null,
   "metadata": {
    "collapsed": false
   },
   "outputs": [],
   "source": [
    "# A reference feedback system for examples presented in this file is the ideal bunch feedback presented in \n",
    "# file 001_ideal_feedbacks.ipynb:\n",
    "\n",
    "bunch_OneBox_bunch = copy.deepcopy(bunch_ref)\n",
    "tracker_OneBox_bunch = BunchTracker(bunch_OneBox_bunch)\n",
    "slicer_OneBox_bunch = copy.deepcopy(slicer_ref)\n",
    "\n",
    "processors_bunch_x = [\n",
    "    ChargeWeighter(normalization = 'average_weight'),\n",
    "    Averager()\n",
    "]\n",
    "processors_bunch_y = [\n",
    "    ChargeWeighter(normalization = 'average_weight'),\n",
    "    Averager()\n",
    "]\n",
    "\n",
    "feedback_map = OneboxFeedback(feedback_gain,slicer_OneBox_bunch,processors_bunch_x,processors_bunch_y)\n",
    "total_map_OneBox_bunch = [i for i in trans_map] + [long_map] + [feedback_map]\n",
    "\n",
    "track(n_turns, bunch_OneBox_bunch,total_map_OneBox_bunch,tracker_OneBox_bunch)\n",
    "\n",
    "# That feedback system is extended to consist of separated pickup and kicker in this file. If you don't\n",
    "# understand details of the code above, please study examples in 001_ideal_feedbacks.ipynb"
   ]
  },
  {
   "cell_type": "code",
   "execution_count": null,
   "metadata": {
    "collapsed": false
   },
   "outputs": [],
   "source": [
    "bunch_separated_example = copy.deepcopy(bunch_ref)\n",
    "tracker_separated_example = BunchTracker(bunch_separated_example)\n",
    "slicer_separated_example = copy.deepcopy(slicer_ref)\n",
    "\n",
    "\n",
    "processors_separated_pickup_x = [\n",
    "    # Pickup plates:\n",
    "    # If signal directly from the pickup plates is used, it is proportional to charge weighter positions \n",
    "    # of the slices. There are finite bandwidth for the pickup, and the simplest model for it is RC-lowpass\n",
    "    # filter. Bandwidth of the pickup is typically significantly higher than bandwidths of the other parts \n",
    "    # of the system. \n",
    "    #\n",
    "    # Every part of the system induces noise to the signal. In this example it is adde after the picup, but\n",
    "    # it can be adde after every processor. Note that filters after the noise generator attenuates the noise\n",
    "    #\n",
    "    # In some systems charge weighting is removed by calculating ratio of sum and difference signals from two\n",
    "    # picup plates (delta-sigma). In these cases a special signal processor is required, which can be found \n",
    "    # from https://gitlab.cern.ch/jakomppu/PyHEADTAIL_feedback.git\n",
    "    ChargeWeighter(), \n",
    "    Lowpass(pickup_bandwidth),\n",
    "    NoiseGenerator(noise_level_x),\n",
    "    \n",
    "    # Digital signal processing:\n",
    "    # In many systems, the signal is mainly processed by using digital signal processing. The minimal model\n",
    "    # for this is to use a FIR lowpass filter inside the ADC and DAC. The finite simpling rate and accuracy of\n",
    "    # the dac can be modelled by giving those parameters to the ADC.\n",
    "    ADC(sampling_rate), # Digital signal processing\n",
    "    FIR_Filter(n_FIT_taps,FIR_bandwidth,sampling_rate),# Digital signal processing\n",
    "    DAC(sampling_rate),# Digital signal processing\n",
    "    \n",
    "    # Actual betatron phase correction is typically done digitally between ADC and DAC. Because this model is\n",
    "    # linear, this can be done also after the DAC.\n",
    "    HilbertPhaseShiftRegister(n_values, machine.Q_x, delay)\n",
    "]\n",
    "processors_separated_pickup_y = [\n",
    "    ChargeWeighter(),\n",
    "    Lowpass(pickup_bandwidth),\n",
    "    NoiseGenerator(noise_level_y),\n",
    "    ADC(sampling_rate),\n",
    "    FIR_Filter(n_FIT_taps,FIR_bandwidth,sampling_rate),\n",
    "    DAC(sampling_rate),\n",
    "    HilbertPhaseShiftRegister(n_values, machine.Q_y, delay)\n",
    "]\n",
    "\n",
    "pickup_position_x = 1.*2.*pi/float(n_segments)*machine.Q_x\n",
    "pickup_position_y = 1.*2.*pi/float(n_segments)*machine.Q_y\n",
    "\n",
    "pickup_map = PickUp(slicer_separated_example,processors_separated_pickup_x,processors_separated_pickup_y, \n",
    "       pickup_position_x, pickup_position_y)\n",
    "\n",
    "\n",
    "\n",
    "# The model for kicker depends on the power amplifier and the kicker. Frequency response of the power\n",
    "# amplifier might (partially) phase linearized in digital signal processing, or frequency response of the \n",
    "# amplifier might decay shortly after the cutoff frequency. Thus, any of the lowpass filters might be\n",
    "# a good model, but Sinc filter might be the safest option.\n",
    "processors_separated_kicker_x = [Sinc(kicker_bandwidth)]\n",
    "processors_separated_kicker_y = [Sinc(kicker_bandwidth)]\n",
    "\n",
    "\n",
    "# Rememeber to change the index, if the number of processors is changed in the processors list of the pickup\n",
    "registers_x = [processors_separated_pickup_x[6]]\n",
    "registers_y = [processors_separated_pickup_y[6]]\n",
    "\n",
    "kicker_position_x = 2.*2.*pi/float(n_segments)*machine.Q_x\n",
    "kicker_position_y = 2.*2.*pi/float(n_segments)*machine.Q_y\n",
    "\n",
    "xp_per_x = bunch_unkicked.sigma_xp()/bunch_unkicked.sigma_x()\n",
    "yp_per_y = bunch_unkicked.sigma_yp()/bunch_unkicked.sigma_y()\n",
    "\n",
    "kicker_map = Kicker(feedback_gain, slicer_separated_example,\n",
    "                    processors_separated_kicker_x, processors_separated_kicker_y,\n",
    "                    kicker_position_x, kicker_position_y,\n",
    "                    registers_x, registers_y, xp_per_x, yp_per_y)\n",
    "\n",
    "total_map_separated_example = [trans_map[0]] + [pickup_map] + [trans_map[1]] + [kicker_map]\n",
    "for element in trans_map[2:]:\n",
    "    total_map_separated_example += [element]\n",
    "total_map_separated_example += [long_map]\n",
    "    \n",
    "    \n",
    "track(n_turns, bunch_separated_example,total_map_separated_example,tracker_separated_example)"
   ]
  },
  {
   "cell_type": "code",
   "execution_count": null,
   "metadata": {
    "collapsed": false
   },
   "outputs": [],
   "source": [
    "# If details of the feedback system and/or sensitivity of the model for those details is not known, it might\n",
    "# be beter to use much simpler and stabler model for the feedback system. One options is Sinc filter, but it\n",
    "# is good to remember that Sinc filter is not ideal as presented in the previous example \n",
    "# (004_analog_signal_processors.ipynb).\n",
    "\n",
    "bunch_simplest_model = copy.deepcopy(bunch_ref)\n",
    "tracker_simplest_model = BunchTracker(bunch_simplest_model)\n",
    "slicer_simplest_model = copy.deepcopy(slicer_ref)\n",
    "\n",
    "processors_simplest_model_x = [\n",
    "    ChargeWeighter(),\n",
    "    Sinc(kicker_bandwidth)\n",
    "]\n",
    "processors_simplest_model_y = [\n",
    "    ChargeWeighter(),\n",
    "    Sinc(kicker_bandwidth)\n",
    "]\n",
    "\n",
    "feedback_map = OneboxFeedback(feedback_gain,slicer_simplest_model,\n",
    "                              processors_simplest_model_x,processors_simplest_model_y)\n",
    "total_map_simplest_model = [i for i in trans_map] + [long_map] + [feedback_map]\n",
    "\n",
    "track(n_turns, bunch_simplest_model,total_map_simplest_model,tracker_simplest_model)"
   ]
  },
  {
   "cell_type": "code",
   "execution_count": null,
   "metadata": {
    "collapsed": false
   },
   "outputs": [],
   "source": [
    "compare_traces([tracker_OneBox_bunch,tracker_separated_example,tracker_simplest_model],\n",
    "               ['Ideal', 'Delayed', 'Separated'])\n",
    "compare_projections([ bunch_OneBox_bunch, bunch_separated_example,  bunch_simplest_model], \n",
    "                    ['Ideal bunch', 'Complex model', 'Simplest model'])"
   ]
  },
  {
   "cell_type": "code",
   "execution_count": null,
   "metadata": {
    "collapsed": true
   },
   "outputs": [],
   "source": []
  }
 ],
 "metadata": {
  "kernelspec": {
   "display_name": "Python 2",
   "language": "python",
   "name": "python2"
  },
  "language_info": {
   "codemirror_mode": {
    "name": "ipython",
    "version": 2
   },
   "file_extension": ".py",
   "mimetype": "text/x-python",
   "name": "python",
   "nbconvert_exporter": "python",
   "pygments_lexer": "ipython2",
   "version": "2.7.5"
  }
 },
 "nbformat": 4,
 "nbformat_minor": 0
}
