{
 "cells": [
  {
   "cell_type": "code",
   "execution_count": null,
   "metadata": {
    "collapsed": false,
    "deletable": true,
    "editable": true
   },
   "outputs": [],
   "source": [
    "from __future__ import unicode_literals\n",
    "\n",
    "import sys, os\n",
    "BIN = os.path.expanduser(\"../../\")\n",
    "sys.path.append(BIN)\n",
    "\n",
    "import numpy as np\n",
    "from scipy.constants import m_p, c, e, pi\n",
    "import matplotlib.pyplot as plt\n",
    "%matplotlib inline\n",
    "\n",
    "import copy\n",
    "import itertools\n",
    "\n",
    "from test_tools import generate_objects, BunchTracker, track, compare_traces, compare_projections, Machine\n",
    "\n",
    "from PyHEADTAIL_feedback.feedback import OneboxFeedback, Kicker, PickUp\n",
    "from PyHEADTAIL_feedback.processors.multiplication import ChargeWeighter\n",
    "from PyHEADTAIL_feedback.processors.linear_transform import Averager\n",
    "from PyHEADTAIL_feedback.processors.misc import Bypass\n",
    "from PyHEADTAIL_feedback.processors.register import Register, TurnDelay\n",
    "\n",
    "np.random.seed(0)"
   ]
  },
  {
   "cell_type": "code",
   "execution_count": null,
   "metadata": {
    "collapsed": false,
    "deletable": true,
    "editable": true
   },
   "outputs": [],
   "source": [
    "\"\"\" \n",
    "    In this example a more complex feedback system, which is an ideal bunch feedback consisting of\n",
    "    a separate pickup and a kicker is demonstrated. The details of the ideal bunch feedback can be found\n",
    "    from the previous filr (001_ideal_feedbacks.ipynb).\n",
    "\n",
    "\"\"\""
   ]
  },
  {
   "cell_type": "code",
   "execution_count": null,
   "metadata": {
    "collapsed": false,
    "deletable": true,
    "editable": true
   },
   "outputs": [],
   "source": [
    "# Basic parameters for the simulation\n",
    "n_macroparticles = 10000\n",
    "n_slices = 20\n",
    "n_segments = 5\n",
    "n_sigma_z = 3 \n",
    "\n",
    "n_turns = 100\n",
    "\n",
    "# Longitudinal motion of the bunch is not taken into account in this example.\n",
    "machine = Machine(Q_s = 0.00000001)\n",
    "# The longitudinal motion can be included to simulations by uncommenting the following line\n",
    "# machine = Machine(Q_s = 0.0020443)\n",
    "\n",
    "bunch_ref, slicer_ref,trans_map, long_map = generate_objects(machine, n_macroparticles,n_segments, \n",
    "                                                             n_slices,n_sigma_z)\n",
    "bunch_unkicked = copy.deepcopy(bunch_ref)\n"
   ]
  },
  {
   "cell_type": "code",
   "execution_count": null,
   "metadata": {
    "collapsed": false,
    "deletable": true,
    "editable": true
   },
   "outputs": [],
   "source": [
    "# This creates an artificially kicked bunch, which will be damped by using different feedback systems\n",
    "\n",
    "slice_set = bunch_ref.get_slices(slicer_ref, statistics=True)\n",
    "p_idx = slice_set.particles_within_cuts\n",
    "s_idx = slice_set.slice_index_of_particle.take(p_idx)\n",
    "\n",
    "# random kicks\n",
    "kick_x = 0.003*(-1.0+2*np.random.rand(n_slices))\n",
    "kick_y = 0.003*(-1.0+2*np.random.rand(n_slices))\n",
    "\n",
    "for p_id, s_id in itertools.izip(p_idx,s_idx):\n",
    "    bunch_ref.x[p_id] += kick_x[s_id]\n",
    "    bunch_ref.y[p_id] += kick_y[s_id]\n",
    "    \n",
    "bunch_init = copy.deepcopy(bunch_ref)\n",
    "tracker_ref = BunchTracker(bunch_init)\n",
    "maps_ref = [i for i in trans_map] + [long_map]\n",
    "track(n_turns, bunch_init,maps_ref,tracker_ref)"
   ]
  },
  {
   "cell_type": "code",
   "execution_count": null,
   "metadata": {
    "collapsed": true,
    "deletable": true,
    "editable": true
   },
   "outputs": [],
   "source": [
    "# In the used code, the parameter 'gain' is determined as a fraction of the signal which is bypassed\n",
    "# perfectly throught the signal processors\n",
    "\n",
    "# There are two ways to set a gain value. If only one value is given, same value is used both in \n",
    "# horizontal and vertical planes. If two values are given, separed values (x,y) are used for horizontal and\n",
    "# vertical planes.\n",
    "\n",
    "feedback_gain = 0.1\n",
    "# feedback_gain = (0.1,0.4)\n",
    "\n",
    "# Parameters for the registers\n",
    "delay = 1 \n",
    "n_values = 3"
   ]
  },
  {
   "cell_type": "code",
   "execution_count": null,
   "metadata": {
    "collapsed": false,
    "deletable": true,
    "editable": true
   },
   "outputs": [],
   "source": [
    "# A reference feedback system, which is originally introduced in the file 001_ideal_feedbacks.ipynb:\n",
    "\n",
    "bunch_OneBox_bunch = copy.deepcopy(bunch_ref)\n",
    "tracker_OneBox_bunch = BunchTracker(bunch_OneBox_bunch)\n",
    "slicer_OneBox_bunch = copy.deepcopy(slicer_ref)\n",
    "\n",
    "processors_bunch_x = [\n",
    "    ChargeWeighter(normalization = 'segment_average'),\n",
    "    Averager()\n",
    "]\n",
    "processors_bunch_y = [\n",
    "    ChargeWeighter(normalization = 'segment_average'),\n",
    "    Averager()\n",
    "]\n",
    "\n",
    "feedback_map = OneboxFeedback(feedback_gain,slicer_OneBox_bunch,processors_bunch_x,processors_bunch_y,axis='displacement')\n",
    "total_map_OneBox_bunch = [i for i in trans_map] + [long_map] + [feedback_map]\n",
    "\n",
    "track(n_turns, bunch_OneBox_bunch,total_map_OneBox_bunch,tracker_OneBox_bunch)"
   ]
  },
  {
   "cell_type": "code",
   "execution_count": null,
   "metadata": {
    "collapsed": false,
    "deletable": true,
    "editable": true
   },
   "outputs": [],
   "source": [
    "bunch_register_example = copy.deepcopy(bunch_ref)\n",
    "tracker_register_example = BunchTracker(bunch_register_example)\n",
    "slicer_register_example = copy.deepcopy(slicer_ref)\n",
    "\n",
    "# Before implementing a feedback system consisting of the separate pickup and kicker, a new signal processor must be \n",
    "# introduced; a register. Registers is a signal processors which can store and delay a signal in the units of turns. \n",
    "# In order to do that they are also able to rotate the signal in terms of betatron motion.\n",
    "#\n",
    "# At the moment of writing this example, three different types of registers have been implemented \n",
    "# (VectorSumRegister(...), CosineSumRegister(...) and HilbertPhaseShiftRegister(...)). They work\n",
    "# exactly similarly as a part of the signal processor list, but they utilize different mathematical approaches for \n",
    "# betatron phase shift inside the processors\n",
    "#\n",
    "# HilbertPhaseShiftRegister is used in the examples for the demonstrating the use of a register \n",
    "# as a signal processor. At first, one turn delay is implemented by simply adding a register to the lists of signal\n",
    "# processors\n",
    "#\n",
    "# Delay (in the units of turns) is given as an input parameter for the registers. The other required input parameters \n",
    "# for are a number of values stored to register (used for calculating the correct betatron phase for \n",
    "# the output signal), and a betatron tune of the machine for the studied plane.\n",
    "\n",
    "processors_register_example_x = [\n",
    "    ChargeWeighter(normalization = 'segment_average'),\n",
    "    Averager(),\n",
    "    TurnDelay(delay, machine.Q_x, n_values)\n",
    "]\n",
    "processors_register_example_y = [\n",
    "    ChargeWeighter(normalization = 'segment_average'),\n",
    "    Averager(),\n",
    "    TurnDelay(delay, machine.Q_y, n_values)\n",
    "]\n",
    "\n",
    "feedback_map = OneboxFeedback(feedback_gain,slicer_register_example,\n",
    "                              processors_register_example_x,processors_register_example_y,axis='displacement')\n",
    "total_map_register_example = [feedback_map] + [i for i in trans_map] + [long_map]\n",
    "\n",
    "track(n_turns, bunch_register_example,total_map_register_example,tracker_register_example)\n"
   ]
  },
  {
   "cell_type": "code",
   "execution_count": null,
   "metadata": {
    "collapsed": false,
    "deletable": true,
    "editable": true
   },
   "outputs": [],
   "source": [
    "bunch_separated_example = copy.deepcopy(bunch_ref)\n",
    "tracker_separated_example = BunchTracker(bunch_separated_example)\n",
    "slicer_separated_example = copy.deepcopy(slicer_ref)\n",
    "\n",
    "# As it was introduced, registers are used for storing and rotating signals in the betatron phase. Thus, them can be also \n",
    "# used for rotating a signal from one location (e.g. pickup) to the other (e.g. kicker) in the accelerator.\n",
    "#\n",
    "# A feedback system consisting of a separated pickup and kicker can be implemented similarly to the case\n",
    "# of OneboxFeedback. Instead of adding OneboxFeedback object to the total map of PyHEADTAIL, separated Pickup(...) and \n",
    "# Kicker(...) objects are added to the their correct locations. The signals can be processed in in both the pickup and \n",
    "# the kicker by using signal processors. The signal from the pickup is transferred into the kicker by giving \n",
    "# a reference list of the registers located in the pickup signal processors as an input parameter to the kicker. \n",
    "\n",
    "# The signal rotation in the betatron phase requires two accelerator specific parameters from the locations of the pickup\n",
    "# and the kicker. The value of the beta function is related to the transverse size of the beam in the location and \n",
    "# the phase advance describes a betatron phase angle from the reference point of the accelerator. These parameters are\n",
    "# passed into the pickup and kicker by using a namedtuple BeamParameters('phase_advance','beta_function') from \n",
    "# the file 'signals.py'.\n",
    "# \n",
    "# In our idealized accelerator the beta function is constanst around the accelerator, which means that the injection \n",
    "# values for the beta are used both for the pickup and the kicker. \n",
    "\n",
    "# The total betatron phase angle over the accelerator is 2*pi*Q. In this example, the accelerator is divided into \n",
    "# a number of equally length segments given in the variable 'n_segments'. Thus, the segment length in the betatron phase \n",
    "# is 2*pi*Q/n_segments. The location of the pickup is chosen to be after the first segment and the location of the kicker\n",
    "# after the second segment, i.e. \n",
    "\n",
    "pickup_beta_x = machine.beta_x_inj\n",
    "pickup_beta_y = machine.beta_y_inj\n",
    "pickup_location_x = 1.*2.*pi/float(n_segments)*machine.Q_x\n",
    "print pickup_location_x\n",
    "pickup_location_y = 1.*2.*pi/float(n_segments)*machine.Q_y\n",
    "\n",
    "kicker_beta_x = machine.beta_x_inj\n",
    "kicker_beta_y = machine.beta_y_inj\n",
    "kicker_location_x = 2.*2.*pi/float(n_segments)*machine.Q_x\n",
    "print kicker_location_x\n",
    "kicker_location_y = 2.*2.*pi/float(n_segments)*machine.Q_y\n",
    "\n",
    "# Exactly same signal processors as in the previous example are used in the pickup\n",
    "processors_pickup_x = [\n",
    "    ChargeWeighter(normalization = 'segment_average'),\n",
    "    Averager(),\n",
    "    Register(n_values, machine.Q_x, delay)\n",
    "]\n",
    "processors_pickup_y = [\n",
    "    ChargeWeighter(normalization = 'segment_average'),\n",
    "    Averager(),\n",
    "    Register(n_values, machine.Q_y, delay)\n",
    "]\n",
    "\n",
    "# The map element is created by giving a slicer object, the signal processors and the beam parameters as input parameters\n",
    "pickup_map = PickUp(slicer_separated_example,processors_pickup_x,processors_pickup_y, pickup_location_x, pickup_beta_x,\n",
    "                 pickup_location_y, pickup_beta_y)\n",
    "\n",
    "\n",
    "# The kicker can be created very similarly to the pickup. In addition to the PickUp,\n",
    "# a gain value and a list the register references are given to the kicker\n",
    "\n",
    "# In this example, the signals are not modified in the kicker, i.e. only bypass processors are used\n",
    "processors_kicker_x = [Bypass()]\n",
    "processors_kicker_y = [Bypass()]\n",
    "\n",
    "# A list of references to the registers in the signal processors(s) of the pickup(s)\n",
    "registers_x = [processors_pickup_x[-1]]\n",
    "registers_y = [processors_pickup_y[-1]]\n",
    "\n",
    "kicker_map = Kicker(feedback_gain, slicer_separated_example, processors_kicker_x, processors_kicker_y,\n",
    "                    registers_x, registers_y, kicker_location_x, kicker_beta_x, kicker_location_y, kicker_beta_y,\n",
    "                    combiner='hilbert')\n",
    "\n",
    "# Finally the maps must be added to correct slots of the total map determined by the locations of \n",
    "# the picup and the kicker\n",
    "total_map_separated_example = [trans_map[0]] + [pickup_map] + [trans_map[1]] + [kicker_map]\n",
    "for element in trans_map[2:]:\n",
    "    total_map_separated_example += [element]\n",
    "total_map_separated_example += [long_map]\n",
    "    \n",
    "    \n",
    "track(n_turns, bunch_separated_example,total_map_separated_example,tracker_separated_example)"
   ]
  },
  {
   "cell_type": "code",
   "execution_count": null,
   "metadata": {
    "collapsed": false,
    "deletable": true,
    "editable": true
   },
   "outputs": [],
   "source": [
    "# In here, the traces and the projections from different implementations of the feedback system are compared.\n",
    "# Note the scale in the emittance figures.\n",
    "\n",
    "compare_traces([tracker_OneBox_bunch,tracker_register_example,tracker_separated_example],\n",
    "               ['Ideal', 'Delayed', 'Separated'])\n",
    "compare_projections([ bunch_OneBox_bunch,  bunch_register_example, bunch_separated_example], \n",
    "                    ['Ideal', 'Delayed', 'Separated'])\n",
    "\n",
    "# compare_traces([tracker_OneBox_bunch,tracker_register_example],\n",
    "#                ['Ideal', 'Delayed', 'Separated'])\n",
    "# compare_projections([ bunch_OneBox_bunch,  bunch_register_example], \n",
    "#                     ['Ideal', 'Delayed', 'Separated'])"
   ]
  },
  {
   "cell_type": "markdown",
   "metadata": {
    "collapsed": true,
    "deletable": true,
    "editable": true
   },
   "source": [
    "Jani Komppula, CERN, 2017"
   ]
  },
  {
   "cell_type": "code",
   "execution_count": null,
   "metadata": {
    "collapsed": true,
    "deletable": true,
    "editable": true
   },
   "outputs": [],
   "source": []
  }
 ],
 "metadata": {
  "kernelspec": {
   "display_name": "Python 2",
   "language": "python",
   "name": "python2"
  },
  "language_info": {
   "codemirror_mode": {
    "name": "ipython",
    "version": 2
   },
   "file_extension": ".py",
   "mimetype": "text/x-python",
   "name": "python",
   "nbconvert_exporter": "python",
   "pygments_lexer": "ipython2",
   "version": "2.7.8"
  }
 },
 "nbformat": 4,
 "nbformat_minor": 0
}
