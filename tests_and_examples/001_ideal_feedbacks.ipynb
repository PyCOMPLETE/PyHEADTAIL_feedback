{
 "cells": [
  {
   "cell_type": "code",
   "execution_count": null,
   "metadata": {
    "collapsed": false,
    "deletable": true,
    "editable": true
   },
   "outputs": [],
   "source": [
    "from __future__ import unicode_literals\n",
    "\n",
    "import sys, os\n",
    "BIN = os.path.expanduser(\"../../\")\n",
    "sys.path.append(BIN)\n",
    "\n",
    "import numpy as np\n",
    "from scipy.constants import m_p, c, e\n",
    "import matplotlib.pyplot as plt\n",
    "%matplotlib inline\n",
    "\n",
    "import copy\n",
    "import itertools\n",
    "\n",
    "from test_tools import Machine, generate_objects, BunchTracker, track, compare_traces, compare_projections\n",
    "\n",
    "from PyHEADTAIL_feedback.feedback import IdealBunchFeedback,IdealSliceFeedback,OneboxFeedback\n",
    "from PyHEADTAIL_feedback.processors.multiplication import ChargeWeighter\n",
    "from PyHEADTAIL_feedback.processors.linear_transform import Averager\n",
    "from PyHEADTAIL_feedback.processors.misc import Bypass\n",
    "\n",
    "np.random.seed(0)"
   ]
  },
  {
   "cell_type": "code",
   "execution_count": null,
   "metadata": {
    "collapsed": false,
    "deletable": true,
    "editable": true
   },
   "outputs": [],
   "source": [
    "\"\"\" \n",
    "    This example shows how to use ideal feedback systems in PyHEADTAIL simulations. In order to avoid writing\n",
    "    unnecessary code here, the bunch, slicer and transfer maps are created by using functions and classes\n",
    "    from the file 'test_tools.py' in this folder.\n",
    "\"\"\""
   ]
  },
  {
   "cell_type": "code",
   "execution_count": null,
   "metadata": {
    "collapsed": false,
    "deletable": true,
    "editable": true
   },
   "outputs": [],
   "source": [
    "# Basic parameters for the simulation\n",
    "n_macroparticles = 10000\n",
    "n_slices = 20\n",
    "n_segments = 5\n",
    "n_sigma_z = 4 \n",
    "\n",
    "n_turns = 150\n",
    "\n",
    "# Longitudinal motion of the bunch is not taken into account in this example.\n",
    "machine = Machine(Q_s = 0.00000001)\n",
    "# The longitudinal motion can be included to simulations by uncommenting the following line\n",
    "# machine = Machine(Q_s = 0.0020443)\n",
    "\n",
    "bunch_ref, slicer_ref,trans_map, long_map = generate_objects(machine, n_macroparticles,n_segments, \n",
    "                                                             n_slices,n_sigma_z)"
   ]
  },
  {
   "cell_type": "code",
   "execution_count": null,
   "metadata": {
    "collapsed": false,
    "deletable": true,
    "editable": true
   },
   "outputs": [],
   "source": [
    "# This creates an artificially kicked bunch, which will be damped by using different feedback systems\n",
    "\n",
    "slice_set = bunch_ref.get_slices(slicer_ref, statistics=True)\n",
    "p_idx = slice_set.particles_within_cuts\n",
    "s_idx = slice_set.slice_index_of_particle.take(p_idx)\n",
    "\n",
    "# Random kicks for slices\n",
    "kick_x = 0.003*(-1.0+2*np.random.rand(n_slices))\n",
    "kick_y = 0.003*(-1.0+2*np.random.rand(n_slices))\n",
    "\n",
    "# A bunch kick\n",
    "# kick_x = 0.003*np.ones(n_slices)\n",
    "# kick_y = 0.003*np.ones(n_slices)\n",
    "\n",
    "for p_id, s_id in itertools.izip(p_idx,s_idx):\n",
    "    bunch_ref.x[p_id] += kick_x[s_id]\n",
    "    bunch_ref.y[p_id] += kick_y[s_id]\n",
    "    \n",
    "bunch_init = copy.deepcopy(bunch_ref)\n",
    "tracker_ref = BunchTracker(bunch_init)\n",
    "maps_ref = [i for i in trans_map] + [long_map]\n",
    "track(n_turns, bunch_init,maps_ref,tracker_ref)"
   ]
  },
  {
   "cell_type": "code",
   "execution_count": null,
   "metadata": {
    "collapsed": false,
    "deletable": true,
    "editable": true
   },
   "outputs": [],
   "source": [
    "# In the used code, the parameter 'gain' is determined as a fraction of the signal which is bypassed\n",
    "# perfectly throught the signal processors\n",
    "\n",
    "# There are two ways to set a gain value. If only one value is given, same value is used both in \n",
    "# horizontal and vertical planes. If two values are given, separed values (x,y) are used for horizontal and\n",
    "# vertical planes.\n",
    "\n",
    "feedback_gain = 0.1\n",
    "# feedback_gain = (0.1,0.4)"
   ]
  },
  {
   "cell_type": "code",
   "execution_count": null,
   "metadata": {
    "collapsed": false,
    "deletable": true,
    "editable": true
   },
   "outputs": [],
   "source": [
    "# The simplest possible feedback is a bunch feedback. It corrects the mean_xp and mean_yp values of the bunch \n",
    "# by a fraction of gain.\n",
    "\n",
    "# The bunch is created by copying the bunch created earlier\n",
    "bunch_IdealBunchFB = copy.deepcopy(bunch_ref)\n",
    "\n",
    "# A tracker object from test_tools.py is used for recording the values of the bunch during the simulation\n",
    "tracker_IdealBunchFB = BunchTracker(bunch_IdealBunchFB)\n",
    "\n",
    "# The feedback system itself is a PyHEADTAIL map element, which is created by creating IdealBunchFeedback(...) object.\n",
    "feedback_map = IdealBunchFeedback(feedback_gain)\n",
    "# The map element is added to the total map for tracking\n",
    "total_map_FB = [i for i in trans_map] + [long_map] + [feedback_map]\n",
    "\n",
    "# The actual simulation is performed by calling track method from test_tools.py\n",
    "track(n_turns, bunch_IdealBunchFB,total_map_FB,tracker_IdealBunchFB)"
   ]
  },
  {
   "cell_type": "code",
   "execution_count": null,
   "metadata": {
    "collapsed": false,
    "deletable": true,
    "editable": true
   },
   "outputs": [],
   "source": [
    "bunch_IdealSliceFB = copy.deepcopy(bunch_ref)\n",
    "tracker_IdealSliceFB = BunchTracker(bunch_IdealSliceFB)\n",
    "slicer_IdealSliceFB = copy.deepcopy(slicer_ref)\n",
    "\n",
    "# The most idealistic feedback is a slice feedback. It correct the mean_xp and mean_yp of the slices by \n",
    "# a fraction of gain\n",
    "\n",
    "# A map element for the ideal slice feedback is created by creating IdealSliceFeedback(...) object. The object requires\n",
    "# a PyHEADTAIL slicer object as an input parameter for slicing.\n",
    "feedback_map = IdealSliceFeedback(feedback_gain,slicer_IdealSliceFB)\n",
    "total_map_FB = [i for i in trans_map] + [long_map] + [feedback_map]\n",
    "\n",
    "track(n_turns, bunch_IdealSliceFB,total_map_FB,tracker_IdealSliceFB)"
   ]
  },
  {
   "cell_type": "code",
   "execution_count": null,
   "metadata": {
    "collapsed": false,
    "deletable": true,
    "editable": true
   },
   "outputs": [],
   "source": [
    "bunch_OneBox_slice = copy.deepcopy(bunch_ref)\n",
    "tracker_OneBox_slice = BunchTracker(bunch_OneBox_slice)\n",
    "slicer_OneBox_slice = copy.deepcopy(slicer_ref)\n",
    "\n",
    "# The examples above utilize separately programmed ideal feedback systems. The actual feedback module is a modular\n",
    "# systems. The process inside the module can be divided into three steps:\n",
    "#     1) The mean_xp/mean_yp or mean_x/mean_y values from the slices are taken as an input signal\n",
    "#     2) The signal is passed through signal processors, which modifyes the signal\n",
    "#     3) The mean_xp/mean_yp or mean_x/mean_y values of the slices are corrected by a fraction of gain from the signal\n",
    "#\n",
    "# The steps 1-3 can be done in one PyHEADTAIL map element by using idealized OneboxFeedback or in separated map elements \n",
    "# representing pickups and kickers\n",
    "#\n",
    "# In order to demonstrade the concept of the signal processors, the ideal feedback systems are implemented by using \n",
    "# OneboxFeedback. The simplest feedback system to implement is the ideal slice feedback:\n",
    "#\n",
    "# The signal processors are given to the PyHEADTAIL map element in separate lists for horizontal and vertical planes.\n",
    "# In the ideal slice feedback, signals go through the signal processors without modifications. Thus, the lists of signal\n",
    "# processors contain only Bypass() processors.\n",
    "\n",
    "processors_slice_x = [Bypass()]\n",
    "processors_slice_y = [Bypass()]\n",
    "\n",
    "# A PyHEADTAIL map element is created by calling OneboxFeedback(...) object. OneboxFeedback requires a gain\n",
    "# value, a PyHEADTAIL slicer object and the lists of signal processors for horizontal and vertical planes\n",
    "# as input parameters\n",
    "feedback_map = OneboxFeedback(feedback_gain,slicer_OneBox_slice,processors_slice_x,processors_slice_y,axis='displacement')\n",
    "total_map_OneBox_slice = [i for i in trans_map] + [long_map] + [feedback_map]\n",
    "\n",
    "track(n_turns, bunch_OneBox_slice,total_map_OneBox_slice,tracker_OneBox_slice)"
   ]
  },
  {
   "cell_type": "code",
   "execution_count": null,
   "metadata": {
    "collapsed": false,
    "deletable": true,
    "editable": true
   },
   "outputs": [],
   "source": [
    "bunch_OneBox_bunch = copy.deepcopy(bunch_ref)\n",
    "tracker_OneBox_bunch = BunchTracker(bunch_OneBox_bunch)\n",
    "slicer_OneBox_bunch = copy.deepcopy(slicer_ref)\n",
    "\n",
    "# The ideal bunch feedback makes corrections to mean xp/yp values of the bunch. In order to implement this \n",
    "# the input signal (mean xp/yp values of the slices) must be modified into the mean xp/yp value of the bunch \n",
    "# by using signal processors. The mean xp/yp value of the bunch is a macroparticle count weighted average of\n",
    "# displacements of the individual slices. This can be implemented by using signal processors ChargeWeighter(...)\n",
    "# and Averager()\n",
    "\n",
    "processors_bunch_x = [\n",
    "    ChargeWeighter(normalization = 'segment_average'),\n",
    "    Averager()\n",
    "]\n",
    "processors_bunch_y = [\n",
    "    ChargeWeighter(normalization = 'segment_average'),\n",
    "    Averager()\n",
    "]\n",
    "\n",
    "# The code for the PyHEADTAIL map element is indentical to the code written in the previous example\n",
    "\n",
    "feedback_map = OneboxFeedback(feedback_gain,slicer_OneBox_bunch,processors_bunch_x,processors_bunch_y,axis='displacement')\n",
    "total_map_OneBox_bunch = [i for i in trans_map] + [long_map] + [feedback_map]\n",
    "\n",
    "track(n_turns, bunch_OneBox_bunch,total_map_OneBox_bunch,tracker_OneBox_bunch)"
   ]
  },
  {
   "cell_type": "code",
   "execution_count": null,
   "metadata": {
    "collapsed": false,
    "deletable": true,
    "editable": true
   },
   "outputs": [],
   "source": [
    "# The traces from the ideal slice and the ideal bunch feedbacks are plotted as well as \n",
    "# the particle projections of the bunches after the simulations\n",
    "\n",
    "compare_traces([tracker_ref,tracker_IdealSliceFB,tracker_IdealBunchFB],\n",
    "               ['Reference, no FB', 'Ideal slice', 'Ideal bunch'])\n",
    "compare_projections([bunch_init, bunch_IdealSliceFB, bunch_IdealBunchFB], \n",
    "                    ['Reference, no FB', 'Ideal slice FB', 'Ideal bunch FB'])"
   ]
  },
  {
   "cell_type": "code",
   "execution_count": null,
   "metadata": {
    "collapsed": false,
    "deletable": true,
    "editable": true
   },
   "outputs": [],
   "source": [
    "# The traces and particle projections from the ideal slice and the idal bunch feedbacks are compared \n",
    "# to the those implemented with OneboxFeedback\n",
    "\n",
    "compare_traces([tracker_IdealSliceFB,tracker_IdealBunchFB, tracker_OneBox_slice, tracker_OneBox_bunch],\n",
    "               ['Ideal slice', 'Ideal bunch','OneBox slice', 'OneBox bunch'])\n",
    "compare_projections([bunch_IdealSliceFB, bunch_IdealBunchFB,bunch_OneBox_slice,bunch_OneBox_bunch], \n",
    "                    ['Ideal slice FB', 'Ideal bunch FB','OneBox slice', 'OneBox bunch'])"
   ]
  },
  {
   "cell_type": "markdown",
   "metadata": {
    "collapsed": true,
    "deletable": true,
    "editable": true
   },
   "source": [
    "Jani Komppula, CERN, 2017"
   ]
  },
  {
   "cell_type": "code",
   "execution_count": null,
   "metadata": {
    "collapsed": true,
    "deletable": true,
    "editable": true
   },
   "outputs": [],
   "source": []
  }
 ],
 "metadata": {
  "kernelspec": {
   "display_name": "Python 2",
   "language": "python",
   "name": "python2"
  },
  "language_info": {
   "codemirror_mode": {
    "name": "ipython",
    "version": 2
   },
   "file_extension": ".py",
   "mimetype": "text/x-python",
   "name": "python",
   "nbconvert_exporter": "python",
   "pygments_lexer": "ipython2",
   "version": "2.7.8"
  }
 },
 "nbformat": 4,
 "nbformat_minor": 0
}
