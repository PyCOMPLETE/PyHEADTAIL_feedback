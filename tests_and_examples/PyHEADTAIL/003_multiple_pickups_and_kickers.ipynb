{
 "cells": [
  {
   "cell_type": "code",
   "execution_count": null,
   "metadata": {
    "collapsed": false,
    "deletable": true,
    "editable": true
   },
   "outputs": [],
   "source": [
    "from __future__ import unicode_literals\n",
    "\n",
    "import sys, os\n",
    "BIN = os.path.expanduser(\"../../\")\n",
    "sys.path.append(BIN)\n",
    "\n",
    "import numpy as np\n",
    "from scipy.constants import m_p, c, e, pi\n",
    "import matplotlib.pyplot as plt\n",
    "%matplotlib inline\n",
    "\n",
    "import copy\n",
    "import itertools\n",
    "\n",
    "from test_tools import generate_objects, BunchTracker, track, compare_traces, compare_projections, Machine\n",
    "\n",
    "from PyHEADTAIL_feedback.feedback import OneboxFeedback, Kicker, PickUp\n",
    "from PyHEADTAIL_feedback.processors.multiplication import ChargeWeighter\n",
    "from PyHEADTAIL_feedback.processors.linear_transform import Averager\n",
    "from PyHEADTAIL_feedback.processors.misc import Bypass\n",
    "from PyHEADTAIL_feedback.processors.register import Register\n",
    "\n",
    "np.random.seed(0)"
   ]
  },
  {
   "cell_type": "code",
   "execution_count": null,
   "metadata": {
    "collapsed": false,
    "deletable": true,
    "editable": true
   },
   "outputs": [],
   "source": [
    "\"\"\" \n",
    "    In this example, a feedback system consisting of multiple pickups and kickers is demonstrated. It differs\n",
    "    very little from the previous example (002_separated_pickup_and_kicker), but it might look messy\n",
    "    because multiple pickups and kickers must be initialized.   \n",
    "\"\"\""
   ]
  },
  {
   "cell_type": "code",
   "execution_count": null,
   "metadata": {
    "collapsed": false,
    "deletable": true,
    "editable": true
   },
   "outputs": [],
   "source": [
    "# Basic parameters for the simulation\n",
    "n_macroparticles = 10000\n",
    "n_slices = 20\n",
    "n_segments = 5\n",
    "n_sigma_z = 3 \n",
    "\n",
    "n_turns = 150\n",
    "\n",
    "# Longitudinal motion of the bunch is not taken into account in this example.\n",
    "machine = Machine(Q_s = 0.00000001)\n",
    "# The longitudinal motion can be included to simulations by uncommenting the following line\n",
    "# machine = Machine(Q_s = 0.0020443)\n",
    "\n",
    "bunch_ref, slicer_ref,trans_map, long_map = generate_objects(machine, n_macroparticles,n_segments, \n",
    "                                                             n_slices,n_sigma_z)\n",
    "bunch_unkicked = copy.deepcopy(bunch_ref)"
   ]
  },
  {
   "cell_type": "code",
   "execution_count": null,
   "metadata": {
    "collapsed": false,
    "deletable": true,
    "editable": true
   },
   "outputs": [],
   "source": [
    "# This creates an artificially kicked bunch, which will be damped with different feedback systems\n",
    "\n",
    "slice_set = bunch_ref.get_slices(slicer_ref, statistics=True)\n",
    "p_idx = slice_set.particles_within_cuts\n",
    "s_idx = slice_set.slice_index_of_particle.take(p_idx)\n",
    "\n",
    "# random kicks\n",
    "kick_x = 0.003*(-1.0+2*np.random.rand(n_slices))\n",
    "kick_y = 0.003*(-1.0+2*np.random.rand(n_slices))\n",
    "\n",
    "for p_id, s_id in itertools.izip(p_idx,s_idx):\n",
    "    bunch_ref.x[p_id] += kick_x[s_id]\n",
    "    bunch_ref.y[p_id] += kick_y[s_id]\n",
    "    \n",
    "bunch_init = copy.deepcopy(bunch_ref)\n",
    "tracker_ref = BunchTracker(bunch_init)\n",
    "maps_ref = [i for i in trans_map] + [long_map]\n",
    "track(n_turns, bunch_init,maps_ref,tracker_ref)"
   ]
  },
  {
   "cell_type": "code",
   "execution_count": null,
   "metadata": {
    "collapsed": false,
    "deletable": true,
    "editable": true
   },
   "outputs": [],
   "source": [
    "feedback_gain = 0.01\n",
    "# feedback_gain = (0.01,0.01)\n",
    "\n",
    "# Parameters for the registers\n",
    "delay = 1 \n",
    "n_values = 3"
   ]
  },
  {
   "cell_type": "code",
   "execution_count": null,
   "metadata": {
    "collapsed": false,
    "deletable": true,
    "editable": true
   },
   "outputs": [],
   "source": [
    "# This creates an artificially kicked bunch, which will be damped by using different feedback systems\n",
    "\n",
    "bunch_OneBox_bunch = copy.deepcopy(bunch_ref)\n",
    "tracker_OneBox_bunch = BunchTracker(bunch_OneBox_bunch)\n",
    "slicer_OneBox_bunch = copy.deepcopy(slicer_ref)\n",
    "\n",
    "processors_bunch_x = [\n",
    "    ChargeWeighter(normalization = 'segment_average'),\n",
    "    Averager()\n",
    "]\n",
    "processors_bunch_y = [\n",
    "    ChargeWeighter(normalization = 'segment_average'),\n",
    "    Averager()\n",
    "]\n",
    "\n",
    "# Because two kickers are used in this example, two times higher gain is used in this reference system\n",
    "# which consists of one kicker\n",
    "feedback_map = OneboxFeedback(2.*feedback_gain,slicer_OneBox_bunch,processors_bunch_x,processors_bunch_y)\n",
    "total_map_OneBox_bunch = [i for i in trans_map] + [long_map] + [feedback_map]\n",
    "\n",
    "track(n_turns, bunch_OneBox_bunch,total_map_OneBox_bunch,tracker_OneBox_bunch)\n",
    "# If you don't understand details of the code above, please study examples from \n",
    "# the file 001_ideal_feedbacks.ipynb"
   ]
  },
  {
   "cell_type": "code",
   "execution_count": null,
   "metadata": {
    "collapsed": false,
    "deletable": true,
    "editable": true
   },
   "outputs": [],
   "source": [
    "bunch_multi_object = copy.deepcopy(bunch_ref)\n",
    "tracker_multi_object = BunchTracker(bunch_multi_object)\n",
    "slicer_multi_object = copy.deepcopy(slicer_ref)"
   ]
  },
  {
   "cell_type": "code",
   "execution_count": null,
   "metadata": {
    "collapsed": false,
    "deletable": true,
    "editable": true
   },
   "outputs": [],
   "source": [
    "# Three pickups are initialized in this cell. The exactly same code as in the previous example\n",
    "# (002_separated_pickup_and_kicker.ipynb) is also used in this example\n",
    "\n",
    "# In this example, it is chosen that the pickups are located after the first, second and third segments of the trans_map.\n",
    "# Trans_map is divided into a number of segments determined in the variable 'n_segments'\n",
    "\n",
    "##############\n",
    "## Pickup 1 ##\n",
    "##############\n",
    "pickup1_beta_x = machine.beta_x_inj\n",
    "pickup1_beta_y = machine.beta_y_inj\n",
    "pickup1_location_x = 1.*2.*pi/float(n_segments)*machine.Q_x\n",
    "pickup1_location_y = 1.*2.*pi/float(n_segments)*machine.Q_y\n",
    "\n",
    "pickup1_processors_x = [\n",
    "    ChargeWeighter(normalization = 'segment_average'),\n",
    "    Averager(),\n",
    "    Register(n_values, machine.Q_x, delay)\n",
    "]\n",
    "pickup1_processors_y = [\n",
    "    ChargeWeighter(normalization = 'segment_average'),\n",
    "    Averager(),\n",
    "    Register(n_values, machine.Q_y, delay)\n",
    "]\n",
    "\n",
    "pickup1_map = PickUp(slicer_multi_object,\n",
    "                     pickup1_processors_x,pickup1_processors_y, \n",
    "                     pickup1_location_x, pickup1_beta_x,\n",
    "                     pickup1_location_y, pickup1_beta_y)\n",
    "\n",
    "##############\n",
    "## Pickup 2 ##\n",
    "##############\n",
    "pickup2_beta_x = machine.beta_x_inj\n",
    "pickup2_beta_y = machine.beta_y_inj\n",
    "pickup2_location_x = 2.*2.*pi/float(n_segments)*machine.Q_x\n",
    "pickup2_location_y = 2.*2.*pi/float(n_segments)*machine.Q_y\n",
    "\n",
    "pickup2_processors_x = [\n",
    "    ChargeWeighter(normalization = 'segment_average'),\n",
    "    Averager(),\n",
    "    Register(n_values, machine.Q_x, delay)\n",
    "]\n",
    "pickup2_processors_y = [\n",
    "    ChargeWeighter(normalization = 'segment_average'),\n",
    "    Averager(),\n",
    "    Register(n_values, machine.Q_y, delay)\n",
    "]\n",
    "\n",
    "pickup2_map = PickUp(slicer_multi_object,\n",
    "                     pickup2_processors_x,pickup2_processors_y, \n",
    "                     pickup2_location_x, pickup2_beta_x,\n",
    "                     pickup2_location_y, pickup2_beta_y)\n",
    "\n",
    "##############\n",
    "## Pickup 3 ##\n",
    "##############\n",
    "pickup3_beta_x = machine.beta_x_inj\n",
    "pickup3_beta_y = machine.beta_y_inj\n",
    "pickup3_location_x = 3.*2.*pi/float(n_segments)*machine.Q_x\n",
    "pickup3_location_y = 3.*2.*pi/float(n_segments)*machine.Q_y\n",
    "\n",
    "pickup3_processors_x = [\n",
    "    ChargeWeighter(normalization = 'segment_average'),\n",
    "    Averager(),\n",
    "    Register(n_values, machine.Q_x, delay)\n",
    "]\n",
    "pickup3_processors_y = [\n",
    "    ChargeWeighter(normalization = 'segment_average'),\n",
    "    Averager(),\n",
    "    Register(n_values, machine.Q_y, delay)\n",
    "]\n",
    "\n",
    "pickup3_map = PickUp(slicer_multi_object,\n",
    "                     pickup3_processors_x, pickup3_processors_y, \n",
    "                     pickup3_location_x, pickup3_beta_x,\n",
    "                     pickup3_location_y, pickup3_beta_y)"
   ]
  },
  {
   "cell_type": "code",
   "execution_count": null,
   "metadata": {
    "collapsed": false,
    "deletable": true,
    "editable": true
   },
   "outputs": [],
   "source": [
    "# Two kickers are initialized in this cell. The exactly same code as in the previous example\n",
    "# (002_separated_pickup_and_kicker.ipynb) is also used in this example. The only difference is that references for\n",
    "# multiple register are given as an input parameter.\n",
    "#\n",
    "# In this example, it is chosen that the pickups are located after the first, second and fourth segment of the trans_map.\n",
    "# Furthermore, it was chosen that Kicker 1 utilizes signals from pickups 1 and 2 and Kicker 2 utilizes signals from \n",
    "# the pickups 1 and 3.\n",
    "\n",
    "##############\n",
    "## Kicker 1 ##\n",
    "##############\n",
    "kicker1_processors_x = [Bypass()]\n",
    "kicker1_processors_y = [Bypass()]\n",
    "\n",
    "kicker1_beta_x = machine.beta_x_inj\n",
    "kicker1_beta_y = machine.beta_y_inj\n",
    "kicker1_location_x = 2.*2.*pi/float(n_segments)*machine.Q_x\n",
    "kicker1_location_y = 2.*2.*pi/float(n_segments)*machine.Q_y\n",
    "\n",
    "kicker1_registers_x = [\n",
    "    pickup1_processors_x[-1],\n",
    "    pickup2_processors_x[-1]\n",
    "]\n",
    "kicker1_registers_y = [\n",
    "    pickup1_processors_y[-1],\n",
    "    pickup2_processors_y[-1]\n",
    "]\n",
    "\n",
    "kicker1_map = Kicker(feedback_gain, slicer_multi_object, \n",
    "                     kicker1_processors_x, kicker1_processors_y,\n",
    "                     kicker1_registers_x, kicker1_registers_y,\n",
    "                     kicker1_location_x, kicker1_beta_x,\n",
    "                     kicker1_location_y, kicker1_beta_y)\n",
    "\n",
    "##############\n",
    "## Kicker 2 ##\n",
    "##############\n",
    "kicker2_processors_x = [Bypass()]\n",
    "kicker2_processors_y = [Bypass()]\n",
    "\n",
    "kicker2_beta_x = machine.beta_x_inj\n",
    "kicker2_beta_y = machine.beta_y_inj\n",
    "kicker2_location_x = 4.*2.*pi/float(n_segments)*machine.Q_x\n",
    "kicker2_location_y = 4.*2.*pi/float(n_segments)*machine.Q_y\n",
    "\n",
    "kicker2_registers_x = [\n",
    "    pickup1_processors_x[-1],\n",
    "    pickup3_processors_x[-1]\n",
    "]\n",
    "kicker2_registers_y = [\n",
    "    pickup1_processors_y[-1],\n",
    "    pickup3_processors_y[-1]\n",
    "]\n",
    "\n",
    "kicker2_map = Kicker(feedback_gain, slicer_multi_object, \n",
    "                     kicker2_processors_x, kicker2_processors_y,\n",
    "                     kicker2_registers_x, kicker2_registers_y,\n",
    "                     kicker2_location_x, kicker2_beta_x,\n",
    "                     kicker2_location_y, kicker2_beta_y)"
   ]
  },
  {
   "cell_type": "code",
   "execution_count": null,
   "metadata": {
    "collapsed": false,
    "deletable": true,
    "editable": true
   },
   "outputs": [],
   "source": [
    "# After that the maps of the pickups and the kickers must be added to correct slots of the total map \n",
    "# determined by the locations of the picups and the kickers\n",
    "total_map_multi_object = [trans_map[0]] + [pickup1_map] + [trans_map[1]] + [pickup2_map] + [kicker1_map] + [trans_map[2]]+ [pickup3_map] + [trans_map[3]] + [kicker2_map]\n",
    "for element in trans_map[4:]:\n",
    "    total_map_multi_object += [element]\n",
    "total_map_multi_object += [long_map]\n",
    "    \n",
    "track(n_turns, bunch_multi_object,total_map_multi_object,tracker_multi_object)"
   ]
  },
  {
   "cell_type": "code",
   "execution_count": null,
   "metadata": {
    "collapsed": false,
    "deletable": true,
    "editable": true
   },
   "outputs": [],
   "source": [
    "# In here, the traces and the projections from different implementations of the feedback system are compared.\n",
    "# Note the scale in the emittance figures.\n",
    "\n",
    "compare_traces([tracker_OneBox_bunch,tracker_multi_object],\n",
    "               ['Ideal', 'Multiple pickups and kickers'])\n",
    "compare_projections([ bunch_OneBox_bunch,  bunch_multi_object], \n",
    "                    ['Ideal', 'Multiple pickups and kickers'])"
   ]
  },
  {
   "cell_type": "markdown",
   "metadata": {
    "collapsed": true,
    "deletable": true,
    "editable": true
   },
   "source": [
    "Jani Komppula, CERN, 2017"
   ]
  },
  {
   "cell_type": "code",
   "execution_count": null,
   "metadata": {
    "collapsed": true,
    "deletable": true,
    "editable": true
   },
   "outputs": [],
   "source": []
  }
 ],
 "metadata": {
  "kernelspec": {
   "display_name": "Python 2",
   "language": "python",
   "name": "python2"
  },
  "language_info": {
   "codemirror_mode": {
    "name": "ipython",
    "version": 2
   },
   "file_extension": ".py",
   "mimetype": "text/x-python",
   "name": "python",
   "nbconvert_exporter": "python",
   "pygments_lexer": "ipython2",
   "version": "2.7.8"
  }
 },
 "nbformat": 4,
 "nbformat_minor": 0
}
