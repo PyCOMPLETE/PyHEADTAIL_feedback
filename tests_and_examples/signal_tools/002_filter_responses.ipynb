{
 "cells": [
  {
   "cell_type": "code",
   "execution_count": null,
   "metadata": {
    "collapsed": true,
    "deletable": true,
    "editable": true
   },
   "outputs": [],
   "source": [
    "import sys, os\n",
    "BIN = os.path.expanduser(\"../../../\")\n",
    "sys.path.append(BIN)\n",
    "from scipy.constants import c\n",
    "\n",
    "import numpy as np\n",
    "import matplotlib.pyplot as plt"
   ]
  },
  {
   "cell_type": "code",
   "execution_count": null,
   "metadata": {
    "collapsed": false,
    "deletable": true,
    "editable": true
   },
   "outputs": [],
   "source": [
    "from PyHEADTAIL_feedback.signal_tools.response_tools import frequency_response, impulse_response, signal_response\n",
    "from PyHEADTAIL_feedback.signal_tools.plotters import plot_frequency_responses\n",
    "# , plot_impulse_response"
   ]
  },
  {
   "cell_type": "code",
   "execution_count": null,
   "metadata": {
    "collapsed": false,
    "deletable": true,
    "editable": true
   },
   "outputs": [],
   "source": [
    "from PyHEADTAIL_feedback.processors.convolution import Lowpass, Highpass\n",
    "from PyHEADTAIL_feedback.processors.convolution import PhaseLinearizedLowpass, Gaussian, Sinc\n",
    "f_c = 33e6\n",
    "\n",
    "processors_1 = [PhaseLinearizedLowpass(f_c)]\n",
    "t, z, input_signal, output_signal = impulse_response(processors_1, (-4./f_c, 4./f_c), n_points=401,\n",
    "                                           impulse_type = 'bipolar_sine')\n",
    "\n",
    "fig, ax1 = plt.subplots()\n",
    "ax2 = ax1.twiny()\n",
    "ax1.plot(z,input_signal)\n",
    "ax1.plot(z,output_signal)\n",
    "\n",
    "ax2.plot(t*1e6, np.zeros(len(t)))\n",
    "ax2.cla()\n",
    "\n",
    "ax1.set_xlabel('Z distance [m]')\n",
    "ax1.set_ylabel('Amplitude')\n",
    "ax2.set_xlabel('Time [us]')\n",
    "plt.show()\n",
    "\n",
    "# print t\n",
    "# print z\n",
    "# print impulse\n",
    "# print response"
   ]
  },
  {
   "cell_type": "code",
   "execution_count": null,
   "metadata": {
    "collapsed": false,
    "deletable": true,
    "editable": true
   },
   "outputs": [],
   "source": [
    "from PyHEADTAIL_feedback.signal_tools.signal_generators import SimpleBeam\n",
    "f_c = 10e6\n",
    "n_slices = 40\n",
    "intensity = 1e11\n",
    "n_bunches = 14\n",
    "bunch_spacing = 20e-9\n",
    "bunch_length = 5e-9\n",
    "simple_beam = SimpleBeam(n_bunches, bunch_spacing, bunch_length, intensity, n_slices)\n",
    "temp_x = simple_beam.x\n",
    "temp_x[simple_beam.z>20.] += 1.\n",
    "# temp_x[simple_beam.z>40.] -= 1.\n",
    "simple_beam.x = temp_x\n",
    "\n",
    "processors = [Gaussian(f_c)]\n",
    "t, z, input_signal, output_signal = signal_response(simple_beam, processors)\n",
    "fig, ax1 = plt.subplots()\n",
    "ax2 = ax1.twiny()\n",
    "ax1.plot(z,input_signal,'.')\n",
    "ax1.plot(z,output_signal,'.')\n",
    "\n",
    "ax2.plot(t*1e6, np.zeros(len(t)))\n",
    "ax2.cla()\n",
    "\n",
    "ax1.set_xlabel('Z distance [m]')\n",
    "ax1.set_ylabel('Amplitude')\n",
    "ax2.set_xlabel('Time [us]')\n",
    "plt.show()\n"
   ]
  },
  {
   "cell_type": "code",
   "execution_count": null,
   "metadata": {
    "collapsed": false,
    "deletable": true,
    "editable": true
   },
   "outputs": [],
   "source": [
    "# from PyHEADTAIL_feedback.processors.harmonic_convolution import Lowpass, Highpass\n",
    "# from PyHEADTAIL_feedback.processors.harmonic_convolution import PhaseLinearizedLowpass, GaussianLowpass, Sinc\n",
    "\n",
    "# f_c = 33e6\n",
    "\n",
    "# processors_1 = [Lowpass(f_c)]\n",
    "# f_1, amp_1, phase_1 = frequency_response(processors_1, 1./f_c, resp_symmetry='delayed', n_f_points = 26)\n",
    "# processors_2 = [GaussianLowpass(f_c)]\n",
    "# f_2, amp_2, phase_2 = frequency_response(processors_2, 1./f_c)\n",
    "# processors_3 = [Sinc(f_c)]\n",
    "# f_3, amp_3, phase_3 = frequency_response(processors_3, 1./f_c)"
   ]
  },
  {
   "cell_type": "code",
   "execution_count": null,
   "metadata": {
    "collapsed": false,
    "deletable": true,
    "editable": true
   },
   "outputs": [],
   "source": [
    "# data = []\n",
    "# data.append([f_1, amp_1, phase_1])\n",
    "# data.append([f_2, amp_2, phase_2])\n",
    "# data.append([f_3, amp_3, phase_3])\n",
    "# labels = ['Lowpass', 'Gaussian', 'Sinc']\n",
    "# plot_frequency_responses(data,labels, f_c)"
   ]
  },
  {
   "cell_type": "code",
   "execution_count": null,
   "metadata": {
    "collapsed": false,
    "deletable": true,
    "editable": true
   },
   "outputs": [],
   "source": [
    "from PyHEADTAIL_feedback.processors.convolution import Lowpass, Highpass\n",
    "from PyHEADTAIL_feedback.processors.convolution import PhaseLinearizedLowpass, Gaussian, Sinc\n",
    "\n",
    "f_c = 100e6\n",
    "\n",
    "processors_1 = [Lowpass(f_c)]\n",
    "f_1, amp_1, phase_1 = frequency_response(processors_1, 1./f_c, resp_symmetry='delayed')\n",
    "print 'Lowpass done'\n",
    "processors_2 = [Gaussian(f_c)]\n",
    "f_2, amp_2, phase_2 = frequency_response(processors_2, 1./f_c)\n",
    "print 'Gaussian done'\n"
   ]
  },
  {
   "cell_type": "code",
   "execution_count": null,
   "metadata": {
    "collapsed": false,
    "deletable": true,
    "editable": true
   },
   "outputs": [],
   "source": [
    "processors_3 = [Sinc(f_c, normalization='sum')]\n",
    "f_3, amp_3, phase_3 = frequency_response(processors_3, 1./f_c)\n",
    "print 'Sinc done'"
   ]
  },
  {
   "cell_type": "code",
   "execution_count": null,
   "metadata": {
    "collapsed": false,
    "deletable": true,
    "editable": true
   },
   "outputs": [],
   "source": [
    "data = []\n",
    "data.append([f_1, amp_1, phase_1])\n",
    "data.append([f_2, amp_2, phase_2])\n",
    "data.append([f_3, amp_3, phase_3])\n",
    "labels = ['Lowpass', 'Gaussian', 'Sinc']\n",
    "plot_frequency_responses(data,labels, f_c)"
   ]
  },
  {
   "cell_type": "code",
   "execution_count": null,
   "metadata": {
    "collapsed": true,
    "deletable": true,
    "editable": true
   },
   "outputs": [],
   "source": []
  }
 ],
 "metadata": {
  "kernelspec": {
   "display_name": "Python 2",
   "language": "python",
   "name": "python2"
  },
  "language_info": {
   "codemirror_mode": {
    "name": "ipython",
    "version": 2
   },
   "file_extension": ".py",
   "mimetype": "text/x-python",
   "name": "python",
   "nbconvert_exporter": "python",
   "pygments_lexer": "ipython2",
   "version": "2.7.13"
  }
 },
 "nbformat": 4,
 "nbformat_minor": 2
}
