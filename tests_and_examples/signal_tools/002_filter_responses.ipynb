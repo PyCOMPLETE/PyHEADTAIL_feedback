{
 "cells": [
  {
   "cell_type": "code",
   "execution_count": null,
   "metadata": {
    "collapsed": true,
    "deletable": true,
    "editable": true
   },
   "outputs": [],
   "source": [
    "import sys, os\n",
    "BIN = os.path.expanduser(\"../../../\")\n",
    "sys.path.append(BIN)\n",
    "from scipy.constants import c\n",
    "\n",
    "import numpy as np\n",
    "import matplotlib.pyplot as plt"
   ]
  },
  {
   "cell_type": "code",
   "execution_count": null,
   "metadata": {
    "collapsed": true,
    "deletable": true,
    "editable": true
   },
   "outputs": [],
   "source": [
    "from PyHEADTAIL_feedback.signal_tools.response_tools import frequency_response, impulse_response\n",
    "from PyHEADTAIL_feedback.processors.convolution import Lowpass, Highpass\n",
    "from PyHEADTAIL_feedback.processors.convolution import PhaseLinearizedLowpass, GaussianLowpass, Sinc\n",
    "\n",
    "from PyHEADTAIL_feedback.signal_tools.plotters import plot_frequency_responses\n"
   ]
  },
  {
   "cell_type": "code",
   "execution_count": null,
   "metadata": {
    "collapsed": false
   },
   "outputs": [],
   "source": [
    "f_c = 100e6\n",
    "\n",
    "processors_1 = [Lowpass(f_c)]\n",
    "f_1, amp_1, phase_1 = frequency_response(processors_1, 1./f_c, resp_symmetry='delayed', n_f_points = 26)\n",
    "processors_2 = [GaussianLowpass(f_c)]\n",
    "f_2, amp_2, phase_2 = frequency_response(processors_2, 1./f_c)\n",
    "processors_3 = [Sinc(f_c)]\n",
    "f_3, amp_3, phase_3 = frequency_response(processors_3, 1./f_c)"
   ]
  },
  {
   "cell_type": "code",
   "execution_count": null,
   "metadata": {
    "collapsed": false
   },
   "outputs": [],
   "source": [
    "data = []\n",
    "data.append([f_1, amp_1, phase_1])\n",
    "data.append([f_2, amp_2, phase_2])\n",
    "data.append([f_3, amp_3, phase_3])\n",
    "labels = ['Lowpass', 'Gaussian', 'Sinc']\n",
    "plot_frequency_responses(data,labels, f_c)"
   ]
  },
  {
   "cell_type": "code",
   "execution_count": null,
   "metadata": {
    "collapsed": true
   },
   "outputs": [],
   "source": []
  }
 ],
 "metadata": {
  "kernelspec": {
   "display_name": "Python 2",
   "language": "python",
   "name": "python2"
  },
  "language_info": {
   "codemirror_mode": {
    "name": "ipython",
    "version": 2
   },
   "file_extension": ".py",
   "mimetype": "text/x-python",
   "name": "python",
   "nbconvert_exporter": "python",
   "pygments_lexer": "ipython2",
   "version": "2.7.13"
  }
 },
 "nbformat": 4,
 "nbformat_minor": 2
}
