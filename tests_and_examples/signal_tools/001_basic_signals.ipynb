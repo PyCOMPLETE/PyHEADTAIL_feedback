{
 "cells": [
  {
   "cell_type": "code",
   "execution_count": null,
   "metadata": {
    "collapsed": true,
    "deletable": true,
    "editable": true
   },
   "outputs": [],
   "source": [
    "import sys, os\n",
    "BIN = os.path.expanduser(\"../../../\")\n",
    "sys.path.append(BIN)\n",
    "from scipy.constants import c"
   ]
  },
  {
   "cell_type": "code",
   "execution_count": null,
   "metadata": {
    "collapsed": false,
    "deletable": true,
    "editable": true
   },
   "outputs": [],
   "source": [
    "from PyHEADTAIL_feedback.signal_tools.signal_generators import Bunch, Beam, SimpleBeam\n",
    "from PyHEADTAIL_feedback.signal_tools.signal_generators import CircularPointBeam, SimpleCircularPointBeam"
   ]
  },
  {
   "cell_type": "code",
   "execution_count": null,
   "metadata": {
    "collapsed": false,
    "deletable": true,
    "editable": true
   },
   "outputs": [],
   "source": [
    "bunch_length = 4e-9\n",
    "n_slices = 10\n",
    "intensity = 1e11\n",
    "\n",
    "h_RF = 462\n",
    "circumference = 6900\n",
    "counter = 12\n",
    "filling_scheme = []\n",
    "for i in xrange(2):\n",
    "    for j in xrange(72):\n",
    "        filling_scheme.append(counter)\n",
    "        counter += 1\n",
    "    counter += 20\n",
    "print filling_scheme"
   ]
  },
  {
   "cell_type": "code",
   "execution_count": null,
   "metadata": {
    "collapsed": false,
    "deletable": true,
    "editable": true
   },
   "outputs": [],
   "source": [
    "bunch = Bunch(bunch_length, n_slices, intensity)\n",
    "print 'bunch.z/c: '\n",
    "print bunch.z/c\n",
    "print 'bunch._bin_edges/c'\n",
    "print bunch._bin_edges/c\n",
    "print 'bunch.n_macroparticles_per_slice'\n",
    "print bunch.n_macroparticles_per_slice"
   ]
  },
  {
   "cell_type": "code",
   "execution_count": null,
   "metadata": {
    "collapsed": false,
    "deletable": true,
    "editable": true
   },
   "outputs": [],
   "source": [
    "beam = Beam(filling_scheme, circumference, h_RF, bunch_length, intensity, n_slices)\n",
    "\n",
    "print 'len(filling_scheme): ' + str(len(filling_scheme))\n",
    "print 'len(beam.x): ' + str(len(beam.x))"
   ]
  },
  {
   "cell_type": "code",
   "execution_count": null,
   "metadata": {
    "collapsed": false
   },
   "outputs": [],
   "source": [
    "n_bunches = 5\n",
    "bunch_spacing = 25e-9\n",
    "simple_beam = SimpleBeam(n_bunches, bunch_spacing, bunch_length, intensity, n_slices)\n",
    "\n",
    "print 'len(beam.x): ' + str(len(simple_beam.x))\n",
    "print 'simple_beam.z/c: '\n",
    "print simple_beam.z/c"
   ]
  },
  {
   "cell_type": "code",
   "execution_count": null,
   "metadata": {
    "collapsed": false,
    "deletable": true,
    "editable": true
   },
   "outputs": [],
   "source": [
    "circular_beam = CircularPointBeam(filling_scheme, circumference, h_RF, intensity, circular_overlapping=10)\n",
    "print circular_beam.n_macroparticles_per_slice\n",
    "print circular_beam.z"
   ]
  },
  {
   "cell_type": "code",
   "execution_count": null,
   "metadata": {
    "collapsed": false,
    "deletable": true,
    "editable": true
   },
   "outputs": [],
   "source": [
    "n_bunches = 5\n",
    "bunch_spacing = 25e-9\n",
    "simple_circular_beam = SimpleCircularPointBeam(n_bunches, bunch_spacing, bunch_length, intensity)\n",
    "\n",
    "print 'len(beam.x): ' + str(len(simple_circular_beam.x))\n",
    "print 'simple_beam.z/c: '\n",
    "print simple_circular_beam.z/c"
   ]
  },
  {
   "cell_type": "code",
   "execution_count": null,
   "metadata": {
    "collapsed": true
   },
   "outputs": [],
   "source": []
  }
 ],
 "metadata": {
  "kernelspec": {
   "display_name": "Python 2",
   "language": "python",
   "name": "python2"
  },
  "language_info": {
   "codemirror_mode": {
    "name": "ipython",
    "version": 2
   },
   "file_extension": ".py",
   "mimetype": "text/x-python",
   "name": "python",
   "nbconvert_exporter": "python",
   "pygments_lexer": "ipython2",
   "version": "2.7.13"
  }
 },
 "nbformat": 4,
 "nbformat_minor": 2
}
