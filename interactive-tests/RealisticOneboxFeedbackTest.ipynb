{
 "cells": [
  {
   "cell_type": "code",
   "execution_count": 1,
   "metadata": {
    "collapsed": false
   },
   "outputs": [
    {
     "name": "stdout",
     "output_type": "stream",
     "text": [
      "PyHEADTAIL v1.9.4\n",
      "\n",
      "\n"
     ]
    }
   ],
   "source": [
    "import sys, os\n",
    "BIN = os.path.expanduser(\"../../\")\n",
    "sys.path.append(BIN)\n",
    "\n",
    "from __future__ import unicode_literals\n",
    "\n",
    "import numpy as np\n",
    "from scipy.constants import m_p, c, e, pi\n",
    "import matplotlib.pyplot as plt\n",
    "%matplotlib inline\n",
    "\n",
    "import copy\n",
    "import itertools\n",
    "\n",
    "from PyHEADTAIL.trackers.transverse_tracking import TransverseMap\n",
    "from PyHEADTAIL.trackers.simple_long_tracking import LinearMap\n",
    "from PyHEADTAIL.particles.particles import Particles\n",
    "import PyHEADTAIL.particles.generators as generators\n",
    "from PyHEADTAIL.particles.slicing import UniformBinSlicer, UniformChargeSlicer\n",
    "from PyHEADTAIL_feedback.feedback import IdealBunchFeedback, IdealSliceFeedback, OneboxFeedback\n",
    "from PyHEADTAIL_feedback.processors import PhaseLinearizedLowpass, ChargeWeighter, LowpassFilter\n",
    "from PyHEADTAIL_feedback.processors import EdgeWeighter, VectorSumRegister, PickUpProcessor\n",
    "\n",
    "np.random.seed(0)"
   ]
  },
  {
   "cell_type": "code",
   "execution_count": 2,
   "metadata": {
    "collapsed": true
   },
   "outputs": [],
   "source": [
    "def generate_bunch(n_macroparticles, alpha_x, alpha_y, beta_x, beta_y, linear_map):\n",
    "    \n",
    "    intensity = 1.05e11\n",
    "    sigma_z = 0.059958\n",
    "    gamma = 3730.26\n",
    "    gamma_t = 1. / np.sqrt(alpha_0)\n",
    "    p0 = np.sqrt(gamma**2 - 1) * m_p * c\n",
    "\n",
    "    beta_z = (linear_map.eta(dp=0, gamma=gamma) * linear_map.circumference / \n",
    "              (2 * np.pi * linear_map.Qs))\n",
    "\n",
    "    epsn_x = 3.75e-6 # [m rad]\n",
    "    epsn_y = 3.75e-6 # [m rad]\n",
    "    epsn_z = 4 * np.pi * sigma_z**2 * p0 / (beta_z * e) \n",
    "    \n",
    "    bunch = generators.generate_Gaussian6DTwiss(\n",
    "        macroparticlenumber=n_macroparticles, intensity=intensity, charge=e,\n",
    "        gamma=gamma, mass=m_p, circumference=C,\n",
    "        alpha_x=alpha_x, beta_x=beta_x, epsn_x=epsn_x,\n",
    "        alpha_y=alpha_y, beta_y=beta_y, epsn_y=epsn_y,\n",
    "        beta_z=beta_z, epsn_z=epsn_z)\n",
    "    \n",
    "    return bunch"
   ]
  },
  {
   "cell_type": "code",
   "execution_count": 3,
   "metadata": {
    "collapsed": true
   },
   "outputs": [],
   "source": [
    "def track(n_turns, bunch, total_map, bunch_dump):\n",
    "    \n",
    "    for i in xrange(n_turns):\n",
    "        bunch_dump.dump()\n",
    "        \n",
    "        for m_ in total_map:\n",
    "            m_.track(bunch)"
   ]
  },
  {
   "cell_type": "code",
   "execution_count": 4,
   "metadata": {
    "collapsed": true
   },
   "outputs": [],
   "source": [
    "class BunchTracker(object):\n",
    "    def __init__(self,bunch):\n",
    "        self.counter = 0\n",
    "\n",
    "        self.bunch = bunch\n",
    "        self.turn = np.array([])\n",
    "\n",
    "        self.mean_x = np.array([])\n",
    "        self.mean_y = np.array([])\n",
    "        self.mean_z = np.array([])\n",
    "\n",
    "        self.mean_xp = np.array([])\n",
    "        self.mean_yp = np.array([])\n",
    "        self.mean_dp = np.array([])\n",
    "\n",
    "        self.sigma_x = np.array([])\n",
    "        self.sigma_y = np.array([])\n",
    "        self.sigma_z = np.array([])\n",
    "\n",
    "        self.sigma_xp = np.array([])\n",
    "        self.sigma_yp = np.array([])\n",
    "        self.sigma_dp = np.array([])\n",
    "\n",
    "        self.epsn_x = np.array([])\n",
    "        self.epsn_y = np.array([])\n",
    "        self.epsn_z = np.array([])\n",
    "\n",
    "    def dump(self):\n",
    "        self.turn=np.append(self.turn,[self.counter])\n",
    "        self.counter += 1\n",
    "\n",
    "        self.mean_x=np.append(self.mean_x,[self.bunch.mean_x()])\n",
    "        self.mean_y=np.append(self.mean_y,[self.bunch.mean_y()])\n",
    "        self.mean_z=np.append(self.mean_z,[self.bunch.mean_z()])\n",
    "\n",
    "        self.mean_xp=np.append(self.mean_xp,[self.bunch.mean_xp()])\n",
    "        self.mean_yp=np.append(self.mean_yp,[self.bunch.mean_yp()])\n",
    "        self.mean_dp=np.append(self.mean_dp,[self.bunch.mean_dp()])\n",
    "\n",
    "        self.sigma_x=np.append(self.sigma_x,[self.bunch.sigma_x()])\n",
    "        self.sigma_y=np.append(self.sigma_y,[self.bunch.sigma_y()])\n",
    "        self.sigma_z=np.append(self.sigma_z,[self.bunch.sigma_z()])\n",
    "\n",
    "        self.sigma_xp=np.append(self.sigma_xp,[self.bunch.sigma_xp()])\n",
    "        self.sigma_yp=np.append(self.sigma_yp,[self.bunch.sigma_yp()])\n",
    "        self.sigma_dp=np.append(self.sigma_dp,[self.bunch.sigma_dp()])\n",
    "\n",
    "        self.epsn_x = np.append(self.epsn_x,[self.bunch.epsn_x()])\n",
    "        self.epsn_y = np.append(self.epsn_y,[self.bunch.epsn_y()])\n",
    "        self.epsn_z = np.append(self.epsn_z,[self.bunch.epsn_z()])"
   ]
  },
  {
   "cell_type": "code",
   "execution_count": 5,
   "metadata": {
    "collapsed": true
   },
   "outputs": [],
   "source": [
    "def compare_traces(trackers,labels):\n",
    "    fig = plt.figure(figsize=(16, 8))\n",
    "    ax_x_mean = fig.add_subplot(231)\n",
    "    ax_x_sigma = fig.add_subplot(232)\n",
    "    ax_x_epsn = fig.add_subplot(233)\n",
    "    \n",
    "    for i,tracker in enumerate(trackers):\n",
    "        ax_x_mean.plot(tracker.turn, tracker.mean_x*1000, label=labels[i])\n",
    "    ax_x_mean.legend(loc='upper right')\n",
    "    ax_x_mean.set_ylabel('<x> [mm]')\n",
    "    ax_x_mean.ticklabel_format(useOffset=False)\n",
    "    \n",
    "    for i,tracker in enumerate(trackers):\n",
    "        ax_x_sigma.plot(tracker.turn, tracker.sigma_x*1000, label=labels[i])\n",
    "    ax_x_sigma.set_ylabel('sigma_x [mm]')\n",
    "    ax_x_sigma.ticklabel_format(useOffset=False)\n",
    "    \n",
    "    for i,tracker in enumerate(trackers):\n",
    "        ax_x_epsn.plot(tracker.turn, tracker.epsn_x*1e6, label=labels[i])\n",
    "    ax_x_epsn.set_ylabel('epsn_x [mm mrad]')\n",
    "    ax_x_epsn.set_xlabel('Turn')\n",
    "    ax_x_epsn.ticklabel_format(useOffset=False)\n",
    "    \n",
    "    ax_y_mean = fig.add_subplot(234)\n",
    "    ax_y_sigma = fig.add_subplot(235)\n",
    "    ax_y_epsn = fig.add_subplot(236)\n",
    "    \n",
    "    for i,tracker in enumerate(trackers):\n",
    "        ax_y_mean.plot(tracker.turn, tracker.mean_y*1000, label=labels[i])\n",
    "    ax_y_mean.legend(loc='upper right')\n",
    "    ax_y_mean.set_ylabel('<y> [mm]')\n",
    "    ax_y_mean.ticklabel_format(useOffset=False)\n",
    "    \n",
    "    for i,tracker in enumerate(trackers):\n",
    "        ax_y_sigma.plot(tracker.turn, tracker.sigma_y*1000, label=labels[i])\n",
    "    ax_y_sigma.set_ylabel('sigma_y [mm]')\n",
    "    ax_y_sigma.ticklabel_format(useOffset=False)\n",
    "    \n",
    "    for i,tracker in enumerate(trackers):\n",
    "        ax_y_epsn.plot(tracker.turn, tracker.epsn_y*1e6, label=labels[i])\n",
    "    ax_y_epsn.set_ylabel('epsn_y  [mm mrad]')\n",
    "    ax_y_epsn.set_xlabel('Turn')\n",
    "    ax_y_epsn.ticklabel_format(useOffset=False)\n",
    "\n",
    "    plt.show()"
   ]
  },
  {
   "cell_type": "code",
   "execution_count": 6,
   "metadata": {
    "collapsed": true
   },
   "outputs": [],
   "source": [
    "def compare_projections(bunches, labels):\n",
    "    fig = plt.figure(figsize=(16, 4))\n",
    "    fig.suptitle('z-x and z-y projections of bunches', fontsize=14, fontweight='bold')\n",
    "    ax_z_x = fig.add_subplot(121)\n",
    "    ax_z_y = fig.add_subplot(122)\n",
    "    \n",
    "    for i,bunch in enumerate(bunches):\n",
    "        ax_z_x.plot(bunch.z, bunch.x*1000,'.', label=labels[i])\n",
    "    ax_z_x.legend(loc='upper right')\n",
    "    ax_z_x.set_xlabel('z [m]')\n",
    "    ax_z_x.set_ylabel('x [mm]')\n",
    "    for i,bunch in enumerate(bunches):\n",
    "        ax_z_y.plot(bunch.z, bunch.y*1000,'.', label=labels[i])\n",
    "    ax_z_y.legend(loc='upper right')\n",
    "    ax_z_y.set_xlabel('z [m]')\n",
    "    ax_z_y.set_ylabel('y [mm]')"
   ]
  },
  {
   "cell_type": "markdown",
   "metadata": {},
   "source": [
    "### Basic parameters"
   ]
  },
  {
   "cell_type": "code",
   "execution_count": 7,
   "metadata": {
    "collapsed": true
   },
   "outputs": [],
   "source": [
    "n_turns = 500\n",
    "n_segments = 5\n",
    "n_macroparticles = 10000\n",
    "\n",
    "feedback_gain = 0.1\n",
    "\n",
    "Q_x = 64.28\n",
    "Q_y = 59.31\n",
    "Q_s = 0.000000000001\n",
    "#Q_s = 0.0020443\n",
    "\n",
    "C = 26658.883\n",
    "R = C / (2.*np.pi)\n",
    "\n",
    "alpha_0 = [0.0003225]"
   ]
  },
  {
   "cell_type": "markdown",
   "metadata": {},
   "source": [
    "### Transverse and longitunal maps"
   ]
  },
  {
   "cell_type": "code",
   "execution_count": 8,
   "metadata": {
    "collapsed": true
   },
   "outputs": [],
   "source": [
    "s = np.arange(0, n_segments + 1) * C / n_segments\n",
    "\n",
    "alpha_x_inj = 0.\n",
    "alpha_y_inj = 0.\n",
    "beta_x_inj = 66.0064\n",
    "beta_y_inj = 71.5376\n",
    "    \n",
    "alpha_x = alpha_x_inj * np.ones(n_segments)\n",
    "beta_x = beta_x_inj * np.ones(n_segments)\n",
    "D_x = np.zeros(n_segments)\n",
    "\n",
    "alpha_y = alpha_y_inj * np.ones(n_segments)\n",
    "beta_y = beta_y_inj * np.ones(n_segments)\n",
    "D_y = np.zeros(n_segments)\n",
    "        \n",
    "trans_map = TransverseMap(s, alpha_x, beta_x, D_x, alpha_y, beta_y, D_y, Q_x, Q_y)\n",
    "long_map = LinearMap(alpha_0, C, Q_s)"
   ]
  },
  {
   "cell_type": "markdown",
   "metadata": {},
   "source": [
    "### Kicked bunch"
   ]
  },
  {
   "cell_type": "code",
   "execution_count": 9,
   "metadata": {
    "collapsed": false
   },
   "outputs": [],
   "source": [
    "bunch_ref = generate_bunch(n_macroparticles, alpha_x_inj, alpha_y_inj, beta_x_inj, beta_y_inj,long_map)\n",
    "\n",
    "n_sigma_z = 3\n",
    "n_slices = 15\n",
    "z_cuts=(-0.25,0.25)\n",
    "#slicer = UniformBinSlicer(n_slices=n_slices, n_sigma_z=n_sigma_z)\n",
    "\n",
    "slicer = UniformBinSlicer(n_slices, z_cuts=z_cuts)\n",
    "\n",
    "slice_set = bunch_ref.get_slices(slicer, statistics=True)\n",
    "p_idx = slice_set.particles_within_cuts\n",
    "s_idx = slice_set.slice_index_of_particle.take(p_idx)\n",
    "\n",
    "#random kicks for each slice\n",
    "kick_x = 0.003*(-1.0+2*np.random.rand(n_slices))\n",
    "kick_y = 0.003*(-1.0+2*np.random.rand(n_slices))\n",
    "\n",
    "for p_id, s_id in itertools.izip(p_idx,s_idx):\n",
    "    bunch_ref.x[p_id] += kick_x[s_id]\n",
    "    bunch_ref.y[p_id] += kick_y[s_id]"
   ]
  },
  {
   "cell_type": "markdown",
   "metadata": {},
   "source": [
    "## Reference traces from ideal feedbacks"
   ]
  },
  {
   "cell_type": "code",
   "execution_count": 10,
   "metadata": {
    "collapsed": false
   },
   "outputs": [],
   "source": [
    "bunch_IdealBunchFB = copy.deepcopy(bunch_ref)\n",
    "tracker_IdealBunchFB = BunchTracker(bunch_IdealBunchFB)\n",
    "feedback_map = IdealBunchFeedback(feedback_gain)\n",
    "total_map_FB = [i for i in trans_map] + [long_map] + [feedback_map]\n",
    "track(n_turns, bunch_IdealBunchFB,total_map_FB,tracker_IdealBunchFB)\n",
    "\n",
    "bunch_IdealSliceFB = copy.deepcopy(bunch_ref)\n",
    "tracker_IdealSliceFB = BunchTracker(bunch_IdealSliceFB)\n",
    "feedback_map = IdealSliceFeedback(feedback_gain,slicer)\n",
    "total_map_FB = [i for i in trans_map] + [long_map] + [feedback_map]\n",
    "track(n_turns, bunch_IdealSliceFB,total_map_FB,tracker_IdealSliceFB)"
   ]
  },
  {
   "cell_type": "markdown",
   "metadata": {},
   "source": [
    "## Realistic feedback systems\n",
    "\n",
    "There are multiple ways to implement a feedback system for which two are presented here as examples. Generally the simples feedback system can be divided to three parts: a pickup, a delay generator and a kicker. The pickup and the kicker have finite bandwidths, which can be modeled by using low pass filters. The delay generator is required because signal processing takes typically one turn in which time bunch is rotated in the phase space.\n",
    "\n",
    "In the reality, there are some problems with the linearity of the pickup signal. The pickup signal is proportional to both displacement and charge of the beam but, however, the correction for the beam is only proportional to displacement. In order to get the correct displacement signal, two approaches have been used. If a bunch length and a shape of the charge distribution is known, the signal on the edge of the bunch can be artificially weighted. This is demonstrated in CASE I. The other method is to calculate a ratio of a difference and a sum signal of the two plate pickup system.  It gives the correct displacement in the limits of banwidth and signal strength (CASE II).\n",
    "\n",
    "In the systems, which are pushing the limits of the technology, the bandwidth of the kicker has been extended by phase linearizing the signal. This can be modeled by using PhaseLinearizedLowpass filter, which is used in both examples.\n",
    "\n",
    "\n"
   ]
  },
  {
   "cell_type": "code",
   "execution_count": 11,
   "metadata": {
    "collapsed": false,
    "scrolled": true
   },
   "outputs": [
    {
     "ename": "TypeError",
     "evalue": "unsupported operand type(s) for -: 'NoneType' and 'NoneType'",
     "output_type": "error",
     "traceback": [
      "\u001b[1;31m---------------------------------------------------------------------------\u001b[0m",
      "\u001b[1;31mTypeError\u001b[0m                                 Traceback (most recent call last)",
      "\u001b[1;32m<ipython-input-11-ea5447a3a273>\u001b[0m in \u001b[0;36m<module>\u001b[1;34m()\u001b[0m\n\u001b[0;32m     50\u001b[0m \u001b[0mtotal_map_FB\u001b[0m \u001b[1;33m=\u001b[0m \u001b[1;33m[\u001b[0m\u001b[0mi\u001b[0m \u001b[1;32mfor\u001b[0m \u001b[0mi\u001b[0m \u001b[1;32min\u001b[0m \u001b[0mtrans_map\u001b[0m\u001b[1;33m]\u001b[0m \u001b[1;33m+\u001b[0m \u001b[1;33m[\u001b[0m\u001b[0mlong_map\u001b[0m\u001b[1;33m]\u001b[0m \u001b[1;33m+\u001b[0m \u001b[1;33m[\u001b[0m\u001b[0mfeedback_map\u001b[0m\u001b[1;33m]\u001b[0m\u001b[1;33m\u001b[0m\u001b[0m\n\u001b[0;32m     51\u001b[0m \u001b[1;33m\u001b[0m\u001b[0m\n\u001b[1;32m---> 52\u001b[1;33m \u001b[0mtrack\u001b[0m\u001b[1;33m(\u001b[0m\u001b[0mn_turns\u001b[0m\u001b[1;33m,\u001b[0m \u001b[0mbunch_fast_FB\u001b[0m\u001b[1;33m,\u001b[0m\u001b[0mtotal_map_FB\u001b[0m\u001b[1;33m,\u001b[0m\u001b[0mtracker_fast_FB\u001b[0m\u001b[1;33m)\u001b[0m\u001b[1;33m\u001b[0m\u001b[0m\n\u001b[0m\u001b[0;32m     53\u001b[0m \u001b[1;33m\u001b[0m\u001b[0m\n\u001b[0;32m     54\u001b[0m \u001b[0mcompare_traces\u001b[0m\u001b[1;33m(\u001b[0m\u001b[1;33m[\u001b[0m\u001b[0mtracker_IdealSliceFB\u001b[0m\u001b[1;33m,\u001b[0m\u001b[0mtracker_fast_FB\u001b[0m\u001b[1;33m]\u001b[0m\u001b[1;33m,\u001b[0m \u001b[1;33m[\u001b[0m\u001b[1;34m'IdealSliceFeedback'\u001b[0m\u001b[1;33m,\u001b[0m \u001b[1;34m'Implementation \\nwith OneBox FB'\u001b[0m\u001b[1;33m]\u001b[0m\u001b[1;33m)\u001b[0m\u001b[1;33m\u001b[0m\u001b[0m\n",
      "\u001b[1;32m<ipython-input-3-67f641cc480d>\u001b[0m in \u001b[0;36mtrack\u001b[1;34m(n_turns, bunch, total_map, bunch_dump)\u001b[0m\n\u001b[0;32m      5\u001b[0m \u001b[1;33m\u001b[0m\u001b[0m\n\u001b[0;32m      6\u001b[0m         \u001b[1;32mfor\u001b[0m \u001b[0mm_\u001b[0m \u001b[1;32min\u001b[0m \u001b[0mtotal_map\u001b[0m\u001b[1;33m:\u001b[0m\u001b[1;33m\u001b[0m\u001b[0m\n\u001b[1;32m----> 7\u001b[1;33m             \u001b[0mm_\u001b[0m\u001b[1;33m.\u001b[0m\u001b[0mtrack\u001b[0m\u001b[1;33m(\u001b[0m\u001b[0mbunch\u001b[0m\u001b[1;33m)\u001b[0m\u001b[1;33m\u001b[0m\u001b[0m\n\u001b[0m",
      "\u001b[1;32m/home/jani-local/Programming/Python/PyHEADTAIL_feedback/feedback.pyc\u001b[0m in \u001b[0;36mtrack\u001b[1;34m(self, bunch)\u001b[0m\n\u001b[0;32m     61\u001b[0m \u001b[1;33m\u001b[0m\u001b[0m\n\u001b[0;32m     62\u001b[0m         \u001b[1;32mfor\u001b[0m \u001b[0mprocessor\u001b[0m \u001b[1;32min\u001b[0m \u001b[0mself\u001b[0m\u001b[1;33m.\u001b[0m\u001b[0mprocessors_x\u001b[0m\u001b[1;33m:\u001b[0m\u001b[1;33m\u001b[0m\u001b[0m\n\u001b[1;32m---> 63\u001b[1;33m             \u001b[0msignal_x\u001b[0m \u001b[1;33m=\u001b[0m \u001b[0mprocessor\u001b[0m\u001b[1;33m.\u001b[0m\u001b[0mprocess\u001b[0m\u001b[1;33m(\u001b[0m\u001b[0msignal_x\u001b[0m\u001b[1;33m,\u001b[0m\u001b[0mslice_set\u001b[0m\u001b[1;33m)\u001b[0m\u001b[1;33m\u001b[0m\u001b[0m\n\u001b[0m\u001b[0;32m     64\u001b[0m \u001b[1;33m\u001b[0m\u001b[0m\n\u001b[0;32m     65\u001b[0m         \u001b[1;32mfor\u001b[0m \u001b[0mprocessor\u001b[0m \u001b[1;32min\u001b[0m \u001b[0mself\u001b[0m\u001b[1;33m.\u001b[0m\u001b[0mprocessors_y\u001b[0m\u001b[1;33m:\u001b[0m\u001b[1;33m\u001b[0m\u001b[0m\n",
      "\u001b[1;32m/home/jani-local/Programming/Python/PyHEADTAIL_feedback/processors.pyc\u001b[0m in \u001b[0;36mprocess\u001b[1;34m(self, signal, *args)\u001b[0m\n\u001b[0;32m    671\u001b[0m \u001b[1;33m\u001b[0m\u001b[0m\n\u001b[0;32m    672\u001b[0m                 \u001b[1;32mfor\u001b[0m \u001b[0mvalue\u001b[0m \u001b[1;32min\u001b[0m \u001b[0mself\u001b[0m\u001b[1;33m:\u001b[0m\u001b[1;33m\u001b[0m\u001b[0m\n\u001b[1;32m--> 673\u001b[1;33m                     \u001b[0mcombined\u001b[0m \u001b[1;33m=\u001b[0m \u001b[0mself\u001b[0m\u001b[1;33m.\u001b[0m\u001b[0mcombine\u001b[0m\u001b[1;33m(\u001b[0m\u001b[0mvalue\u001b[0m\u001b[1;33m,\u001b[0m\u001b[0mprev\u001b[0m\u001b[1;33m,\u001b[0m\u001b[0mNone\u001b[0m\u001b[1;33m)\u001b[0m\u001b[1;33m\u001b[0m\u001b[0m\n\u001b[0m\u001b[0;32m    674\u001b[0m                     \u001b[0mprev\u001b[0m \u001b[1;33m=\u001b[0m \u001b[0mvalue\u001b[0m\u001b[1;33m\u001b[0m\u001b[0m\n\u001b[0;32m    675\u001b[0m                     \u001b[0mtemp_signal\u001b[0m \u001b[1;33m+=\u001b[0m \u001b[0mcombined\u001b[0m\u001b[1;33m[\u001b[0m\u001b[1;36m0\u001b[0m\u001b[1;33m]\u001b[0m \u001b[1;33m/\u001b[0m \u001b[0mfloat\u001b[0m\u001b[1;33m(\u001b[0m\u001b[0mlen\u001b[0m\u001b[1;33m(\u001b[0m\u001b[0mself\u001b[0m\u001b[1;33m)\u001b[0m\u001b[1;33m)\u001b[0m\u001b[1;33m\u001b[0m\u001b[0m\n",
      "\u001b[1;32m/home/jani-local/Programming/Python/PyHEADTAIL_feedback/processors.pyc\u001b[0m in \u001b[0;36mcombine\u001b[1;34m(self, x1, x2, reader_position, x_to_xp)\u001b[0m\n\u001b[0;32m    693\u001b[0m         \u001b[1;31m# knowledge about phase advance between signals. After this turns the vector to the reader's phase\u001b[0m\u001b[1;33m\u001b[0m\u001b[1;33m\u001b[0m\u001b[0m\n\u001b[0;32m    694\u001b[0m         \u001b[1;31m# TODO: Why not x2[3]-x1[3]?\u001b[0m\u001b[1;33m\u001b[0m\u001b[1;33m\u001b[0m\u001b[0m\n\u001b[1;32m--> 695\u001b[1;33m         \u001b[0mphi_x1_x2\u001b[0m \u001b[1;33m=\u001b[0m \u001b[0mx1\u001b[0m\u001b[1;33m[\u001b[0m\u001b[1;36m3\u001b[0m\u001b[1;33m]\u001b[0m\u001b[1;33m-\u001b[0m\u001b[0mx2\u001b[0m\u001b[1;33m[\u001b[0m\u001b[1;36m3\u001b[0m\u001b[1;33m]\u001b[0m\u001b[1;33m\u001b[0m\u001b[0m\n\u001b[0m\u001b[0;32m    696\u001b[0m         \u001b[1;31m# print 'x1: ' + str(x1[3]) + ' x2: ' + str(x2[3]) + ' diff:' + str(phi_x1_x2)\u001b[0m\u001b[1;33m\u001b[0m\u001b[1;33m\u001b[0m\u001b[0m\n\u001b[0;32m    697\u001b[0m         \u001b[0ms\u001b[0m \u001b[1;33m=\u001b[0m \u001b[0mnp\u001b[0m\u001b[1;33m.\u001b[0m\u001b[0msin\u001b[0m\u001b[1;33m(\u001b[0m\u001b[0mphi_x1_x2\u001b[0m\u001b[1;33m)\u001b[0m\u001b[1;33m\u001b[0m\u001b[0m\n",
      "\u001b[1;31mTypeError\u001b[0m: unsupported operand type(s) for -: 'NoneType' and 'NoneType'"
     ]
    }
   ],
   "source": [
    "# CASE I\n",
    "# Signals go through five processors:\n",
    "# ChargeWeighter(): Pickup signal is weighted with beam current (charge). The maximum weight is normalized to be one.\n",
    "# LowpassFilter(f_c): Simulates an analog bandwidth of a pick up.\n",
    "# VectorSumRegister(delay, n_avg, omega): Simulates delay and averaging of the signal. Input paremeters are delay [turn], \n",
    "#               a length of the averaging window [turn] and a betatron phase shift per turn (omega) [rad]. The total \n",
    "#               length of the register is delay + n_avg\n",
    "# EdgeWeighter(bunch_length,bunch_decay_length,maximum_weight): Because of the charge weighting, \n",
    "#               the kick on edges of the bunch is weaker than on the middle of the bunch. This processor is used to \n",
    "#               amplify signal on the edges.\n",
    "#               The input parameters are an estimated bunch length (bunch_length) [m], a bunch decay length on the edge \n",
    "#               of the bunch  (bunch_decay_length) [m] and a maximum weight amplification outside of the bunch \n",
    "#               (maximum_weight) \n",
    "# PhaseLinearizedLowpass(f_c_kicker): Simulates bandwidth of the kicker\n",
    "\n",
    "bunch_fast_FB = copy.deepcopy(bunch_ref)\n",
    "tracker_fast_FB = BunchTracker(bunch_fast_FB)\n",
    "\n",
    "#Cut off frequencies of the pickup and the kicker\n",
    "f_c_pickup = 1e12\n",
    "f_c_kicker = 1e10\n",
    "\n",
    "# parameters for the register:\n",
    "# betatron phase shifts per turn\n",
    "omega_x = 2.*pi*Q_x\n",
    "omega_y = 2.*pi*Q_y\n",
    "# delay [turns]\n",
    "n_delay = 2\n",
    "# number of turns averaged\n",
    "n_avg = 5\n",
    "\n",
    "# parameters for the inverse weighter\n",
    "bunch_length = 0.2\n",
    "bunch_decay_length = 0.1\n",
    "maximum_weight = 150\n",
    "\n",
    "signal_processors_x = [ChargeWeighter(),\n",
    "                       LowpassFilter(f_c_pickup),\n",
    "                       VectorSumRegister(n_delay,n_avg,omega_x),\n",
    "                       EdgeWeighter(bunch_length,bunch_decay_length,maximum_weight),\n",
    "                       PhaseLinearizedLowpass(f_c_kicker)]\n",
    "\n",
    "signal_processors_y = [ChargeWeighter(),\n",
    "                       LowpassFilter(f_c_pickup),\n",
    "                       VectorSumRegister(n_delay,n_avg,omega_y),\n",
    "                       EdgeWeighter(bunch_length,bunch_decay_length,maximum_weight),\n",
    "                       PhaseLinearizedLowpass(f_c_kicker)]\n",
    "\n",
    "feedback_map = OneboxFeedback(feedback_gain,slicer,signal_processors_x,signal_processors_y)\n",
    "total_map_FB = [i for i in trans_map] + [long_map] + [feedback_map]\n",
    "\n",
    "track(n_turns, bunch_fast_FB,total_map_FB,tracker_fast_FB)\n",
    "\n",
    "compare_traces([tracker_IdealSliceFB,tracker_fast_FB], ['IdealSliceFeedback', 'Implementation \\nwith OneBox FB'])\n",
    "compare_projections([bunch_IdealSliceFB, bunch_fast_FB], ['IdealSliceFeedback', 'Implementation \\nwith OneBox FB'])"
   ]
  },
  {
   "cell_type": "code",
   "execution_count": null,
   "metadata": {
    "collapsed": false
   },
   "outputs": [],
   "source": [
    "# CASE II\n",
    "# This example is similar to CASE I, but it uses a signalprocessor PickUpProcessor to emulate a two plates pickup, where\n",
    "# signal is a ratio of a difference and a sum signals from the plates. \n",
    "\n",
    "# PickUpProcessor(RMS_noise,f_cutoff, threshold, reference) requires three input parameters:\n",
    "# RMS_noise: an absulute RMS noise level for one plate in units of the input signal [m] or [m rad].\n",
    "# f_cutoff: a cut off frequency for low pass filter in one plate\n",
    "# threshold: a relative signal level from the reference signal level below which the singal is set to be zero\n",
    "# reference: a reference signal level, when the beam moves in the middle of the beam tube [in the units of input signal]\n",
    "\n",
    "bunch_fast_FB = copy.deepcopy(bunch_ref)\n",
    "tracker_fast_FB = BunchTracker(bunch_fast_FB)\n",
    "\n",
    "#Cut off frequencies of the pickup and the kicker\n",
    "f_c_pickup = 1e12\n",
    "f_c_kicker = 1e10\n",
    "\n",
    "# parameters for the register:\n",
    "# betatron phase shifts per turn\n",
    "omega_x = 2.*pi*Q_x\n",
    "omega_y = 2.*pi*Q_y\n",
    "# delay [turns]\n",
    "n_delay = 1\n",
    "# number of turns averaged\n",
    "n_avg = 10\n",
    "\n",
    "# parameters for the inverse weighter\n",
    "# parameters for the inverse weighter\n",
    "bunch_length = 0.2\n",
    "bunch_decay_length = 0.1\n",
    "maximum_weight = 10\n",
    "\n",
    "noise_level = 0.1e-3\n",
    "threshold_level = 0.4e-3\n",
    "\n",
    "signal_processors_x = [PickUp(noise_level,f_c_pickup,threshold_level),\n",
    "                       VectorSumRegister(n_delay,n_avg,omega_x),\n",
    "                       PhaseLinearizedLowpass(f_c_kicker)\n",
    "                      ]\n",
    "\n",
    "signal_processors_y = [PickUp(noise_level,f_c_pickup,threshold_level),\n",
    "                       VectorSumRegister(n_delay,n_avg,omega_y),\n",
    "                       PhaseLinearizedLowpass(f_c_kicker)\n",
    "                      ]\n",
    "\n",
    "feedback_map = OneboxFeedback(feedback_gain,slicer,signal_processors_x,signal_processors_y,'displacement')\n",
    "total_map_FB = [i for i in trans_map] + [long_map] + [feedback_map]\n",
    "\n",
    "track(n_turns, bunch_fast_FB,total_map_FB,tracker_fast_FB)\n",
    "\n",
    "compare_traces([tracker_IdealSliceFB,tracker_fast_FB], ['IdealSliceFeedback', 'Implementation \\nwith OneBox FB'])\n",
    "compare_projections([bunch_IdealSliceFB, bunch_fast_FB], ['IdealSliceFeedback', 'Implementation \\nwith OneBox FB'])"
   ]
  }
 ],
 "metadata": {
  "kernelspec": {
   "display_name": "Python 2",
   "language": "python",
   "name": "python2"
  },
  "language_info": {
   "codemirror_mode": {
    "name": "ipython",
    "version": 2
   },
   "file_extension": ".py",
   "mimetype": "text/x-python",
   "name": "python",
   "nbconvert_exporter": "python",
   "pygments_lexer": "ipython2",
   "version": "2.7.5"
  }
 },
 "nbformat": 4,
 "nbformat_minor": 0
}
