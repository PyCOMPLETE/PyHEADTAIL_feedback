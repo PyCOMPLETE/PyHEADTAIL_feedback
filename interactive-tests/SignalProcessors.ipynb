{
 "cells": [
  {
   "cell_type": "code",
   "execution_count": 37,
   "metadata": {
    "collapsed": false
   },
   "outputs": [],
   "source": [
    "import sys, os\n",
    "BIN = os.path.expanduser(\"../../\")\n",
    "sys.path.append(BIN)\n",
    "\n",
    "import numpy as np\n",
    "from scipy.constants import m_p, c, e, pi\n",
    "\n",
    "import matplotlib.pyplot as plt\n",
    "%matplotlib inline\n",
    "\n",
    "import copy\n",
    "import itertools\n",
    "\n",
    "\n",
    "from PyHEADTAIL.trackers.simple_long_tracking import LinearMap\n",
    "from PyHEADTAIL.particles.slicing import UniformBinSlicer\n",
    "import PyHEADTAIL.particles.generators as generators\n",
    "import PyHEADTAIL_feedback.signal_processors as processors\n",
    "\n",
    "np.random.seed(0)"
   ]
  },
  {
   "cell_type": "code",
   "execution_count": 38,
   "metadata": {
    "collapsed": true
   },
   "outputs": [],
   "source": [
    "def generate_bunch(n_macroparticles, alpha_x, alpha_y, beta_x, beta_y, linear_map):\n",
    "    \n",
    "    intensity = 1.05e11\n",
    "    sigma_z = 0.059958\n",
    "    gamma = 3730.26\n",
    "    gamma_t = 1. / np.sqrt(alpha_0)\n",
    "    p0 = np.sqrt(gamma**2 - 1) * m_p * c\n",
    "\n",
    "    beta_z = (linear_map.eta(dp=0, gamma=gamma) * linear_map.circumference / \n",
    "              (2 * np.pi * linear_map.Qs))\n",
    "\n",
    "    epsn_x = 3.75e-6 # [m rad]\n",
    "    epsn_y = 3.75e-6 # [m rad]\n",
    "    epsn_z = 4 * np.pi * sigma_z**2 * p0 / (beta_z * e) \n",
    "    \n",
    "    bunch = generators.generate_Gaussian6DTwiss(\n",
    "        macroparticlenumber=n_macroparticles, intensity=intensity, charge=e,\n",
    "        gamma=gamma, mass=m_p, circumference=C,\n",
    "        alpha_x=alpha_x, beta_x=beta_x, epsn_x=epsn_x,\n",
    "        alpha_y=alpha_y, beta_y=beta_y, epsn_y=epsn_y,\n",
    "        beta_z=beta_z, epsn_z=epsn_z)\n",
    "    \n",
    "    return bunch"
   ]
  },
  {
   "cell_type": "code",
   "execution_count": 39,
   "metadata": {
    "collapsed": false
   },
   "outputs": [],
   "source": [
    "def compare_processor_chains(slice_set,chain_1,chain_2,legend_1,legend_2):\n",
    "    \n",
    "    orginal = np.array(slice_set.mean_x)\n",
    "    z = np.array(slice_set.mean_z)\n",
    "    signal_1 = copy.deepcopy(orginal)\n",
    "    signal_2 = copy.deepcopy(orginal)\n",
    "    \n",
    "    for processor in chain_1:\n",
    "        signal_1 = processor.process(signal_1,slice_set)\n",
    "        \n",
    "    for processor in chain_2:\n",
    "        signal_2 = processor.process(signal_2,slice_set)\n",
    "        \n",
    "    plt.plot(z,orginal,'k-')\n",
    "    plt.plot(z,signal_1,'b-')\n",
    "    plt.plot(z,signal_2,'r-')\n",
    "    plt.show()\n",
    "    \n",
    "    #print orginal\n",
    "    #print signal_1\n"
   ]
  },
  {
   "cell_type": "code",
   "execution_count": 40,
   "metadata": {
    "collapsed": true
   },
   "outputs": [],
   "source": [
    "class SquareSignal(object):\n",
    "    def __init__(self,z_min, z_max, points, magnitude, charge_sigma):\n",
    "        self.z_bins=np.linspace(z_min,z_max,points)\n",
    "        self.mean_z = np.array([(i+j)/2. for i, j in zip(self.z_bins, self.z_bins[1:])])\n",
    "        self.mean_x = np.zeros(len(self.mean_z))\n",
    "        for i in range(len(self.mean_z)):\n",
    "            if i < np.floor(1.*float(points)/6.):\n",
    "                #print str(i) + ': b'\n",
    "                self.mean_x[i]=0.\n",
    "            elif i < np.floor(3.*float(points)/6.):\n",
    "                #print str(i) + ': c'\n",
    "                self.mean_x[i]=magnitude\n",
    "            elif i < np.floor(5.*float(points)/6.):\n",
    "                #print str(i) + ': d'\n",
    "                self.mean_x[i]=-1.*magnitude\n",
    "            else:\n",
    "                #print str(i) + ': e'\n",
    "                self.mean_x[i]=0.\n",
    "        self.n_macroparticles_per_slice = self.gaussian(self.mean_z,0,charge_sigma)\n",
    "        \n",
    "        #print self.z_bins\n",
    "        #print self.mean_x\n",
    "        #print self.mean_z\n",
    "        #print self.n_macroparticles_per_slice\n",
    "        \n",
    "    def gaussian(self, x, mu, sig):\n",
    "        return np.exp(-np.power(x - mu, 2.) / (2 * np.power(sig, 2.)))"
   ]
  },
  {
   "cell_type": "code",
   "execution_count": 41,
   "metadata": {
    "collapsed": false
   },
   "outputs": [],
   "source": [
    "n_segments = 4\n",
    "n_macroparticles = 1000\n",
    "\n",
    "alpha_x_inj = 0.\n",
    "alpha_y_inj = 0.\n",
    "beta_x_inj = 66.0064\n",
    "beta_y_inj = 71.5376\n",
    "\n",
    "C = 26658.883\n",
    "R = C / (2.*np.pi)\n",
    "\n",
    "s = np.arange(0, n_segments + 1) * C / n_segments\n",
    "\n",
    "Q_s = 0.000000000001\n",
    "alpha_0 = [0.0003225]\n",
    "\n",
    "long_map = LinearMap(alpha_0, C, Q_s)\n",
    "\n",
    "bunch_ref = generate_bunch(n_macroparticles, alpha_x_inj, alpha_y_inj, beta_x_inj, beta_y_inj,long_map)\n",
    "\n",
    "n_sigma_z = 3\n",
    "n_slices = 15\n",
    "z_cuts=(-0.25,0.25)\n",
    "#slicer = UniformBinSlicer(n_slices=n_slices, n_sigma_z=n_sigma_z)\n",
    "\n",
    "slicer = UniformBinSlicer(n_slices, z_cuts=z_cuts)\n",
    "\n",
    "#initial kick\n",
    "slice_set = bunch_ref.get_slices(slicer, statistics=True)\n",
    "p_idx = slice_set.particles_within_cuts\n",
    "s_idx = slice_set.slice_index_of_particle.take(p_idx)\n",
    "\n",
    "#random kicks\n",
    "kick_x = 0.003*(-1.0+2*np.random.rand(n_slices))\n",
    "kick_y = 0.003*(-1.0+2*np.random.rand(n_slices))\n",
    "\n",
    "for p_id, s_id in itertools.izip(p_idx,s_idx):\n",
    "    bunch_ref.x[p_id] += kick_x[s_id]\n",
    "    bunch_ref.y[p_id] += kick_y[s_id]"
   ]
  },
  {
   "cell_type": "code",
   "execution_count": 42,
   "metadata": {
    "collapsed": false
   },
   "outputs": [
    {
     "data": {
      "image/png": "[encoded data removed]",
      "text/plain": [
       "<matplotlib.figure.Figure at 0x7fcb17ed0c10>"
      ]
     },
     "metadata": {},
     "output_type": "display_data"
    }
   ],
   "source": [
    "# TODO:\n",
    "#  -Normalization doesn't work\n",
    "#  -behaviour of the low pass filter is inverted\n",
    "\n",
    "f_c = 1e10\n",
    "\n",
    "signal = SquareSignal(-0.2,0.2,1000,0.00002,0.07)\n",
    "\n",
    "pickup = [\n",
    "    processors.PickUp(0.0001,f_c)\n",
    "]\n",
    "\n",
    "pickup_old = [\n",
    "    processors.ChargeWeighter(),\n",
    "    #processors.LowpassFilter(f_c)\n",
    "]\n",
    "\n",
    "compare_processor_chains(signal, pickup, pickup_old,'a','c')"
   ]
  }
 ],
 "metadata": {
  "kernelspec": {
   "display_name": "Python 2",
   "language": "python",
   "name": "python2"
  },
  "language_info": {
   "codemirror_mode": {
    "name": "ipython",
    "version": 2
   },
   "file_extension": ".py",
   "mimetype": "text/x-python",
   "name": "python",
   "nbconvert_exporter": "python",
   "pygments_lexer": "ipython2",
   "version": "2.7.10"
  }
 },
 "nbformat": 4,
 "nbformat_minor": 0
}
