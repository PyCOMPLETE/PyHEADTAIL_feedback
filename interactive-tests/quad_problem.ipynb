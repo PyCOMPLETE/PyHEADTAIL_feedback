{
 "cells": [
  {
   "cell_type": "code",
   "execution_count": 1,
   "metadata": {
    "collapsed": false
   },
   "outputs": [
    {
     "name": "stdout",
     "output_type": "stream",
     "text": [
      "Scaled: 0.00094181558161\n",
      "Pure: 3.14155862323\n",
      "Scaled, limits: 3.14155862323\n",
      "Coeff: 3335.64095198   iCoeff: 0.000299792458 total: 1.0\n"
     ]
    }
   ],
   "source": [
    "import scipy.integrate as integrate\n",
    "import scipy.special as special\n",
    "from scipy.constants import c\n",
    "\n",
    "f_cutoff = 1.0e12\n",
    "\n",
    "def f_scaled(dz):\n",
    "    if dz == 0:\n",
    "        return 0\n",
    "    else:\n",
    "        value = abs(dz*f_cutoff/c)\n",
    "        # value = abs(dz*1.0e12/299792458.0)\n",
    "        # print 'f_ scaled    dz=' + str(dz) + ' -> ' + str(value)  \n",
    "        return special.k0(value)\n",
    "\n",
    "coeff = f_cutoff/c\n",
    "icoeff = c/f_cutoff\n",
    "\n",
    "scaled = integrate.quad(f_scaled,-10.0*icoeff,10.0*icoeff)\n",
    "# scaled = integrate.quad(f_scaled,-10.0*299792458.0/1.0e12,10.0*299792458.0/1.0e12)\n",
    "print 'Scaled: ' + str(scaled[0])\n",
    "\n",
    "\n",
    "def f(dz):\n",
    "    if dz == 0:\n",
    "        return 0\n",
    "    else:\n",
    "        value = abs(dz)\n",
    "        #print 'dz=' + str(dz) + ' -> ' + str(value)\n",
    "        return special.k0(value)\n",
    "\n",
    "\n",
    "\n",
    "\n",
    "pure = integrate.quad(f,-10,10)\n",
    "print 'Pure: ' + str(pure[0])\n",
    "\n",
    "int_from = icoeff*-10.0\n",
    "int_to = icoeff*10.0\n",
    "\n",
    "\n",
    "scaled_limits = integrate.quad(f,int_from*coeff,int_to*coeff)\n",
    "print 'Scaled, limits: ' + str(scaled_limits[0])\n",
    "\n",
    "print 'Coeff: ' + str(coeff) + \"   iCoeff: \" + str(icoeff) + ' total: ' + str(coeff*icoeff)"
   ]
  }
 ],
 "metadata": {
  "kernelspec": {
   "display_name": "Python 2",
   "language": "python",
   "name": "python2"
  },
  "language_info": {
   "codemirror_mode": {
    "name": "ipython",
    "version": 2
   },
   "file_extension": ".py",
   "mimetype": "text/x-python",
   "name": "python",
   "nbconvert_exporter": "python",
   "pygments_lexer": "ipython2",
   "version": "2.7.10"
  }
 },
 "nbformat": 4,
 "nbformat_minor": 0
}
