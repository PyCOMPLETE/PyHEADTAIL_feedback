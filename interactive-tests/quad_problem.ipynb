{
 "cells": [
  {
   "cell_type": "code",
   "execution_count": 1,
   "metadata": {
    "collapsed": false
   },
   "outputs": [
    {
     "name": "stdout",
     "output_type": "stream",
     "text": [
      "Why do these integrals give different answers?\n",
      "3.14155862323 vs 0.00094181558161\n"
     ]
    }
   ],
   "source": [
    "import scipy.integrate as integrate\n",
    "import scipy.special as special\n",
    "from scipy.constants import c\n",
    "\n",
    "f_cutoff = 1.0e12\n",
    "\n",
    "def f(dz):\n",
    "    if dz == 0.:\n",
    "        return 0.\n",
    "    else:\n",
    "        value = abs(dz)\n",
    "        #print 'x=' + str(x) + ' -> ' + str(value)\n",
    "        return special.k0(value)\n",
    "\n",
    "def f_scaled(dz):\n",
    "    if dz == 0.:\n",
    "        return 0.\n",
    "    else:\n",
    "        value = abs(dz*f_cutoff/c)\n",
    "        #print 'f_ scaled    x=' + str(x) + ' -> ' + str(value)  \n",
    "        return special.k0(value)\n",
    "    \n",
    "pure = integrate.quad(f,-10.0,10.0)\n",
    "\n",
    "scaled = integrate.quad(f_scaled,-10.0*c/f_cutoff,10.0*c/f_cutoff)\n",
    "\n",
    "print \"Why do these integrals give different answers?\"\n",
    "print str(pure[0]) + ' vs ' + str(scaled[0])"
   ]
  }
 ],
 "metadata": {
  "kernelspec": {
   "display_name": "Python 2",
   "language": "python",
   "name": "python2"
  },
  "language_info": {
   "codemirror_mode": {
    "name": "ipython",
    "version": 2
   },
   "file_extension": ".py",
   "mimetype": "text/x-python",
   "name": "python",
   "nbconvert_exporter": "python",
   "pygments_lexer": "ipython2",
   "version": "2.7.11"
  }
 },
 "nbformat": 4,
 "nbformat_minor": 0
}
