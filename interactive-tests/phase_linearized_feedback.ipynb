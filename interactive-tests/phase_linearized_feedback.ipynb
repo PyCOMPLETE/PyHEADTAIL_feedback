{
 "cells": [
  {
   "cell_type": "markdown",
   "metadata": {},
   "source": [
    "## Phase linearized feedback with ideal pickup"
   ]
  },
  {
   "cell_type": "code",
   "execution_count": null,
   "metadata": {
    "collapsed": true
   },
   "outputs": [],
   "source": [
    "#Reference bunch\n",
    "bunch_0 = copy.deepcopy(bunch_ref)\n",
    "bunch_FB = copy.deepcopy(bunch_ref)\n",
    "\n",
    "maps_ref = [i for i in trans_map] + [long_map]\n",
    "\n",
    "f_cutoff = 1e6\n",
    "signal_processors = [PhaseLinearizedLowpass(f_cutoff)]\n",
    "\n",
    "feedback_map = OneboxFeedback(feedback_gain,slicer,signal_processors,charge_weighted=True)\n",
    "maps_feedback = [i for i in trans_map] + [long_map] + [feedback_map]\n",
    "\n",
    "#plot_projections( bunch_0, bunch_FB)\n",
    "track_and_plot(n_turns, bunch_0, maps_ref, bunch_FB, maps_feedback)\n",
    "signal_processors[0].print_matrix()\n",
    "plot_projections( bunch_0, bunch_FB)"
   ]
  },
  {
   "cell_type": "markdown",
   "metadata": {},
   "source": [
    "## Phase linearized feedback with charge weighted pickup"
   ]
  },
  {
   "cell_type": "code",
   "execution_count": null,
   "metadata": {
    "collapsed": true
   },
   "outputs": [],
   "source": [
    "#Reference bunch\n",
    "bunch_0 = copy.deepcopy(bunch_ref)\n",
    "bunch_FB = copy.deepcopy(bunch_ref)\n",
    "\n",
    "maps_ref = [i for i in trans_map] + [long_map]\n",
    "\n",
    "f_cutoff = 1e12\n",
    "signal_processors = [PhaseLinearizedLowpass(f_cutoff)]\n",
    "\n",
    "feedback_map = OneboxFeedback(feedback_gain,slicer,signal_processors,charge_weighted=True)\n",
    "maps_feedback = [i for i in trans_map] + [long_map] + [feedback_map]\n",
    "\n",
    "#plot_projections( bunch_0, bunch_FB)\n",
    "track_and_plot(n_turns, bunch_0, maps_ref, bunch_FB, maps_feedback)\n",
    "signal_processors[0].print_matrix()\n",
    "plot_projections( bunch_0, bunch_FB)"
   ]
  }
 ],
 "metadata": {
  "kernelspec": {
   "display_name": "Python 2",
   "language": "python",
   "name": "python2"
  },
  "language_info": {
   "codemirror_mode": {
    "name": "ipython",
    "version": 2
   },
   "file_extension": ".py",
   "mimetype": "text/x-python",
   "name": "python",
   "nbconvert_exporter": "python",
   "pygments_lexer": "ipython2",
   "version": "2.7.10"
  }
 },
 "nbformat": 4,
 "nbformat_minor": 0
}
