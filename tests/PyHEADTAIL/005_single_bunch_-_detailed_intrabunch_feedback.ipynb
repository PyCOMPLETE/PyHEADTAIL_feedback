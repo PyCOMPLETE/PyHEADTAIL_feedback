{
 "cells": [
  {
   "cell_type": "code",
   "execution_count": null,
   "metadata": {
    "collapsed": false,
    "deletable": true,
    "editable": true
   },
   "outputs": [],
   "source": [
    "from __future__ import unicode_literals\n",
    "\n",
    "import sys, os\n",
    "BIN = os.path.expanduser(\"../../../\")\n",
    "sys.path.append(BIN)\n",
    "\n",
    "import numpy as np\n",
    "from scipy.constants import m_p, c, e, pi\n",
    "import matplotlib.pyplot as plt\n",
    "%matplotlib inline\n",
    "\n",
    "import copy\n",
    "import itertools\n",
    "\n",
    "from test_tools import Machine, generate_objects, BunchTracker, track, compare_traces\n",
    "from test_tools import compare_projections, plot_debug_data\n",
    "\n",
    "from PyHEADTAIL_feedback.feedback import OneboxFeedback, Kicker, PickUp\n",
    "from PyHEADTAIL_feedback.processors.multiplication import ChargeWeighter\n",
    "from PyHEADTAIL_feedback.processors.linear_transform import Averager\n",
    "from PyHEADTAIL_feedback.processors.misc import Bypass\n",
    "from PyHEADTAIL_feedback.processors.register import Register, TurnDelay, TurnFIRFilter\n",
    "from PyHEADTAIL_feedback.processors.convolution import Lowpass, Gaussian, FIRFilter\n",
    "from PyHEADTAIL_feedback.processors.resampling import DAC, ADC, BackToOriginalBins\n",
    "from PyHEADTAIL_feedback.processors.addition import NoiseGenerator\n",
    "np.random.seed(0)"
   ]
  },
  {
   "cell_type": "markdown",
   "metadata": {
    "collapsed": false,
    "deletable": true,
    "editable": true
   },
   "source": [
    "# 005 Detailed intrabunch feedback model\n",
    "\n",
    "In this test/example, signal processors for a detailed feedback model are tested\n",
    "\n",
    "## Basic parameters and elements for the simulations"
   ]
  },
  {
   "cell_type": "code",
   "execution_count": null,
   "metadata": {
    "collapsed": false,
    "deletable": true,
    "editable": true
   },
   "outputs": [],
   "source": [
    "n_macroparticles = 100000\n",
    "n_slices = 50\n",
    "n_segments = 5\n",
    "n_sigma_z = 3\n",
    "# n_sigma_z = 6\n",
    "\n",
    "n_turns = 100\n",
    "\n",
    "# Longitudinal motion of the bunch is not taken into account by default, but it can be included by uncommenting\n",
    "# the line below\n",
    "machine = Machine(n_segments= n_segments)\n",
    "# machine = Machine(Q_s = 0.0020443)\n",
    "\n",
    "bunch_ref, slicer_ref,trans_map, long_map = generate_objects(machine, n_macroparticles, n_slices,n_sigma_z)"
   ]
  },
  {
   "cell_type": "markdown",
   "metadata": {},
   "source": [
    "## Initial bunch kick\n",
    "Creates an artificially (slice-by-slice) kicked bunch, which will be damped by using different feedback implementations. "
   ]
  },
  {
   "cell_type": "code",
   "execution_count": null,
   "metadata": {
    "collapsed": true
   },
   "outputs": [],
   "source": [
    "N_knots = 4\n",
    "amplitude = 1e-3 # [m]\n",
    "\n",
    "temp_bunch = copy.deepcopy(bunch_ref)\n",
    "temp_slicer = copy.deepcopy(slicer_ref)\n",
    "slice_set = temp_bunch.get_slices(temp_slicer)\n",
    "\n",
    "slicing_length = slice_set.z_bins[-1]-slice_set.z_bins[0]\n",
    "wavelength = slicing_length/((N_knots+1.)/2.)\n",
    "\n",
    "bunch_ref.x += amplitude*np.sin(2*np.pi*(bunch_ref.z-slice_set.z_bins[0])/wavelength)\n",
    "bunch_ref.y += amplitude*np.sin(2*np.pi*(bunch_ref.z-slice_set.z_bins[0])/wavelength)"
   ]
  },
  {
   "cell_type": "markdown",
   "metadata": {},
   "source": [
    "## Feedback settings"
   ]
  },
  {
   "cell_type": "code",
   "execution_count": null,
   "metadata": {
    "collapsed": false,
    "deletable": true,
    "editable": true
   },
   "outputs": [],
   "source": [
    "feedback_gain = 0.1\n",
    "# feedback_gain = (0.1,0.4)\n",
    "\n",
    "# delay (a number of turns) before the pickup signal is used to the correction kick calculations.\n",
    "delay = 1\n",
    "\n",
    "# a number of values used to calculate the correct signal\n",
    "n_values = 2\n",
    "\n",
    "RMS_noise_level = 1e-6\n",
    "\n",
    "\n",
    "# feedback settings\n",
    "fc=1e9 # The cut off frequency of the power amplifier\n",
    "ADC_f = 40e9 # multiplier of the sampling rate from the harmonic frequency\n",
    "ADC_n_samples = 50\n",
    "ADC_bits = 16\n",
    "ADC_range = (-3e-3,3e-3)\n",
    "\n",
    "DAC_bits = 14\n",
    "DAC_range = (-3e-3,3e-3)\n",
    "\n",
    "RMS_noise_level = 1e-6"
   ]
  },
  {
   "cell_type": "code",
   "execution_count": null,
   "metadata": {
    "collapsed": false,
    "deletable": true,
    "editable": true
   },
   "outputs": [],
   "source": [
    "# The bunch is kicked \n",
    "oscillation_wavelength = 1./2e9*c # [m]\n",
    "oscillation_amplitide = 1e-3 # [m]\n",
    "\n",
    "map_min = (bunch_ref.z > -80)\n",
    "map_max = (bunch_ref.z < -40)\n",
    "map_total = map_min*map_max\n",
    "\n",
    "# bunch_ref.x[map_total] = bunch_ref.x[map_total]+1e-3\n",
    "# bunch_ref.y[map_total] = bunch_ref.y[map_total]+1e-3\n",
    "\n",
    "bunch_ref.x += oscillation_amplitide*np.sin(2*np.pi*bunch_ref.z/oscillation_wavelength)\n",
    "bunch_ref.y += oscillation_amplitide*np.sin(2*np.pi*bunch_ref.z/oscillation_wavelength)\n",
    "    \n",
    "bunch_init = copy.deepcopy(bunch_ref)\n",
    "tracker_ref = BunchTracker(bunch_init)\n",
    "maps_ref = [i for i in trans_map]\n",
    "# + [long_map]\n",
    "track(n_turns, bunch_init,maps_ref,tracker_ref)"
   ]
  },
  {
   "cell_type": "markdown",
   "metadata": {
    "collapsed": true,
    "deletable": true,
    "editable": true
   },
   "source": [
    "## Reference data\n",
    "Tracks a bunch by using a charge weighted ideal slice-by-slice feedback system presented in the previous test. This data are used as a reference data for the feedback model including multiple pickups and kickers. The data are used as a reference data for the detailed intra bunch feedback model."
   ]
  },
  {
   "cell_type": "code",
   "execution_count": null,
   "metadata": {
    "collapsed": false,
    "deletable": true,
    "editable": true
   },
   "outputs": [],
   "source": [
    "bunch_ref_data = copy.deepcopy(bunch_ref)\n",
    "tracker_ref_data = BunchTracker(bunch_ref_data)\n",
    "slicer_ref_data = copy.deepcopy(slicer_ref)\n",
    "\n",
    "processors_bunch_x = [\n",
    "    ChargeWeighter()\n",
    "]\n",
    "processors_bunch_y = [\n",
    "    ChargeWeighter()\n",
    "]\n",
    "\n",
    "feedback_map = OneboxFeedback(feedback_gain,slicer_ref_data,processors_bunch_x,processors_bunch_y)\n",
    "one_turn_map = [i for i in trans_map] + [feedback_map] + [long_map]\n",
    "\n",
    "track(n_turns, bunch_ref_data ,one_turn_map,tracker_ref_data)"
   ]
  },
  {
   "cell_type": "markdown",
   "metadata": {},
   "source": [
    "## Detailed feedback model\n",
    "Signal processors required for a detailed model of the transverse feedback system are tested here. Note that the tested system does not describe accurately any existing system, and the details of the models might affect significantly to the simulation results.\n",
    "\n",
    "### FIR filter coefficients for the bandwidth phase correction\n",
    "The bandwidth of this model is limited by using a 1st order lowpass filter, which has non-linear phase response. The phase of the filter is linearized by using a FIR filter. The filter coefficients are from Ref.  https://accelconf.web.cern.ch/accelconf/e08/papers/thpc122.pdf . Note that this is a test example and the coefficients are designed to the intrabunch feedback nor tuned to work perfectly with this model."
   ]
  },
  {
   "cell_type": "code",
   "execution_count": null,
   "metadata": {
    "collapsed": true
   },
   "outputs": [],
   "source": [
    "# Coefficients from \n",
    "FIR_filter = [0.0096,  0.0192,  0.0481,  0.0673,  0.0769,  0.1154,\n",
    "                0.1442,  0.1442,  0.2115,  0.2403,  0.2596,  0.3077,\n",
    "                0.3558,  0.3846,  0.4519,  0.5192,  0.6346,  0.75,\n",
    "                0.9519,  1.2019,  1.6346,  2.6346,  7.0192, -5.1923,\n",
    "                -1.4135, -0.6827, -0.3942, -0.2308, -0.1442, -0.096,\n",
    "                -0.0192, -0.0096]\n",
    "FIR_filter = np.array(FIR_filter)\n",
    "FIR_filter = FIR_filter/sum(FIR_filter)"
   ]
  },
  {
   "cell_type": "markdown",
   "metadata": {},
   "source": [
    "### Turn-by-turn FIR filter for the betatron phase correction\n",
    "The betatron phase correction is implemented manually by using a turn-by-turn FIR filter. Coefficients are from Ref. http://accelconf.web.cern.ch/AccelConf/IPAC2011/papers/mopo013.pdf, but they are not optimized to this model."
   ]
  },
  {
   "cell_type": "code",
   "execution_count": null,
   "metadata": {
    "collapsed": false,
    "deletable": true,
    "editable": true
   },
   "outputs": [],
   "source": [
    "# the total (group) delay to the middle coefficient is four turns, i.e.\n",
    "phase_shift_x = -4. * machine.Q_x * 2.* pi\n",
    "turn_FIR_filter_x = [-2. * np.sin(phase_shift_x)/(pi * 3.),\n",
    "                   0,\n",
    "                   -2. * np.sin(phase_shift_x)/(pi * 1.),\n",
    "                   np.cos(phase_shift_x),\n",
    "                   2. * np.sin(phase_shift_x)/(pi * 1.),\n",
    "                   0,\n",
    "                   2. * np.sin(phase_shift_x)/(pi * 3.)\n",
    "                   ]\n",
    "\n",
    "phase_shift_y = -4. * machine.Q_y * 2.* pi\n",
    "turn_FIR_filter_y = [-2. * np.sin(phase_shift_y)/(pi * 3.),\n",
    "                   0,\n",
    "                   -2. * np.sin(phase_shift_y)/(pi * 1.),\n",
    "                   np.cos(phase_shift_y),\n",
    "                   2. * np.sin(phase_shift_y)/(pi * 1.),\n",
    "                   0,\n",
    "                   2. * np.sin(phase_shift_y)/(pi * 3.)\n",
    "                   ]\n"
   ]
  },
  {
   "cell_type": "markdown",
   "metadata": {},
   "source": [
    "### The model\n",
    "This model includes elements for digital signal processing (ADC, FIR filters and DAC) and power amplifier/kicker bandwidth limitation. A model for pickup could be built, but in this test a charge weighted signal (𝛥-signal) is used (read more about this choice from the previous test)."
   ]
  },
  {
   "cell_type": "code",
   "execution_count": null,
   "metadata": {
    "collapsed": false,
    "deletable": true,
    "editable": true
   },
   "outputs": [],
   "source": [
    "bunch_detailed = copy.deepcopy(bunch_ref)\n",
    "tracker_detailed = BunchTracker(bunch_detailed)\n",
    "slicer_detailed = copy.deepcopy(slicer_ref)\n",
    "\n",
    "processors_detailed_x = [\n",
    "        Bypass(debug=True),\n",
    "        ChargeWeighter(debug=False),\n",
    "        NoiseGenerator(RMS_noise_level, debug=False),\n",
    "        ADC(ADC_f, ADC_bits, ADC_range, n_samples=None, debug=True),\n",
    "        FIRFilter(FIR_filter, zero_tap = 23, debug=True),\n",
    "        TurnFIRFilter(turn_FIR_filter_x, machine.Q_x, delay = 1, debug=False),\n",
    "        DAC(ADC_bits, ADC_range, debug=True),\n",
    "        Lowpass(fc, f_cutoff_2nd=4*fc, debug=True),\n",
    "        BackToOriginalBins(debug=True),\n",
    "]\n",
    "\n",
    "processors_detailed_y = [\n",
    "        Bypass(debug=True),\n",
    "        ChargeWeighter(debug=True),\n",
    "        NoiseGenerator(RMS_noise_level, debug=True),\n",
    "        ADC(ADC_f, ADC_bits, ADC_range, n_samples=ADC_n_samples, debug=True),\n",
    "        FIRFilter(FIR_filter, zero_tap = 23, debug=True),\n",
    "        TurnFIRFilter(turn_FIR_filter_y, machine.Q_y, delay = 1, debug=True),\n",
    "        DAC(ADC_bits, ADC_range, debug=True),\n",
    "        Lowpass(fc, f_cutoff_2nd=4*fc, debug=True),\n",
    "        BackToOriginalBins(debug=True),\n",
    "]\n",
    "\n",
    "\n",
    "feedback_map = OneboxFeedback(feedback_gain,slicer_detailed,\n",
    "                              processors_detailed_x,processors_detailed_y)\n",
    "one_turn_map = [feedback_map] + [i for i in trans_map] # + [long_map]\n",
    "\n",
    "track(n_turns, bunch_detailed, one_turn_map, tracker_detailed)\n",
    "plot_debug_data(processors_detailed_x, source = 'output')"
   ]
  },
  {
   "cell_type": "code",
   "execution_count": null,
   "metadata": {
    "collapsed": false,
    "deletable": true,
    "editable": true
   },
   "outputs": [],
   "source": [
    "# In here, the traces and the projections from different implementations of the feedback system are compared.\n",
    "# Note: the properties are calculated over all particles in all bunches\n",
    "# Note: the scale in the emittance figures\n",
    "\n",
    "compare_traces([tracker_ref_data,tracker_detailed],\n",
    "               ['Charge weighter ideal\\nslice-by-slice feedback', 'Detailed model'])\n",
    "compare_projections([ bunch_ref_data,  bunch_detailed], \n",
    "                    ['Charge weighter ideal\\nslice-by-slice feedback', 'Detailed model'])\n",
    "\n",
    "# compare_traces([tracker_OneBox_bunch,tracker_register_example],\n",
    "#                ['Ideal', 'Delayed', 'Separated'])\n",
    "# compare_projections([ bunch_OneBox_bunch,  bunch_register_example], \n",
    "#                     ['Ideal', 'Delayed', 'Separated'])"
   ]
  },
  {
   "cell_type": "markdown",
   "metadata": {
    "collapsed": true,
    "deletable": true,
    "editable": true
   },
   "source": [
    "Jani Komppula, CERN, 2017"
   ]
  },
  {
   "cell_type": "code",
   "execution_count": null,
   "metadata": {
    "collapsed": true,
    "deletable": true,
    "editable": true
   },
   "outputs": [],
   "source": [
    "\n",
    "\n"
   ]
  }
 ],
 "metadata": {
  "kernelspec": {
   "display_name": "Python 2",
   "language": "python",
   "name": "python2"
  },
  "language_info": {
   "codemirror_mode": {
    "name": "ipython",
    "version": 2
   },
   "file_extension": ".py",
   "mimetype": "text/x-python",
   "name": "python",
   "nbconvert_exporter": "python",
   "pygments_lexer": "ipython2",
   "version": "2.7.14"
  }
 },
 "nbformat": 4,
 "nbformat_minor": 1
}
