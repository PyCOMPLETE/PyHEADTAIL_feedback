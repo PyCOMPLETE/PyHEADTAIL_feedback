{
 "cells": [
  {
   "cell_type": "code",
   "execution_count": null,
   "metadata": {
    "collapsed": false,
    "deletable": true,
    "editable": true
   },
   "outputs": [],
   "source": [
    "from __future__ import unicode_literals\n",
    "\n",
    "import sys, os\n",
    "BIN = os.path.expanduser(\"../../../\")\n",
    "sys.path.append(BIN)\n",
    "\n",
    "import numpy as np\n",
    "from scipy.constants import m_p, c, e, pi\n",
    "import matplotlib.pyplot as plt\n",
    "%matplotlib inline\n",
    "\n",
    "import copy\n",
    "import itertools\n",
    "\n",
    "from test_tools import generate_objects, BunchTracker, track, compare_traces, compare_beam_projections, Machine\n",
    "\n",
    "from PyHEADTAIL_feedback.feedback import OneboxFeedback, Kicker, PickUp\n",
    "from PyHEADTAIL_feedback.processors.multiplication import ChargeWeighter\n",
    "from PyHEADTAIL_feedback.processors.linear_transform import Averager\n",
    "from PyHEADTAIL_feedback.processors.misc import Bypass\n",
    "from PyHEADTAIL_feedback.processors.register import Register, TurnDelay, UncorrectedDelay\n",
    "\n",
    "np.random.seed(0)"
   ]
  },
  {
   "cell_type": "markdown",
   "metadata": {},
   "source": [
    "# 006 Separate pickup and kicker with multi bunch beam\n",
    "\n",
    "In this test/example a pickup and a kicker are located separately in the one turn map and beam consists of multiple bunches. The test is identical to the test *002\\_single\\_bunch\\_\\-\\_separate\\_pickup\\_and\\_kicker.ipynb* expect that multibunch PyHEADTAIL beam is used and one_turn_map objects are run in the MPI mode.\n",
    "\n",
    "## Basic parameters and elements for the simulations"
   ]
  },
  {
   "cell_type": "code",
   "execution_count": null,
   "metadata": {
    "collapsed": false,
    "deletable": true,
    "editable": true
   },
   "outputs": [],
   "source": [
    "%%capture\n",
    "\n",
    "n_macroparticles = 1000\n",
    "n_slices = 20\n",
    "n_segments = 5\n",
    "n_sigma_z = 3\n",
    "# n_sigma_z = 6\n",
    "\n",
    "n_turns = 150\n",
    "\n",
    "machine = Machine(n_segments= n_segments)\n",
    "\n",
    "first_index = 10 #[buckets]\n",
    "batch_spacing = 100  #[buckets]\n",
    "n_batches = 2\n",
    "n_bunches_per_batch = 20\n",
    "bunch_spacing = 10 #[buckets]\n",
    "\n",
    "batch_separation = batch_spacing+n_bunches_per_batch* bunch_spacing\n",
    "\n",
    "filling_scheme = []\n",
    "for j in xrange(n_batches):\n",
    "    for i in xrange(n_bunches_per_batch):\n",
    "        filling_scheme.append(first_index + i * bunch_spacing + j*batch_separation)\n",
    "\n",
    "\n",
    "print filling_scheme\n",
    "\n",
    "beam_ref, slicer_ref,trans_map, long_map = generate_objects(machine, n_macroparticles, n_slices,n_sigma_z,\n",
    "                                                             filling_scheme=filling_scheme);\n"
   ]
  },
  {
   "cell_type": "code",
   "execution_count": null,
   "metadata": {
    "collapsed": false
   },
   "outputs": [],
   "source": [
    "print('Number of bunches: ' + str(len(beam_ref.split())))"
   ]
  },
  {
   "cell_type": "markdown",
   "metadata": {},
   "source": [
    "## Initial bunch kicks\n",
    "Creates an artificially (bunch-by-bunch) kicked beam, which will be damped by using different feedback models. "
   ]
  },
  {
   "cell_type": "code",
   "execution_count": null,
   "metadata": {
    "collapsed": false,
    "deletable": true,
    "editable": true
   },
   "outputs": [],
   "source": [
    "bunch_list = beam_ref.split()\n",
    "\n",
    "n_bunches = len(bunch_list)\n",
    "\n",
    "kick_x = 0.003*(-1.0+2*np.random.rand(n_bunches))\n",
    "kick_y = 0.003*(-1.0+2*np.random.rand(n_bunches))\n",
    "\n",
    "for i in xrange(n_bunches):\n",
    "    bunch_list[i].x = bunch_list[i].x + kick_x[i]\n",
    "    bunch_list[i].y = bunch_list[i].y + kick_y[i]\n",
    "\n",
    "beam_ref = sum(bunch_list)"
   ]
  },
  {
   "cell_type": "markdown",
   "metadata": {},
   "source": [
    "## Feedback settings"
   ]
  },
  {
   "cell_type": "code",
   "execution_count": null,
   "metadata": {
    "collapsed": true
   },
   "outputs": [],
   "source": [
    "feedback_gain = 0.1\n",
    "# feedback_gain = (0.1,0.4)\n",
    "\n",
    "# delay (a number of turns) before the pickup signal is used to the correction kick calculations.\n",
    "delay = 1\n",
    "\n",
    "# a number of values used to calculate the correct signal\n",
    "n_values = 2"
   ]
  },
  {
   "cell_type": "markdown",
   "metadata": {},
   "source": [
    "## Reference data\n",
    "Tracks a bunch by using an ideal bunch-by-bunch feedback system presented in the previous test (001_ideal_feedbacks.ipynb). This data are used as a reference data for the feedback models including delay and serate pickup(s) and kicker(s)"
   ]
  },
  {
   "cell_type": "code",
   "execution_count": null,
   "metadata": {
    "collapsed": false
   },
   "outputs": [],
   "source": [
    "beam_ref_data = copy.deepcopy(beam_ref)\n",
    "tracker_ref_data = BunchTracker(beam_ref_data)\n",
    "slicer_ref_data = copy.deepcopy(slicer_ref)\n",
    "\n",
    "processors_bunch_x = [\n",
    "    ChargeWeighter(normalization = 'segment_average'),\n",
    "    Averager()\n",
    "]\n",
    "processors_bunch_y = [\n",
    "    ChargeWeighter(normalization = 'segment_average'),\n",
    "    Averager()\n",
    "]\n",
    "\n",
    "feedback_map = OneboxFeedback(feedback_gain,slicer_ref_data,processors_bunch_x,processors_bunch_y, mpi=True)\n",
    "one_turn_map = [i for i in trans_map] + [feedback_map] #  + [long_map]\n",
    "\n",
    "track(n_turns, beam_ref_data,one_turn_map ,tracker_ref_data)"
   ]
  },
  {
   "cell_type": "markdown",
   "metadata": {
    "collapsed": false,
    "deletable": true,
    "editable": true
   },
   "source": [
    "## Case 1: turn delay"
   ]
  },
  {
   "cell_type": "code",
   "execution_count": null,
   "metadata": {
    "collapsed": false,
    "deletable": true,
    "editable": true
   },
   "outputs": [],
   "source": [
    "beam_delay_algorithm = copy.deepcopy(beam_ref)\n",
    "tracker_delay_algorithm = BunchTracker(beam_delay_algorithm)\n",
    "slicer_delay_algorithm = copy.deepcopy(slicer_ref)\n",
    "\n",
    "\n",
    "\n",
    "processors_delay_algorithm_x = [\n",
    "    ChargeWeighter(normalization = 'segment_average'),\n",
    "    Averager(),\n",
    "    TurnDelay(delay, machine.Q_x, n_values,additional_phase_advance=0.)\n",
    "]\n",
    "processors_delay_algorithm_y = [\n",
    "    ChargeWeighter(normalization = 'segment_average'),\n",
    "    Averager(),\n",
    "    TurnDelay(delay, machine.Q_y, n_values,additional_phase_advance=0.)\n",
    "]\n",
    "\n",
    "feedback_map = OneboxFeedback(feedback_gain,slicer_delay_algorithm,\n",
    "                              processors_delay_algorithm_x,processors_delay_algorithm_y, mpi=True)\n",
    "one_turn_map = [feedback_map] + [i for i in trans_map] # + [long_map]\n",
    "\n",
    "track(n_turns, beam_delay_algorithm,one_turn_map,tracker_delay_algorithm)\n"
   ]
  },
  {
   "cell_type": "markdown",
   "metadata": {},
   "source": [
    "## Case 2: separate pickup and kicker "
   ]
  },
  {
   "cell_type": "code",
   "execution_count": null,
   "metadata": {
    "collapsed": true
   },
   "outputs": [],
   "source": [
    "# Beta function values in the pickup and the kicker locations\n",
    "pickup_beta_x = machine.beta_x\n",
    "pickup_beta_y = machine.beta_y\n",
    "\n",
    "kicker_beta_x = machine.beta_x\n",
    "kicker_beta_y = machine.beta_y"
   ]
  },
  {
   "cell_type": "code",
   "execution_count": null,
   "metadata": {
    "collapsed": true
   },
   "outputs": [],
   "source": [
    "pickup_location_x = 1.*2.*pi/float(n_segments)*machine.Q_x\n",
    "pickup_location_y = 1.*2.*pi/float(n_segments)*machine.Q_y\n",
    "\n",
    "kicker_location_x = 2.*2.*pi/float(n_segments)*machine.Q_x\n",
    "kicker_location_y = 2.*2.*pi/float(n_segments)*machine.Q_y"
   ]
  },
  {
   "cell_type": "code",
   "execution_count": null,
   "metadata": {
    "collapsed": false,
    "deletable": true,
    "editable": true
   },
   "outputs": [],
   "source": [
    "beam_separate_algorithm = copy.deepcopy(beam_ref)\n",
    "tracker_separate_algorithm = BunchTracker(beam_separate_algorithm)\n",
    "slicer_separate_algorithm = copy.deepcopy(slicer_ref)\n",
    "\n",
    "# Exactly same signal processors as in the previous example are used in the pickup\n",
    "processors_pickup_x = [\n",
    "    ChargeWeighter(normalization = 'segment_average'),\n",
    "    Averager(),\n",
    "    Register(n_values, machine.Q_x, delay)\n",
    "]\n",
    "processors_pickup_y = [\n",
    "    ChargeWeighter(normalization = 'segment_average'),\n",
    "    Averager(),\n",
    "    Register(n_values, machine.Q_y, delay)\n",
    "]\n",
    "\n",
    "pickup_map = PickUp(slicer_separate_algorithm,processors_pickup_x,processors_pickup_y, pickup_location_x,\n",
    "                    pickup_beta_x, pickup_location_y, pickup_beta_y, mpi=True)\n",
    "\n",
    "\n",
    "# In this example, the signals are not modified in the kicker, i.e. only bypass processors are used\n",
    "processors_kicker_x = [Bypass()]\n",
    "processors_kicker_y = [Bypass()]\n",
    "\n",
    "# A list of references to registers from the signal processors(s) of the pickup(s)\n",
    "registers_x = [processors_pickup_x[-1]]\n",
    "registers_y = [processors_pickup_y[-1]]\n",
    "\n",
    "kicker_map = Kicker(feedback_gain, slicer_separate_algorithm, processors_kicker_x, processors_kicker_y,\n",
    "                    registers_x, registers_y, kicker_location_x, kicker_beta_x, kicker_location_y, kicker_beta_y,\n",
    "                    mpi=True)\n",
    "\n",
    "one_turn_map = [trans_map[0]] + [pickup_map] + [trans_map[1]] + [kicker_map]\n",
    "for element in trans_map[2:]:\n",
    "    one_turn_map += [element]\n",
    "# tone_turn_map += [long_map]\n",
    "    \n",
    "track(n_turns, beam_separate_algorithm,one_turn_map,tracker_separate_algorithm)"
   ]
  },
  {
   "cell_type": "markdown",
   "metadata": {},
   "source": [
    "## Results comparison"
   ]
  },
  {
   "cell_type": "code",
   "execution_count": null,
   "metadata": {
    "collapsed": false,
    "deletable": true,
    "editable": true
   },
   "outputs": [],
   "source": [
    "compare_traces([tracker_ref_data,tracker_delay_algorithm, tracker_separate_algorithm],\n",
    "               ['Reference', 'Delayed, algorithm', 'Separate, algorithm'])\n",
    "compare_beam_projections([beam_ref_data,beam_delay_algorithm, beam_separate_algorithm],\n",
    "               ['Reference', 'Delayed, algorithm', 'Separate, algorithm'])"
   ]
  },
  {
   "cell_type": "markdown",
   "metadata": {
    "collapsed": true,
    "deletable": true,
    "editable": true
   },
   "source": [
    "Jani Komppula, CERN, 2017"
   ]
  },
  {
   "cell_type": "code",
   "execution_count": null,
   "metadata": {
    "collapsed": true,
    "deletable": true,
    "editable": true
   },
   "outputs": [],
   "source": []
  }
 ],
 "metadata": {
  "kernelspec": {
   "display_name": "Python 2",
   "language": "python",
   "name": "python2"
  },
  "language_info": {
   "codemirror_mode": {
    "name": "ipython",
    "version": 2
   },
   "file_extension": ".py",
   "mimetype": "text/x-python",
   "name": "python",
   "nbconvert_exporter": "python",
   "pygments_lexer": "ipython2",
   "version": "2.7.14"
  }
 },
 "nbformat": 4,
 "nbformat_minor": 1
}
