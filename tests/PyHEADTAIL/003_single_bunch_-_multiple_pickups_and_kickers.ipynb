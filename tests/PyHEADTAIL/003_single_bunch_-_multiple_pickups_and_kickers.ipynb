{
 "cells": [
  {
   "cell_type": "code",
   "execution_count": null,
   "metadata": {
    "collapsed": false,
    "deletable": true,
    "editable": true
   },
   "outputs": [],
   "source": [
    "from __future__ import unicode_literals\n",
    "\n",
    "import sys, os\n",
    "BIN = os.path.expanduser(\"../../../\")\n",
    "sys.path.append(BIN)\n",
    "\n",
    "import numpy as np\n",
    "from scipy.constants import m_p, c, e, pi\n",
    "import matplotlib.pyplot as plt\n",
    "%matplotlib inline\n",
    "\n",
    "import copy\n",
    "import itertools\n",
    "\n",
    "from test_tools import generate_objects, BunchTracker, track, compare_traces, compare_projections, Machine\n",
    "\n",
    "from PyHEADTAIL_feedback.feedback import OneboxFeedback, Kicker, PickUp\n",
    "from PyHEADTAIL_feedback.processors.multiplication import ChargeWeighter\n",
    "from PyHEADTAIL_feedback.processors.linear_transform import Averager\n",
    "from PyHEADTAIL_feedback.processors.misc import Bypass\n",
    "from PyHEADTAIL_feedback.processors.register import Register\n",
    "\n",
    "np.random.seed(0)"
   ]
  },
  {
   "cell_type": "markdown",
   "metadata": {
    "collapsed": false,
    "deletable": true,
    "editable": true
   },
   "source": [
    "# 003 Multiple pickups and kickers\n",
    "\n",
    "In this test/example multiple pickups and kickers are included into the simulation. \n",
    "\n",
    "## Basic parameters and elements for the simulations"
   ]
  },
  {
   "cell_type": "code",
   "execution_count": null,
   "metadata": {
    "collapsed": false,
    "deletable": true,
    "editable": true
   },
   "outputs": [],
   "source": [
    "n_macroparticles = 10000\n",
    "n_slices = 20\n",
    "n_segments = 5\n",
    "n_sigma_z = 3\n",
    "# n_sigma_z = 6\n",
    "\n",
    "n_turns = 50\n",
    "\n",
    "# Longitudinal motion of the bunch is not taken into account by default, but it can be included by uncommenting\n",
    "# the line below\n",
    "machine = Machine(n_segments= n_segments)\n",
    "# machine = Machine(Q_s = 0.0020443)\n",
    "\n",
    "bunch_ref, slicer_ref,trans_map, long_map = generate_objects(machine, n_macroparticles, n_slices,n_sigma_z)"
   ]
  },
  {
   "cell_type": "markdown",
   "metadata": {},
   "source": [
    "## Initial bunch kick\n",
    "Creates an artificially (slice-by-slice) kicked bunch, which will be damped by using different feedback systems. "
   ]
  },
  {
   "cell_type": "code",
   "execution_count": null,
   "metadata": {
    "collapsed": false,
    "deletable": true,
    "editable": true
   },
   "outputs": [],
   "source": [
    "slice_set = bunch_ref.get_slices(slicer_ref, statistics=True)\n",
    "p_idx = slice_set.particles_within_cuts\n",
    "s_idx = slice_set.slice_index_of_particle.take(p_idx)\n",
    "\n",
    "# Random slice kicks\n",
    "kick_x = 0.003*(-1.0+2*np.random.rand(n_slices))\n",
    "kick_y = 0.003*(-1.0+2*np.random.rand(n_slices))\n",
    "\n",
    "for p_id, s_id in itertools.izip(p_idx,s_idx):\n",
    "    bunch_ref.x[p_id] += kick_x[s_id]\n",
    "    bunch_ref.y[p_id] += kick_y[s_id]\n",
    "\n",
    "# A bunch kick\n",
    "# kick_x = 0.003*np.ones(n_slices)\n",
    "# kick_y = 0.003*np.ones(n_slices)"
   ]
  },
  {
   "cell_type": "markdown",
   "metadata": {},
   "source": [
    "## Feedback settings"
   ]
  },
  {
   "cell_type": "code",
   "execution_count": null,
   "metadata": {
    "collapsed": false,
    "deletable": true,
    "editable": true
   },
   "outputs": [],
   "source": [
    "feedback_gain = 0.1\n",
    "# feedback_gain = (0.1,0.4)\n",
    "\n",
    "# delay (a number of turns) before the pickup signal is used to the correction kick calculations.\n",
    "delay = 1\n",
    "\n",
    "# a number of values used to calculate the correct signal\n",
    "n_values = 2"
   ]
  },
  {
   "cell_type": "markdown",
   "metadata": {},
   "source": [
    "## Reference data\n",
    "Tracks a bunch by using an ideal bunch-by-bunch feedback system presented in the previous test (001_ideal_feedbacks.ipynb). This data are used as a reference data for the feedback model including multiple pickups and kickers. Note that the gain value is doubled to the reference data, because two kickers are used in the acual simulation."
   ]
  },
  {
   "cell_type": "code",
   "execution_count": null,
   "metadata": {
    "collapsed": false,
    "deletable": true,
    "editable": true
   },
   "outputs": [],
   "source": [
    "bunch_ref_data = copy.deepcopy(bunch_ref)\n",
    "tracker_ref_data = BunchTracker(bunch_ref_data)\n",
    "slicer_ref_data = copy.deepcopy(slicer_ref)\n",
    "\n",
    "processors_bunch_x = [\n",
    "    ChargeWeighter(normalization = 'segment_average'),\n",
    "    Averager()\n",
    "]\n",
    "processors_bunch_y = [\n",
    "    ChargeWeighter(normalization = 'segment_average'),\n",
    "    Averager()\n",
    "]\n",
    "\n",
    "feedback_map = OneboxFeedback(2.*feedback_gain,slicer_ref_data,processors_bunch_x,processors_bunch_y)\n",
    "one_turn_map = [i for i in trans_map] + [feedback_map] #  + [long_map]\n",
    "\n",
    "track(n_turns, bunch_ref_data,one_turn_map ,tracker_ref_data)"
   ]
  },
  {
   "cell_type": "markdown",
   "metadata": {},
   "source": [
    "## Multiple pickups and kickers\n",
    "In this test three pickups and two kickers are used in the one turn map. The first kicker uses signals from the pickup 1 and the pickup 2 and the second kicker uses signals from the pickup 1 and the pickup 3.\n"
   ]
  },
  {
   "cell_type": "code",
   "execution_count": null,
   "metadata": {
    "collapsed": true
   },
   "outputs": [],
   "source": [
    "bunch_multi_object = copy.deepcopy(bunch_ref)\n",
    "tracker_multi_object = BunchTracker(bunch_multi_object)\n",
    "slicer_multi_object = copy.deepcopy(slicer_ref)"
   ]
  },
  {
   "cell_type": "markdown",
   "metadata": {},
   "source": [
    "### Pickups\n",
    "Pickups are created in the same way as in the previous test *(002\\_single\\_bunch\\_\\-\\_separate\\_pickup\\_and\\_kicker.ipynb)*."
   ]
  },
  {
   "cell_type": "code",
   "execution_count": null,
   "metadata": {
    "collapsed": false,
    "deletable": true,
    "editable": true
   },
   "outputs": [],
   "source": [
    "# Pickup 1\n",
    "# --------\n",
    "pickup1_beta_x = machine.beta_x\n",
    "pickup1_beta_y = machine.beta_y\n",
    "pickup1_location_x = 1.*2.*pi/float(n_segments)*machine.Q_x\n",
    "pickup1_location_y = 1.*2.*pi/float(n_segments)*machine.Q_y\n",
    "\n",
    "pickup1_processors_x = [\n",
    "    ChargeWeighter(normalization = 'segment_average'),\n",
    "    Averager(),\n",
    "    Register(n_values, machine.Q_x, delay)\n",
    "]\n",
    "pickup1_processors_y = [\n",
    "    ChargeWeighter(normalization = 'segment_average'),\n",
    "    Averager(),\n",
    "    Register(n_values, machine.Q_y, delay)\n",
    "]\n",
    "\n",
    "pickup1_map = PickUp(slicer_multi_object,\n",
    "                     pickup1_processors_x,pickup1_processors_y, \n",
    "                     pickup1_location_x, pickup1_beta_x,\n",
    "                     pickup1_location_y, pickup1_beta_y)\n",
    "\n",
    "# Pickup 2\n",
    "# --------\n",
    "pickup2_beta_x = machine.beta_x\n",
    "pickup2_beta_y = machine.beta_y\n",
    "pickup2_location_x = 2.*2.*pi/float(n_segments)*machine.Q_x\n",
    "pickup2_location_y = 2.*2.*pi/float(n_segments)*machine.Q_y\n",
    "\n",
    "pickup2_processors_x = [\n",
    "    ChargeWeighter(normalization = 'segment_average'),\n",
    "    Averager(),\n",
    "    Register(n_values, machine.Q_x, delay)\n",
    "]\n",
    "pickup2_processors_y = [\n",
    "    ChargeWeighter(normalization = 'segment_average'),\n",
    "    Averager(),\n",
    "    Register(n_values, machine.Q_y, delay)\n",
    "]\n",
    "\n",
    "pickup2_map = PickUp(slicer_multi_object,\n",
    "                     pickup2_processors_x,pickup2_processors_y, \n",
    "                     pickup2_location_x, pickup2_beta_x,\n",
    "                     pickup2_location_y, pickup2_beta_y)\n",
    "\n",
    "# Pickup 3\n",
    "# --------\n",
    "pickup3_beta_x = machine.beta_x\n",
    "pickup3_beta_y = machine.beta_y\n",
    "pickup3_location_x = 3.*2.*pi/float(n_segments)*machine.Q_x\n",
    "pickup3_location_y = 3.*2.*pi/float(n_segments)*machine.Q_y\n",
    "\n",
    "pickup3_processors_x = [\n",
    "    ChargeWeighter(normalization = 'segment_average'),\n",
    "    Averager(),\n",
    "    Register(n_values, machine.Q_x, delay)\n",
    "]\n",
    "pickup3_processors_y = [\n",
    "    ChargeWeighter(normalization = 'segment_average'),\n",
    "    Averager(),\n",
    "    Register(n_values, machine.Q_y, delay)\n",
    "]\n",
    "\n",
    "pickup3_map = PickUp(slicer_multi_object,\n",
    "                     pickup3_processors_x, pickup3_processors_y, \n",
    "                     pickup3_location_x, pickup3_beta_x,\n",
    "                     pickup3_location_y, pickup3_beta_y)"
   ]
  },
  {
   "cell_type": "markdown",
   "metadata": {},
   "source": [
    "### Kickers\n",
    "\n",
    "Also kickers are created in the same way as in the previous test *(002\\_single\\_bunch\\_\\-\\_separate\\_pickup\\_and\\_kicker.ipynb)*. The only difference is that the kickers use signals from multiple registers. The registers from the pickup 1 and the pickup 2 are added into the kicker 1 register list and the registers from the pickup 1 and the pickup 3 are added into the kicker 2 register list."
   ]
  },
  {
   "cell_type": "code",
   "execution_count": null,
   "metadata": {
    "collapsed": false,
    "deletable": true,
    "editable": true
   },
   "outputs": [],
   "source": [
    "# Kicker 1\n",
    "# --------\n",
    "kicker1_processors_x = [Bypass()]\n",
    "kicker1_processors_y = [Bypass()]\n",
    "\n",
    "kicker1_beta_x = machine.beta_x\n",
    "kicker1_beta_y = machine.beta_y\n",
    "kicker1_location_x = 2.*2.*pi/float(n_segments)*machine.Q_x\n",
    "kicker1_location_y = 2.*2.*pi/float(n_segments)*machine.Q_y\n",
    "\n",
    "# kicker 1 uses signals from the pickup 1 and the pickup 2\n",
    "kicker1_registers_x = [\n",
    "    pickup1_processors_x[-1],\n",
    "    pickup2_processors_x[-1]\n",
    "]\n",
    "kicker1_registers_y = [\n",
    "    pickup1_processors_y[-1],\n",
    "    pickup2_processors_y[-1]\n",
    "]\n",
    "\n",
    "kicker1_map = Kicker(feedback_gain, slicer_multi_object, \n",
    "                     kicker1_processors_x, kicker1_processors_y,\n",
    "                     kicker1_registers_x, kicker1_registers_y,\n",
    "                     kicker1_location_x, kicker1_beta_x,\n",
    "                     kicker1_location_y, kicker1_beta_y)\n",
    "\n",
    "# Kicker 2\n",
    "# --------\n",
    "kicker2_processors_x = [Bypass()]\n",
    "kicker2_processors_y = [Bypass()]\n",
    "\n",
    "kicker2_beta_x = machine.beta_x\n",
    "kicker2_beta_y = machine.beta_y\n",
    "kicker2_location_x = 4.*2.*pi/float(n_segments)*machine.Q_x\n",
    "kicker2_location_y = 4.*2.*pi/float(n_segments)*machine.Q_y\n",
    "\n",
    "# kicker 2 uses signals from the pickup 1 and the pickup 3\n",
    "kicker2_registers_x = [\n",
    "    pickup1_processors_x[-1],\n",
    "    pickup3_processors_x[-1]\n",
    "]\n",
    "kicker2_registers_y = [\n",
    "    pickup1_processors_y[-1],\n",
    "    pickup3_processors_y[-1]\n",
    "]\n",
    "\n",
    "kicker2_map = Kicker(feedback_gain, slicer_multi_object, \n",
    "                     kicker2_processors_x, kicker2_processors_y,\n",
    "                     kicker2_registers_x, kicker2_registers_y,\n",
    "                     kicker2_location_x, kicker2_beta_x,\n",
    "                     kicker2_location_y, kicker2_beta_y)"
   ]
  },
  {
   "cell_type": "markdown",
   "metadata": {
    "collapsed": false,
    "editable": true
   },
   "source": [
    "### One turn map and tracking\n",
    "The pickup and kicker objects must be added to the correct slots in the one turn map. In this test it was chosen that the pickup locations are after the 1st, 2nd and 3th transverse elements and the kickers after the 2nd and the 4th transverse elements."
   ]
  },
  {
   "cell_type": "code",
   "execution_count": null,
   "metadata": {
    "collapsed": false,
    "deletable": true,
    "editable": true
   },
   "outputs": [],
   "source": [
    "one_turn_map = [trans_map[0]] + [pickup1_map] + [trans_map[1]] + [pickup2_map] + [kicker1_map] + [trans_map[2]]+ [pickup3_map] + [trans_map[3]] + [kicker2_map]\n",
    "for element in trans_map[4:]:\n",
    "    one_turn_map += [element]\n",
    "# one_turn_map += [long_map]\n",
    "    \n",
    "track(n_turns, bunch_multi_object,one_turn_map,tracker_multi_object)"
   ]
  },
  {
   "cell_type": "markdown",
   "metadata": {},
   "source": [
    "## Results comparison"
   ]
  },
  {
   "cell_type": "code",
   "execution_count": null,
   "metadata": {
    "collapsed": false,
    "deletable": true,
    "editable": true
   },
   "outputs": [],
   "source": [
    "# In here, the traces and the projections from different implementations of the feedback system are compared.\n",
    "# Note the scale in the emittance figures.\n",
    "\n",
    "compare_traces([tracker_ref_data,tracker_multi_object],\n",
    "               ['Reference data', 'Multiple pickups and kickers'])\n",
    "compare_projections([ bunch_ref_data,  bunch_multi_object], \n",
    "                    ['Reference data', 'Multiple pickups and kickers'])"
   ]
  },
  {
   "cell_type": "markdown",
   "metadata": {
    "collapsed": true,
    "deletable": true,
    "editable": true
   },
   "source": [
    "Jani Komppula, CERN, 2017"
   ]
  },
  {
   "cell_type": "code",
   "execution_count": null,
   "metadata": {
    "collapsed": true,
    "deletable": true,
    "editable": true
   },
   "outputs": [],
   "source": []
  }
 ],
 "metadata": {
  "kernelspec": {
   "display_name": "Python 2",
   "language": "python",
   "name": "python2"
  },
  "language_info": {
   "codemirror_mode": {
    "name": "ipython",
    "version": 2
   },
   "file_extension": ".py",
   "mimetype": "text/x-python",
   "name": "python",
   "nbconvert_exporter": "python",
   "pygments_lexer": "ipython2",
   "version": "2.7.13"
  }
 },
 "nbformat": 4,
 "nbformat_minor": 1
}
