{
 "cells": [
  {
   "cell_type": "code",
   "execution_count": null,
   "metadata": {
    "collapsed": false,
    "deletable": true,
    "editable": true
   },
   "outputs": [],
   "source": [
    "from __future__ import unicode_literals\n",
    "\n",
    "import sys, os\n",
    "BIN = os.path.expanduser(\"../../../\")\n",
    "sys.path.append(BIN)\n",
    "\n",
    "import numpy as np\n",
    "from scipy.constants import m_p, c, e, pi\n",
    "import matplotlib.pyplot as plt\n",
    "%matplotlib inline\n",
    "\n",
    "import copy\n",
    "import itertools\n",
    "\n",
    "from test_tools import Machine, generate_objects, BunchTracker, track, compare_traces\n",
    "from test_tools import compare_beam_projections, plot_debug_data\n",
    "\n",
    "from PyHEADTAIL.feedback.feedback import OneboxFeedback, Kicker, PickUp\n",
    "from PyHEADTAIL.feedback.processors.multiplication import ChargeWeighter\n",
    "from PyHEADTAIL.feedback.processors.linear_transform import Averager\n",
    "from PyHEADTAIL.feedback.processors.misc import Bypass\n",
    "from PyHEADTAIL.feedback.processors.register import Register, TurnDelay, TurnFIRFilter\n",
    "from PyHEADTAIL.feedback.processors.convolution import Lowpass, Gaussian, FIRFilter\n",
    "from PyHEADTAIL.feedback.processors.resampling import DAC, HarmonicADC, BackToOriginalBins\n",
    "from PyHEADTAIL.feedback.processors.addition import NoiseGenerator\n",
    "np.random.seed(0)"
   ]
  },
  {
   "cell_type": "markdown",
   "metadata": {
    "collapsed": false,
    "deletable": true,
    "editable": true
   },
   "source": [
    "# 008 Detailed bunch-by-bunch feedback model\n",
    "\n",
    "In this test/example, signal processors for a detailed feedback model are tested\n",
    "\n",
    "## Basic parameters and elements for the simulations"
   ]
  },
  {
   "cell_type": "code",
   "execution_count": null,
   "metadata": {
    "collapsed": false,
    "deletable": true,
    "editable": true
   },
   "outputs": [],
   "source": [
    "%%capture\n",
    "\n",
    "n_macroparticles = 1000\n",
    "n_slices = 50\n",
    "n_segments = 5\n",
    "n_sigma_z = 3\n",
    "# n_sigma_z = 6\n",
    "\n",
    "n_turns = 3*120\n",
    "\n",
    "machine = Machine(n_segments= n_segments)\n",
    "\n",
    "# harmonic frequency of the bunches (f_RF/every_n_bucket_filled)\n",
    "f_RF = 1./(machine.circumference/c/(float(machine.h_RF)))\n",
    "f_harmonic = f_RF/10.\n",
    "\n",
    "\n",
    "first_index = 10 #[buckets]\n",
    "batch_spacing = 100  #[buckets]\n",
    "n_batches = 2\n",
    "n_bunches_per_batch = 20\n",
    "bunch_spacing = 10 #[buckets]\n",
    "\n",
    "batch_separation = batch_spacing+n_bunches_per_batch* bunch_spacing\n",
    "\n",
    "filling_scheme = []\n",
    "for j in xrange(n_batches):\n",
    "    for i in xrange(n_bunches_per_batch):\n",
    "        filling_scheme.append(first_index + i * bunch_spacing + j*batch_separation)\n",
    "\n",
    "\n",
    "print filling_scheme\n",
    "\n",
    "beam_ref, slicer_ref,trans_map, long_map = generate_objects(machine, n_macroparticles, n_slices,n_sigma_z,\n",
    "                                                             filling_scheme=filling_scheme)"
   ]
  },
  {
   "cell_type": "code",
   "execution_count": null,
   "metadata": {
    "collapsed": false
   },
   "outputs": [],
   "source": [
    "print 'f_RF: ' + str(f_RF)\n",
    "print 'f_harmonic: ' + str(f_harmonic)\n",
    "print('Number of bunches: ' + str(len(beam_ref.split())))"
   ]
  },
  {
   "cell_type": "markdown",
   "metadata": {},
   "source": [
    "## Initial bunch kick\n",
    "Creates an artificially  kicked beam which will be damped by using different feedback implementations. "
   ]
  },
  {
   "cell_type": "code",
   "execution_count": null,
   "metadata": {
    "collapsed": true
   },
   "outputs": [],
   "source": [
    "bunch_list = beam_ref.split()\n",
    "\n",
    "n_bunches = len(bunch_list)\n",
    "\n",
    "amplitude = 0.003\n",
    "f_osc = 1e6\n",
    "wavelength = 1./f_osc*c\n",
    "\n",
    "kick_x = 0.003*(-1.0+2*np.random.rand(n_bunches))\n",
    "kick_y = 0.003*(-1.0+2*np.random.rand(n_bunches))\n",
    "\n",
    "for i in xrange(n_bunches):\n",
    "    bunch_list[i].x = bunch_list[i].x + amplitude * np.sin(2. * np.pi * bunch_list[i].mean_z() / wavelength)\n",
    "    bunch_list[i].y = bunch_list[i].y + amplitude * np.sin(2. * np.pi * bunch_list[i].mean_z() / wavelength)\n",
    "\n",
    "beam_ref = sum(bunch_list)"
   ]
  },
  {
   "cell_type": "markdown",
   "metadata": {},
   "source": [
    "## Feedback settings"
   ]
  },
  {
   "cell_type": "code",
   "execution_count": null,
   "metadata": {
    "collapsed": false,
    "deletable": true,
    "editable": true
   },
   "outputs": [],
   "source": [
    "feedback_gain = 0.1\n",
    "# feedback_gain = (0.1,0.4)\n",
    "\n",
    "# delay (a number of turns) before the pickup signal is used to the correction kick calculations.\n",
    "delay = 1\n",
    "\n",
    "# a number of values used to calculate the correct signal\n",
    "n_values = 2\n",
    "\n",
    "RMS_noise_level = 1e-6\n",
    "\n",
    "\n",
    "# feedback settings\n",
    "fc=1e6 # The cut off frequency of the power amplifier\n",
    "ADC_f = 40e9 # multiplier of the sampling rate from the harmonic frequency\n",
    "ADC_n_samples = 50\n",
    "ADC_bits = 16\n",
    "ADC_range = (-3e-3,3e-3)\n",
    "\n",
    "DAC_bits = 14\n",
    "DAC_range = (-3e-3,3e-3)\n",
    "\n",
    "RMS_noise_level = 1e-6"
   ]
  },
  {
   "cell_type": "code",
   "execution_count": null,
   "metadata": {
    "collapsed": true
   },
   "outputs": [],
   "source": []
  },
  {
   "cell_type": "markdown",
   "metadata": {
    "collapsed": true,
    "deletable": true,
    "editable": true
   },
   "source": [
    "## Reference data\n",
    "Tracks a bunch by using an ideal bunch-by-bunch feedback presented in the first test (001_ideal_feedbacks.ipynb). The data is used as baseline data for the detailed feedback model. "
   ]
  },
  {
   "cell_type": "code",
   "execution_count": null,
   "metadata": {
    "collapsed": false,
    "deletable": true,
    "editable": true
   },
   "outputs": [],
   "source": [
    "beam_ref_data = copy.deepcopy(beam_ref)\n",
    "tracker_ref_data = BunchTracker(beam_ref_data)\n",
    "slicer_ref_data = copy.deepcopy(slicer_ref)\n",
    "\n",
    "processors_bunch_x = [\n",
    "    ChargeWeighter(normalization = 'segment_average'),\n",
    "    Averager()\n",
    "]\n",
    "processors_bunch_y = [\n",
    "    ChargeWeighter(normalization = 'segment_average'),\n",
    "    Averager()\n",
    "]\n",
    "\n",
    "feedback_map = OneboxFeedback(feedback_gain,slicer_ref_data,processors_bunch_x,processors_bunch_y, mpi=True)\n",
    "one_turn_map = [i for i in trans_map] + [feedback_map] #  + [long_map]\n",
    "\n",
    "track(n_turns, beam_ref_data,one_turn_map ,tracker_ref_data)"
   ]
  },
  {
   "cell_type": "markdown",
   "metadata": {},
   "source": [
    "## Detailed feedback model\n",
    "Signal processors required for a detailed model of the transverse feedback system are tested here. Note that the tested system does not describe accurately any existing system, and the details of the models might affect significantly to the simulation results.\n",
    "\n",
    "### FIR filter coefficients for the bandwidth phase correction\n",
    "The bandwidth of this model is limited by using a 1st order lowpass filter, which has non-linear phase response. The phase of the filter is linearized by using a FIR filter. The filter coefficients are from Ref.  https://accelconf.web.cern.ch/accelconf/e08/papers/thpc122.pdf . Note that this is a test example and the coefficients are designed nor tuned to work perfectly with this model."
   ]
  },
  {
   "cell_type": "code",
   "execution_count": null,
   "metadata": {
    "collapsed": true
   },
   "outputs": [],
   "source": [
    "# Coefficients from \n",
    "FIR_filter = [0.0096,  0.0192,  0.0481,  0.0673,  0.0769,  0.1154,\n",
    "                0.1442,  0.1442,  0.2115,  0.2403,  0.2596,  0.3077,\n",
    "                0.3558,  0.3846,  0.4519,  0.5192,  0.6346,  0.75,\n",
    "                0.9519,  1.2019,  1.6346,  2.6346,  7.0192, -5.1923,\n",
    "                -1.4135, -0.6827, -0.3942, -0.2308, -0.1442, -0.096,\n",
    "                -0.0192, -0.0096]\n",
    "FIR_filter = np.array(FIR_filter)\n",
    "FIR_filter = FIR_filter/sum(FIR_filter)"
   ]
  },
  {
   "cell_type": "markdown",
   "metadata": {},
   "source": [
    "### Turn-by-turn FIR filter for the betatron phase correction\n",
    "The betatron phase correction is implemented manually by using a turn-by-turn FIR filter. Coefficients are from Ref. http://accelconf.web.cern.ch/AccelConf/IPAC2011/papers/mopo013.pdf, but they are not optimized to this model."
   ]
  },
  {
   "cell_type": "code",
   "execution_count": null,
   "metadata": {
    "collapsed": false,
    "deletable": true,
    "editable": true
   },
   "outputs": [],
   "source": [
    "# the total (group) delay to the middle coefficient is four turns, i.e.\n",
    "phase_shift_x = -4. * machine.Q_x * 2.* pi\n",
    "turn_FIR_filter_x = [-2. * np.sin(phase_shift_x)/(pi * 3.),\n",
    "                   0,\n",
    "                   -2. * np.sin(phase_shift_x)/(pi * 1.),\n",
    "                   np.cos(phase_shift_x),\n",
    "                   2. * np.sin(phase_shift_x)/(pi * 1.),\n",
    "                   0,\n",
    "                   2. * np.sin(phase_shift_x)/(pi * 3.)\n",
    "                   ]\n",
    "\n",
    "phase_shift_y = -4. * machine.Q_y * 2.* pi\n",
    "turn_FIR_filter_y = [-2. * np.sin(phase_shift_y)/(pi * 3.),\n",
    "                   0,\n",
    "                   -2. * np.sin(phase_shift_y)/(pi * 1.),\n",
    "                   np.cos(phase_shift_y),\n",
    "                   2. * np.sin(phase_shift_y)/(pi * 1.),\n",
    "                   0,\n",
    "                   2. * np.sin(phase_shift_y)/(pi * 3.)\n",
    "                   ]\n"
   ]
  },
  {
   "cell_type": "markdown",
   "metadata": {},
   "source": [
    "### The model\n",
    "This model includes elements for digital signal processing (ADC, FIR filters and DAC) and power amplifier/kicker bandwidth limitation. A model for pickup could be build, but in this test a perfect 𝛥/𝛴-signal is used (read more about this choice from the previous test)."
   ]
  },
  {
   "cell_type": "code",
   "execution_count": null,
   "metadata": {
    "collapsed": false,
    "deletable": true,
    "editable": true
   },
   "outputs": [],
   "source": [
    "beam_detailed = copy.deepcopy(beam_ref)\n",
    "tracker_detailed = BunchTracker(beam_detailed)\n",
    "slicer_detailed = copy.deepcopy(slicer_ref)\n",
    "\n",
    "processors_detailed_x = [\n",
    "        Bypass(debug=True),\n",
    "        ChargeWeighter(normalization = 'segment_average', debug=False),\n",
    "        NoiseGenerator(RMS_noise_level, debug=False),\n",
    "        HarmonicADC(2*f_RF/10., ADC_bits, ADC_range,\n",
    "                    n_extras=10, debug=False),\n",
    "        FIRFilter(FIR_filter, zero_tap = 23, debug=False),\n",
    "        TurnFIRFilter(turn_FIR_filter_x, machine.Q_x, delay = 1, debug=True),\n",
    "        DAC(ADC_bits, ADC_range, debug=True),\n",
    "        Lowpass(fc, f_cutoff_2nd=4*fc, debug=True),\n",
    "        BackToOriginalBins(debug=True),\n",
    "]\n",
    "\n",
    "processors_detailed_y = [\n",
    "        Bypass(debug=True),\n",
    "        ChargeWeighter(normalization = 'segment_average', debug=True),\n",
    "        NoiseGenerator(RMS_noise_level, debug=True),\n",
    "        HarmonicADC(2*f_RF/10., ADC_bits, ADC_range,\n",
    "                    n_extras=10, debug=True),\n",
    "        FIRFilter(FIR_filter, zero_tap = 23, debug=True),\n",
    "        TurnFIRFilter(turn_FIR_filter_y, machine.Q_y, delay = 1, debug=True),\n",
    "        DAC(ADC_bits, ADC_range, debug=True),\n",
    "        Lowpass(fc, f_cutoff_2nd=4*fc, debug=True),\n",
    "        BackToOriginalBins(debug=True),\n",
    "]\n",
    "\n",
    "\n",
    "feedback_map = OneboxFeedback(feedback_gain,slicer_detailed,\n",
    "                              processors_detailed_x,processors_detailed_y, mpi = True)\n",
    "one_turn_map = [feedback_map] + [i for i in trans_map] # + [long_map]\n",
    "\n",
    "track(n_turns, beam_detailed, one_turn_map, tracker_detailed)\n",
    "plot_debug_data(processors_detailed_x, source = 'output')"
   ]
  },
  {
   "cell_type": "code",
   "execution_count": null,
   "metadata": {
    "collapsed": false,
    "deletable": true,
    "editable": true
   },
   "outputs": [],
   "source": [
    "compare_traces([tracker_ref_data,tracker_detailed],\n",
    "               ['Ideal bunch-by-slice\\nfeedback', 'Minimal model'])\n",
    "compare_beam_projections([ beam_ref_data, beam_detailed], \n",
    "               ['Ideal bunch-by-slice\\nfeedback', 'Minimal model'])"
   ]
  },
  {
   "cell_type": "markdown",
   "metadata": {
    "collapsed": true,
    "deletable": true,
    "editable": true
   },
   "source": [
    "Jani Komppula, CERN, 2017"
   ]
  },
  {
   "cell_type": "code",
   "execution_count": null,
   "metadata": {
    "collapsed": true,
    "deletable": true,
    "editable": true
   },
   "outputs": [],
   "source": [
    "\n",
    "\n"
   ]
  }
 ],
 "metadata": {
  "kernelspec": {
   "display_name": "Python 2",
   "language": "python",
   "name": "python2"
  },
  "language_info": {
   "codemirror_mode": {
    "name": "ipython",
    "version": 2
   },
   "file_extension": ".py",
   "mimetype": "text/x-python",
   "name": "python",
   "nbconvert_exporter": "python",
   "pygments_lexer": "ipython2",
   "version": "2.7.14"
  }
 },
 "nbformat": 4,
 "nbformat_minor": 1
}
