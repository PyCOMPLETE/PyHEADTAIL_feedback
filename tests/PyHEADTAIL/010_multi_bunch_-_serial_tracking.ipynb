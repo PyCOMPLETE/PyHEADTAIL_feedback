{
 "cells": [
  {
   "cell_type": "code",
   "execution_count": null,
   "metadata": {
    "collapsed": false,
    "deletable": true,
    "editable": true
   },
   "outputs": [],
   "source": [
    "from __future__ import unicode_literals\n",
    "\n",
    "import sys, os\n",
    "BIN = os.path.expanduser(\"../../../\")\n",
    "sys.path.append(BIN)\n",
    "\n",
    "import numpy as np\n",
    "from scipy.constants import m_p, c, e, pi\n",
    "import matplotlib.pyplot as plt\n",
    "%matplotlib inline\n",
    "\n",
    "import copy\n",
    "import itertools\n",
    "\n",
    "from test_tools import Machine, generate_objects, BunchTracker, track, compare_traces, BeamTracker, plot3Dtraces\n",
    "from test_tools import compare_beam_projections, plot_debug_data, plot_FIR_coefficients\n",
    "\n",
    "from PyHEADTAIL_feedback.feedback import OneboxFeedback, Kicker, PickUp\n",
    "from PyHEADTAIL_feedback.processors.multiplication import ChargeWeighter\n",
    "from PyHEADTAIL_feedback.processors.linear_transform import Averager\n",
    "from PyHEADTAIL_feedback.processors.misc import Bypass\n",
    "from PyHEADTAIL_feedback.processors.register import Register, SerialRegister, TurnDelay, TurnFIRFilter\n",
    "from PyHEADTAIL_feedback.processors.convolution import Lowpass, Gaussian, FIRFilter\n",
    "from PyHEADTAIL_feedback.processors.resampling import DAC, HarmonicADC, BackToOriginalBins, Upsampler\n",
    "from PyHEADTAIL_feedback.processors.addition import NoiseGenerator\n",
    "np.random.seed(0)"
   ]
  },
  {
   "cell_type": "markdown",
   "metadata": {
    "collapsed": false,
    "deletable": true,
    "editable": true
   },
   "source": [
    "# 010 Serial multibunch tracking\n",
    "\n",
    "This tests injection error damping by using a model for the original LHC damper system (ADT). The model still in progress and might not be correct!\n",
    "\n",
    "## Basic parameters and elements for the simulations"
   ]
  },
  {
   "cell_type": "code",
   "execution_count": null,
   "metadata": {
    "collapsed": false,
    "deletable": true,
    "editable": true
   },
   "outputs": [],
   "source": [
    "%%capture\n",
    "\n",
    "n_macroparticles = 1000\n",
    "n_slices = 5\n",
    "n_segments = 5\n",
    "n_sigma_z = 6\n",
    "n_sigma_z = 6\n",
    "\n",
    "n_turns = 3\n",
    "# n_turns = 12\n",
    "\n",
    "machine = Machine(n_segments= n_segments)\n",
    "\n",
    "# harmonic frequency of the bunches (f_RF/every_n_bucket_filled)\n",
    "f_RF = 1./(machine.circumference/c/(float(machine.h_RF)))\n",
    "f_harmonic = f_RF/10.\n",
    "\n",
    "\n",
    "first_index = 10 #[buckets]\n",
    "batch_spacing = 8  #[buckets]\n",
    "# batch_spacing = 10  #[buckets]\n",
    "n_batches = 3\n",
    "# n_batches = 3\n",
    "n_bunches_per_batch = 72\n",
    "n_bunches_per_batch = 6\n",
    "bunch_spacing = 1 #[buckets]\n",
    "LHC_gap = 38\n",
    "LHC_gap = 3\n",
    "\n",
    "batch_separation = batch_spacing+n_bunches_per_batch* bunch_spacing\n",
    "\n",
    "filling_scheme = []\n",
    "\n",
    "for i in xrange(n_bunches_per_batch):\n",
    "    filling_scheme.append(first_index + i * bunch_spacing)\n",
    "\n",
    "first_index = np.max(filling_scheme) + LHC_gap\n",
    "for j in xrange(n_batches):\n",
    "    for i in xrange(n_bunches_per_batch):\n",
    "        filling_scheme.append(first_index + i * bunch_spacing + j*batch_separation)\n",
    "\n",
    "\n",
    "print filling_scheme\n",
    "\n",
    "beam_ref, slicer_ref,trans_map, long_map = generate_objects(machine, n_macroparticles, n_slices,n_sigma_z,\n",
    "                                                             filling_scheme=filling_scheme, matched=False)"
   ]
  },
  {
   "cell_type": "code",
   "execution_count": null,
   "metadata": {
    "collapsed": false
   },
   "outputs": [],
   "source": [
    "print 'f_RF: ' + str(f_RF)\n",
    "print 'f_harmonic: ' + str(f_harmonic)\n",
    "print('Number of bunches: ' + str(len(beam_ref.split())))"
   ]
  },
  {
   "cell_type": "markdown",
   "metadata": {},
   "source": [
    "## Initial bunch kick\n",
    "The bunhes are initial kicks are estimated from numerical MKI kicker waveform data. Data from Gerd Kotzian's archive."
   ]
  },
  {
   "cell_type": "code",
   "execution_count": null,
   "metadata": {
    "collapsed": false
   },
   "outputs": [],
   "source": [
    "bunch_list = beam_ref.split()\n",
    "\n",
    "n_bunches = len(bunch_list)\n",
    "\n",
    "amplitude = 1e-3\n",
    "\n",
    "for i in xrange(n_bunches):\n",
    "        bunch_list[i].x = bunch_list[i].x + amplitude * (i + 1)\n",
    "        bunch_list[i].y = bunch_list[i].y + amplitude * (i + 1)\n",
    "\n",
    "beam_parallel = sum(bunch_list)\n",
    "\n",
    "beam_serial = copy.deepcopy(bunch_list)"
   ]
  },
  {
   "cell_type": "markdown",
   "metadata": {},
   "source": [
    "Determines holding scheme for the SignalHolder"
   ]
  },
  {
   "cell_type": "markdown",
   "metadata": {},
   "source": [
    "## Feedback settings"
   ]
  },
  {
   "cell_type": "code",
   "execution_count": null,
   "metadata": {
    "collapsed": false,
    "deletable": true,
    "editable": true
   },
   "outputs": [],
   "source": [
    "feedback_gain = 0.1\n",
    "# feedback_gain = (0.1,0.4)\n",
    "\n",
    "# delay (a number of turns) before the pickup signal is used to the correction kick calculations.\n",
    "delay = 1\n",
    "\n",
    "# a number of values used to calculate the correct signal\n",
    "n_values = 2\n",
    "\n",
    "RMS_noise_level = 1e-6\n",
    "\n",
    "\n",
    "# feedback settings\n",
    "fc=1e6 # The cut off frequency of the power amplifier\n",
    "ADC_f = 40e9 # multiplier of the sampling rate from the harmonic frequency\n",
    "ADC_n_samples = 50\n",
    "ADC_bits = 16\n",
    "ADC_range = (-3e-3,3e-3)\n",
    "\n",
    "DAC_bits = 14\n",
    "DAC_range = (-3e-3,3e-3)\n",
    "\n",
    "RMS_noise_level = 1e-6"
   ]
  },
  {
   "cell_type": "markdown",
   "metadata": {
    "collapsed": true,
    "deletable": true,
    "editable": true
   },
   "source": [
    "## Paralellel multi bunch tracking"
   ]
  },
  {
   "cell_type": "code",
   "execution_count": null,
   "metadata": {
    "collapsed": false,
    "deletable": true,
    "editable": true
   },
   "outputs": [],
   "source": [
    "beam_ref_data = copy.deepcopy(beam_ref)\n",
    "tracker_ref_data = BeamTracker(beam_ref_data)\n",
    "slicer_ref_data = copy.deepcopy(slicer_ref)\n",
    "\n",
    "parallel_register = Register(3,machine.Q_x,1)\n",
    "\n",
    "processors_parallel_x = [\n",
    "        Bypass(debug=False),\n",
    "        parallel_register,\n",
    "#         ChargeWeighter(normalization='segment_average', debug=True),\n",
    "#         NoiseGenerator(RMS_noise_level, debug=True),\n",
    "#         Gaussian(fc, normalization=('bunch_by_bunch', f_harmonic), debug=True),\n",
    "#         TurnDelay(delay, machine.Q_x, n_values,debug=True)\n",
    "]\n",
    "\n",
    "processors_parallel_y = [\n",
    "        Bypass(),\n",
    "#         ChargeWeighter(normalization='segment_average'),\n",
    "#         NoiseGenerator(RMS_noise_level),\n",
    "#         Gaussian(fc, normalization=('bunch_by_bunch', f_harmonic)),\n",
    "#         TurnDelay(delay, machine.Q_y, n_values)\n",
    "]\n",
    "\n",
    "feedback_map = OneboxFeedback(feedback_gain,slicer_ref_data,processors_parallel_x,processors_parallel_y, mpi=True)\n",
    "one_turn_map = [i for i in trans_map] + [feedback_map] #  + [long_map]\n",
    "\n",
    "for i in range(n_turns):\n",
    "#        bunch_dump.dump()\n",
    "    print beam_parallel.mean_x()\n",
    "\n",
    "    for m_ in one_turn_map:\n",
    "        m_.track(beam_parallel)\n"
   ]
  },
  {
   "cell_type": "markdown",
   "metadata": {},
   "source": [
    "## Serial multi bunch tracking"
   ]
  },
  {
   "cell_type": "code",
   "execution_count": null,
   "metadata": {
    "collapsed": false
   },
   "outputs": [],
   "source": [
    "beam_ref_data = copy.deepcopy(beam_ref)\n",
    "tracker_ref_data = BeamTracker(beam_ref_data)\n",
    "slicer_ref_data = copy.deepcopy(slicer_ref)\n",
    "\n",
    "serial_register = SerialRegister(3,machine.Q_x,1,n_bunches=len(filling_scheme))\n",
    "\n",
    "processors_serial_x = [\n",
    "        Bypass(debug=True),\n",
    "        serial_register,\n",
    "#         ChargeWeighter(normalization='segment_average', debug=True),\n",
    "#         NoiseGenerator(RMS_noise_level, debug=True),\n",
    "#         Gaussian(fc, normalization=('bunch_by_bunch', f_harmonic), debug=True),\n",
    "#         TurnDelay(delay, machine.Q_x, n_values,debug=True)\n",
    "]\n",
    "\n",
    "processors_serial_y = [\n",
    "        Bypass(),\n",
    "#         ChargeWeighter(normalization='segment_average'),\n",
    "#         NoiseGenerator(RMS_noise_level),\n",
    "#         Gaussian(fc, normalization=('bunch_by_bunch', f_harmonic)),\n",
    "#         TurnDelay(delay, machine.Q_y, n_values)\n",
    "]\n",
    "\n",
    "feedback_map = OneboxFeedback(feedback_gain,slicer_ref_data,processors_serial_x,processors_serial_y, mpi='serial')\n",
    "one_turn_map = [i for i in trans_map] + [feedback_map] #  + [long_map]\n",
    "\n",
    "for i in range(n_turns):\n",
    "#        bunch_dump.dump()\n",
    "    beam_temp = sum(beam_serial)\n",
    "    print beam_temp.mean_x()\n",
    "\n",
    "    for m_ in one_turn_map:\n",
    "        for b in beam_serial:\n",
    "            m_.track(b)"
   ]
  },
  {
   "cell_type": "code",
   "execution_count": null,
   "metadata": {
    "collapsed": false
   },
   "outputs": [],
   "source": [
    "fig, ax = plt.subplots(1)\n",
    "print len(parallel_register)\n",
    "for i, (param, signal, delay) in enumerate(parallel_register):\n",
    "    if i==0:\n",
    "        print param\n",
    "    ax.plot(signal,'k-')\n",
    "\n",
    "print len(serial_register)\n",
    "for i, (param, signal, delay) in enumerate(serial_register):\n",
    "    if i==0:\n",
    "        print param\n",
    "    ax.plot(signal,'r--')"
   ]
  },
  {
   "cell_type": "markdown",
   "metadata": {},
   "source": [
    "### Turn-by-turn FIR filter for the betatron phase correction\n",
    "The betatron phase correction is implemented manually by using a turn-by-turn FIR filter. \n",
    "\n",
    "\n",
    "Read more about the coefficients from Ref. http://accelconf.web.cern.ch/AccelConf/IPAC2011/papers/mopo013.pdf."
   ]
  },
  {
   "cell_type": "code",
   "execution_count": null,
   "metadata": {
    "collapsed": false,
    "deletable": true,
    "editable": true
   },
   "outputs": [],
   "source": [
    "# the total (group) delay to the middle coefficient is four turns, i.e.\n",
    "\n",
    "turn_notch_filter = [-1.,1.]\n",
    "\n",
    "phase_shift_x = -5. * machine.Q_x * 2.* pi\n",
    "turn_phase_filter_x = [-2. * np.sin(phase_shift_x)/(pi * 3.),\n",
    "                   0,\n",
    "                   -2. * np.sin(phase_shift_x)/(pi * 1.),\n",
    "                   np.cos(phase_shift_x),\n",
    "                   2. * np.sin(phase_shift_x)/(pi * 1.),\n",
    "                   0,\n",
    "                   2. * np.sin(phase_shift_x)/(pi * 3.)\n",
    "                   ]\n",
    "\n",
    "phase_shift_y = -5. * machine.Q_y * 2.* pi\n",
    "turn_phase_filter_y = [-2. * np.sin(phase_shift_y)/(pi * 3.),\n",
    "                   0,\n",
    "                   -2. * np.sin(phase_shift_y)/(pi * 1.),\n",
    "                   np.cos(phase_shift_y),\n",
    "                   2. * np.sin(phase_shift_y)/(pi * 1.),\n",
    "                   0,\n",
    "                   2. * np.sin(phase_shift_y)/(pi * 3.)\n",
    "                   ]\n",
    "\n",
    "\n",
    "turn_FIR_filter_x = np.convolve(turn_notch_filter, turn_phase_filter_x)\n",
    "turn_FIR_filter_y = np.convolve(turn_notch_filter, turn_phase_filter_y)\n",
    "\n",
    "# turn_FIR_filter_x = turn_phase_filter_x\n",
    "# turn_FIR_filter_y = turn_phase_filter_y"
   ]
  },
  {
   "cell_type": "markdown",
   "metadata": {},
   "source": [
    "### The model\n",
    "This is the actual damper model to be used in the simulations, which includes elements for digital signal processing (ADC, FIR filters and DAC) and power amplifier/kicker bandwidth limitation. It is assumed that the signal transmission from beam to ADC is perfect. A detailed model for a pickup signal processing could be build, but it is not done here in order to clarify the example."
   ]
  },
  {
   "cell_type": "code",
   "execution_count": null,
   "metadata": {
    "collapsed": false,
    "deletable": true,
    "editable": true
   },
   "outputs": [],
   "source": [
    "beam_detailed = copy.deepcopy(beam_ref)\n",
    "tracker_detailed = BeamTracker(beam_detailed)\n",
    "slicer_detailed = copy.deepcopy(slicer_ref)\n",
    "\n",
    "processors_detailed_x = [\n",
    "        Bypass(debug=False),\n",
    "        ChargeWeighter(normalization = 'segment_average', debug=False),\n",
    "#         NoiseGenerator(RMS_noise_level, debug=False),\n",
    "        HarmonicADC(1*f_RF/10., ADC_bits, ADC_range,\n",
    "                    n_extras=extra_adc_bins, debug=False),\n",
    "        TurnFIRFilter(turn_FIR_filter_x, machine.Q_x, delay=1, debug=False),\n",
    "        FIRFilter(FIR_phase_filter, zero_tap = 40, debug=True),\n",
    "#         SignalHolder(holding_scheme, debug=True),\n",
    "        Upsampler(3, [0,3,0], debug=False),\n",
    "        FIRFilter(FIR_gain_filter, zero_tap = 32, debug=True),\n",
    "        DAC(ADC_bits, ADC_range, debug=False),\n",
    "        Lowpass(fc, f_cutoff_2nd=10*fc, debug=True),\n",
    "        BackToOriginalBins(debug=False),\n",
    "]\n",
    "\n",
    "processors_detailed_y = [\n",
    "        Bypass(debug=True),\n",
    "        ChargeWeighter(normalization = 'segment_average', debug=False),\n",
    "#         NoiseGenerator(RMS_noise_level, debug=False),\n",
    "        HarmonicADC(1*f_RF/10., ADC_bits, ADC_range,\n",
    "                    n_extras=extra_adc_bins, debug=False),\n",
    "        TurnFIRFilter(turn_FIR_filter_y, machine.Q_y, delay = 1, debug=True),\n",
    "        FIRFilter(FIR_phase_filter, zero_tap = 41, debug=True),\n",
    "#         SignalHolder(holding_scheme, debug=True),\n",
    "        Upsampler(3, [1,1,1], debug=False),\n",
    "        FIRFilter(FIR_gain_filter, zero_tap = 32, debug=True),\n",
    "        DAC(ADC_bits, ADC_range, debug=False),\n",
    "        Lowpass(fc, f_cutoff_2nd=10*fc, debug=False),\n",
    "        BackToOriginalBins(debug=False),\n",
    "]\n",
    "\n",
    "\n",
    "feedback_map = OneboxFeedback(feedback_gain,slicer_detailed,\n",
    "                              processors_detailed_x,processors_detailed_y, mpi=True)\n",
    "one_turn_map = [feedback_map] + [i for i in trans_map] # + [long_map]\n",
    "\n",
    "track(n_turns, beam_detailed, one_turn_map, tracker_detailed)\n",
    "plot_debug_data(processors_detailed_x, source = 'output')"
   ]
  },
  {
   "cell_type": "code",
   "execution_count": null,
   "metadata": {
    "collapsed": false,
    "deletable": true,
    "editable": true
   },
   "outputs": [],
   "source": [
    "# compare_traces([tracker_ref_data,tracker_detailed],\n",
    "#                ['Ideal bunch-by-slice\\nfeedback', 'Damper model'], bunch_idx=-10)\n",
    "# compare_beam_projections([ beam_ref_data, beam_detailed], \n",
    "#                ['Ideal bunch-by-slice\\nfeedback', 'Damper model'])"
   ]
  },
  {
   "cell_type": "markdown",
   "metadata": {
    "collapsed": true,
    "deletable": true,
    "editable": true
   },
   "source": [
    "Jani Komppula, CERN, 2017"
   ]
  },
  {
   "cell_type": "code",
   "execution_count": null,
   "metadata": {
    "collapsed": false,
    "deletable": true,
    "editable": true
   },
   "outputs": [],
   "source": [
    "\n",
    "\n",
    "plot3Dtraces(tracker_ref_data,\n",
    "               ['Ideal bunch-by-slice\\nfeedback'], bunches = 130,first_turn=0)\n",
    "\n",
    "plot3Dtraces(tracker_detailed,\n",
    "               ['Minimal model'], bunches = [100,120,203])"
   ]
  },
  {
   "cell_type": "code",
   "execution_count": null,
   "metadata": {
    "collapsed": true
   },
   "outputs": [],
   "source": []
  }
 ],
 "metadata": {
  "kernelspec": {
   "display_name": "Python 2",
   "language": "python",
   "name": "python2"
  },
  "language_info": {
   "codemirror_mode": {
    "name": "ipython",
    "version": 2
   },
   "file_extension": ".py",
   "mimetype": "text/x-python",
   "name": "python",
   "nbconvert_exporter": "python",
   "pygments_lexer": "ipython2",
   "version": "2.7.14"
  }
 },
 "nbformat": 4,
 "nbformat_minor": 1
}
