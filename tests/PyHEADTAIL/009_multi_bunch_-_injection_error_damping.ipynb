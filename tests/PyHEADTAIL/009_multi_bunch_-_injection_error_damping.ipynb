{
 "cells": [
  {
   "cell_type": "code",
   "execution_count": null,
   "metadata": {
    "collapsed": false,
    "deletable": true,
    "editable": true
   },
   "outputs": [],
   "source": [
    "from __future__ import unicode_literals\n",
    "\n",
    "import sys, os\n",
    "BIN = os.path.expanduser(\"../../../\")\n",
    "sys.path.append(BIN)\n",
    "\n",
    "import numpy as np\n",
    "from scipy.constants import m_p, c, e, pi\n",
    "import matplotlib.pyplot as plt\n",
    "%matplotlib inline\n",
    "\n",
    "import copy\n",
    "import itertools\n",
    "\n",
    "from test_tools import Machine, generate_objects, BunchTracker, track, compare_traces, BeamTracker, plot3Dtraces\n",
    "from test_tools import compare_beam_projections, plot_debug_data, plot_FIR_coefficients\n",
    "\n",
    "from PyHEADTAIL.feedback.feedback import OneboxFeedback, Kicker, PickUp\n",
    "from PyHEADTAIL.feedback.processors.multiplication import ChargeWeighter\n",
    "from PyHEADTAIL.feedback.processors.linear_transform import Averager\n",
    "from PyHEADTAIL.feedback.processors.misc import Bypass\n",
    "from PyHEADTAIL.feedback.processors.register import Register, TurnDelay, TurnFIRFilter\n",
    "from PyHEADTAIL.feedback.processors.convolution import Lowpass, Gaussian, FIRFilter\n",
    "from PyHEADTAIL.feedback.processors.resampling import DAC, HarmonicADC, BackToOriginalBins, Upsampler\n",
    "from PyHEADTAIL.feedback.processors.addition import NoiseGenerator\n",
    "np.random.seed(0)"
   ]
  },
  {
   "cell_type": "markdown",
   "metadata": {
    "collapsed": false,
    "deletable": true,
    "editable": true
   },
   "source": [
    "# 009 Injection error damping\n",
    "\n",
    "This tests injection error damping by using a model for the original LHC damper system (ADT). The model still in progress and might not be correct!\n",
    "\n",
    "## Basic parameters and elements for the simulations"
   ]
  },
  {
   "cell_type": "code",
   "execution_count": null,
   "metadata": {
    "collapsed": false,
    "deletable": true,
    "editable": true
   },
   "outputs": [],
   "source": [
    "%%capture\n",
    "\n",
    "n_macroparticles = 1000\n",
    "n_slices = 20\n",
    "n_segments = 5\n",
    "n_sigma_z = 6\n",
    "n_sigma_z = 6\n",
    "\n",
    "n_turns = 100\n",
    "# n_turns = 12\n",
    "\n",
    "machine = Machine(n_segments= n_segments)\n",
    "\n",
    "# harmonic frequency of the bunches (f_RF/every_n_bucket_filled)\n",
    "f_RF = 1./(machine.circumference/c/(float(machine.h_RF)))\n",
    "f_harmonic = f_RF/10.\n",
    "\n",
    "\n",
    "first_index = 10 #[buckets]\n",
    "batch_spacing = 8  #[buckets]\n",
    "# batch_spacing = 10  #[buckets]\n",
    "n_batches = 3\n",
    "# n_batches = 3\n",
    "n_bunches_per_batch = 72\n",
    "# n_bunches_per_batch = 6\n",
    "bunch_spacing = 1 #[buckets]\n",
    "LHC_gap = 38\n",
    "\n",
    "batch_separation = batch_spacing+n_bunches_per_batch* bunch_spacing\n",
    "\n",
    "filling_scheme = []\n",
    "\n",
    "for i in xrange(n_bunches_per_batch):\n",
    "    filling_scheme.append(first_index + i * bunch_spacing)\n",
    "\n",
    "first_index = np.max(filling_scheme) + LHC_gap\n",
    "for j in xrange(n_batches):\n",
    "    for i in xrange(n_bunches_per_batch):\n",
    "        filling_scheme.append(first_index + i * bunch_spacing + j*batch_separation)\n",
    "\n",
    "\n",
    "print filling_scheme\n",
    "\n",
    "beam_ref, slicer_ref,trans_map, long_map = generate_objects(machine, n_macroparticles, n_slices,n_sigma_z,\n",
    "                                                             filling_scheme=filling_scheme, matched=False)"
   ]
  },
  {
   "cell_type": "code",
   "execution_count": null,
   "metadata": {
    "collapsed": false
   },
   "outputs": [],
   "source": [
    "print 'f_RF: ' + str(f_RF)\n",
    "print 'f_harmonic: ' + str(f_harmonic)\n",
    "print('Number of bunches: ' + str(len(beam_ref.split())))"
   ]
  },
  {
   "cell_type": "markdown",
   "metadata": {},
   "source": [
    "## Initial bunch kick\n",
    "The bunhes are initial kicks are estimated from numerical MKI kicker waveform data. Data from Gerd Kotzian's archive."
   ]
  },
  {
   "cell_type": "code",
   "execution_count": null,
   "metadata": {
    "collapsed": false
   },
   "outputs": [],
   "source": [
    "# numerical data for the injection error\n",
    "kick_data = np.loadtxt('./injection_error_input_data/field_May24_2007_Mag5_7kV5.CSV',delimiter=',')\n",
    "\n",
    "fig, ax = plt.subplots(1)\n",
    "kick_data[:,1] = kick_data[:,1]-0.95\n",
    "kick_data[:,1] = kick_data[:,1]/np.max(kick_data[:,1])\n",
    "neg_map = (kick_data[:,1] < 0.)\n",
    "kick_data[neg_map,1] = 0.\n",
    "\n",
    "ax.plot(kick_data[:,0]*1e6,kick_data[:,1])\n",
    "ax.set_ylim(0,1.0)\n",
    "ax.set_xlim(0,10.0)\n",
    "\n",
    "plt.show()\n",
    "\n",
    "# kick_data = np.stack((kick_data[0::2], kick_data[1::2]), axis=-1)\n",
    "# kick_data[:,0] = (kick_data[:,0]-0.95)*1e-6\n",
    "# kick_data[:,1] = kick_data[:,1]/10."
   ]
  },
  {
   "cell_type": "code",
   "execution_count": null,
   "metadata": {
    "collapsed": false
   },
   "outputs": [],
   "source": [
    "bunch_list = beam_ref.split()\n",
    "\n",
    "n_bunches = len(bunch_list)\n",
    "\n",
    "amplitude = 10e-3\n",
    "\n",
    "t0 = bunch_list[n_bunches - (n_bunches_per_batch)].bucket_id[0]*machine.circumference/machine.h_bunch/c\n",
    "for i in xrange(n_bunches):\n",
    "    if i < (n_bunches - (n_bunches_per_batch)):\n",
    "        z_location = bunch_list[i].bucket_id[0]*machine.circumference/machine.h_bunch\n",
    "        \n",
    "        bunch_list[i].x = bunch_list[i].x + amplitude*np.interp((z_location/c-t0), kick_data[:,0],kick_data[:,1])\n",
    "        bunch_list[i].y = bunch_list[i].y + amplitude*np.interp((z_location/c-t0), kick_data[:,0],kick_data[:,1])\n",
    "#         bunch_list[i].x = bunch_list[i].x + amplitude\n",
    "#         bunch_list[i].y = bunch_list[i].y + amplitude\n",
    "    else:\n",
    "        z_location = bunch_list[i].bucket_id[0]*machine.circumference/machine.h_bunch\n",
    "\n",
    "\n",
    "beam_ref = sum(bunch_list)"
   ]
  },
  {
   "cell_type": "markdown",
   "metadata": {},
   "source": [
    "## Special signal processor: SignalHolder\n",
    "\n",
    "Special signal processor, which holds the signal between the gaps of the injected batches"
   ]
  },
  {
   "cell_type": "code",
   "execution_count": null,
   "metadata": {
    "collapsed": true
   },
   "outputs": [],
   "source": [
    "from PyHEADTAIL.feedback.core import default_macros\n",
    "\n",
    "class SignalHolder(object):\n",
    "    def __init__(self, hold_pattern, **kwargs):\n",
    "        self._hold_pattern = hold_pattern\n",
    "        \n",
    "        self.extensions = []\n",
    "        self._macros = [] + default_macros(self, 'SignalHolder', **kwargs)\n",
    "        \n",
    "        self._value_maps = []\n",
    "        self._hold_maps = []\n",
    "        \n",
    "        value_indexes = self._hold_pattern[self._hold_pattern > 0]\n",
    "        \n",
    "        for i, idx in enumerate(value_indexes):\n",
    "            self._value_maps.append(np.where(self._hold_pattern==idx)[0][0])\n",
    "            self._hold_maps.append(np.where(self._hold_pattern==-idx)[0])\n",
    "        \n",
    "        \n",
    "    def process(self, parameters, signal, *args, **kwargs):\n",
    "        signal_out = np.copy(signal)\n",
    "        \n",
    "        for source_idx, target_map in zip(self._value_maps, self._hold_maps):\n",
    "            signal_out[target_map] = signal[source_idx]\n",
    "            \n",
    "        return parameters, signal_out\n",
    "        "
   ]
  },
  {
   "cell_type": "markdown",
   "metadata": {},
   "source": [
    "Determines holding scheme for the SignalHolder"
   ]
  },
  {
   "cell_type": "code",
   "execution_count": null,
   "metadata": {
    "collapsed": false
   },
   "outputs": [],
   "source": [
    "extra_adc_bins = 10\n",
    "\n",
    "max_bucket = np.max(filling_scheme)\n",
    "min_bucket = np.min(filling_scheme)\n",
    "\n",
    "n_bins = (max_bucket - min_bucket) + 1 \n",
    "n_bins = n_bins + 2*extra_adc_bins\n",
    "holding_scheme = np.zeros(int(n_bins))\n",
    "\n",
    "gap_1_value_idx = int(extra_adc_bins + 2*(n_bunches_per_batch)+ batch_spacing) - 1\n",
    "gap_1_from = gap_1_value_idx + 1\n",
    "gap_1_to = gap_1_from + int(batch_spacing)\n",
    "\n",
    "gap_2_value_idx = int(extra_adc_bins + 3*(n_bunches_per_batch)+ 2*batch_spacing) - 1\n",
    "gap_2_from = gap_2_value_idx + 1\n",
    "gap_2_to = gap_2_from + int(batch_spacing)\n",
    "\n",
    "\n",
    "holding_scheme[gap_1_value_idx] = 1\n",
    "holding_scheme[gap_1_from:gap_1_to] = -1\n",
    "\n",
    "holding_scheme[gap_2_value_idx] = 2\n",
    "holding_scheme[gap_2_from:gap_2_to] = -2"
   ]
  },
  {
   "cell_type": "markdown",
   "metadata": {},
   "source": [
    "## Feedback settings"
   ]
  },
  {
   "cell_type": "code",
   "execution_count": null,
   "metadata": {
    "collapsed": false,
    "deletable": true,
    "editable": true
   },
   "outputs": [],
   "source": [
    "feedback_gain = 0.1\n",
    "# feedback_gain = (0.1,0.4)\n",
    "\n",
    "# delay (a number of turns) before the pickup signal is used to the correction kick calculations.\n",
    "delay = 1\n",
    "\n",
    "# a number of values used to calculate the correct signal\n",
    "n_values = 2\n",
    "\n",
    "RMS_noise_level = 1e-6\n",
    "\n",
    "\n",
    "# feedback settings\n",
    "fc=1e6 # The cut off frequency of the power amplifier\n",
    "ADC_f = 40e9 # multiplier of the sampling rate from the harmonic frequency\n",
    "ADC_n_samples = 50\n",
    "ADC_bits = 16\n",
    "ADC_range = (-3e-3,3e-3)\n",
    "\n",
    "DAC_bits = 14\n",
    "DAC_range = (-3e-3,3e-3)\n",
    "\n",
    "RMS_noise_level = 1e-6"
   ]
  },
  {
   "cell_type": "markdown",
   "metadata": {
    "collapsed": true,
    "deletable": true,
    "editable": true
   },
   "source": [
    "## Reference data\n",
    "Tracks a bunch by using an ideal bunch-by-bunch feedback presented in the first test (001_ideal_feedbacks.ipynb). The data is used as baseline data for the detailed feedback model. "
   ]
  },
  {
   "cell_type": "code",
   "execution_count": null,
   "metadata": {
    "collapsed": false,
    "deletable": true,
    "editable": true
   },
   "outputs": [],
   "source": [
    "beam_ref_data = copy.deepcopy(beam_ref)\n",
    "tracker_ref_data = BeamTracker(beam_ref_data)\n",
    "slicer_ref_data = copy.deepcopy(slicer_ref)\n",
    "\n",
    "processors_bunch_x = [\n",
    "    ChargeWeighter(normalization = 'segment_average'),\n",
    "    Averager()\n",
    "]\n",
    "processors_bunch_y = [\n",
    "    ChargeWeighter(normalization = 'segment_average'),\n",
    "    Averager()\n",
    "]\n",
    "\n",
    "feedback_map = OneboxFeedback(feedback_gain,slicer_ref_data,processors_bunch_x,processors_bunch_y, mpi=True)\n",
    "one_turn_map = [i for i in trans_map] + [feedback_map] #  + [long_map]\n",
    "\n",
    "track(n_turns, beam_ref_data,one_turn_map ,tracker_ref_data)"
   ]
  },
  {
   "cell_type": "markdown",
   "metadata": {},
   "source": [
    "## Detailed feedback model\n",
    "This section contains an axample how to build a model for a LHC ADT type transverse feedback system.\n",
    "\n",
    "**Disclimer:** it is not guaranteed that the following model describes any existing system.\n",
    "\n",
    "### FIR filter coefficients for the bandwidth phase correction\n",
    "The power amplifier phase and gain is corrected by using two FIR filters, which coefficients are loaded from an external file. \n",
    "\n",
    "Read more about the coefficients from:\n",
    "http://be-op-lhc.web.cern.ch/sites/be-op-lhc.web.cern.ch/files/docs/ADT_operation.pdf\n",
    "https://accelconf.web.cern.ch/accelconf/e08/papers/thpc122.pdf"
   ]
  },
  {
   "cell_type": "code",
   "execution_count": null,
   "metadata": {
    "collapsed": false
   },
   "outputs": [],
   "source": [
    "FIR_phase_filter = np.loadtxt('./injection_error_input_data/FIR_Phase_40MSPS.csv')\n",
    "FIR_phase_filter = FIR_phase_filter/sum(FIR_phase_filter)\n",
    "plot_FIR_coefficients(FIR_phase_filter)\n",
    "\n",
    "FIR_gain_filter = np.loadtxt('./injection_error_input_data/FIR_Gain_120MSPS.csv')\n",
    "FIR_gain_filter = FIR_gain_filter/sum(FIR_gain_filter)\n",
    "plot_FIR_coefficients(FIR_gain_filter)"
   ]
  },
  {
   "cell_type": "markdown",
   "metadata": {},
   "source": [
    "### Turn-by-turn FIR filter for the betatron phase correction\n",
    "The betatron phase correction is implemented manually by using a turn-by-turn FIR filter. \n",
    "\n",
    "\n",
    "Read more about the coefficients from Ref. http://accelconf.web.cern.ch/AccelConf/IPAC2011/papers/mopo013.pdf."
   ]
  },
  {
   "cell_type": "code",
   "execution_count": null,
   "metadata": {
    "collapsed": false,
    "deletable": true,
    "editable": true
   },
   "outputs": [],
   "source": [
    "# the total (group) delay to the middle coefficient is four turns, i.e.\n",
    "\n",
    "turn_notch_filter = [-1.,1.]\n",
    "\n",
    "phase_shift_x = -5. * machine.Q_x * 2.* pi\n",
    "turn_phase_filter_x = [-2. * np.sin(phase_shift_x)/(pi * 3.),\n",
    "                   0,\n",
    "                   -2. * np.sin(phase_shift_x)/(pi * 1.),\n",
    "                   np.cos(phase_shift_x),\n",
    "                   2. * np.sin(phase_shift_x)/(pi * 1.),\n",
    "                   0,\n",
    "                   2. * np.sin(phase_shift_x)/(pi * 3.)\n",
    "                   ]\n",
    "\n",
    "phase_shift_y = -5. * machine.Q_y * 2.* pi\n",
    "turn_phase_filter_y = [-2. * np.sin(phase_shift_y)/(pi * 3.),\n",
    "                   0,\n",
    "                   -2. * np.sin(phase_shift_y)/(pi * 1.),\n",
    "                   np.cos(phase_shift_y),\n",
    "                   2. * np.sin(phase_shift_y)/(pi * 1.),\n",
    "                   0,\n",
    "                   2. * np.sin(phase_shift_y)/(pi * 3.)\n",
    "                   ]\n",
    "\n",
    "\n",
    "turn_FIR_filter_x = np.convolve(turn_notch_filter, turn_phase_filter_x)\n",
    "turn_FIR_filter_y = np.convolve(turn_notch_filter, turn_phase_filter_y)\n",
    "\n",
    "# turn_FIR_filter_x = turn_phase_filter_x\n",
    "# turn_FIR_filter_y = turn_phase_filter_y"
   ]
  },
  {
   "cell_type": "markdown",
   "metadata": {},
   "source": [
    "### The model\n",
    "This is the actual damper model to be used in the simulations, which includes elements for digital signal processing (ADC, FIR filters and DAC) and power amplifier/kicker bandwidth limitation. It is assumed that the signal transmission from beam to ADC is perfect. A detailed model for a pickup signal processing could be build, but it is not done here in order to clarify the example."
   ]
  },
  {
   "cell_type": "code",
   "execution_count": null,
   "metadata": {
    "collapsed": false,
    "deletable": true,
    "editable": true
   },
   "outputs": [],
   "source": [
    "beam_detailed = copy.deepcopy(beam_ref)\n",
    "tracker_detailed = BeamTracker(beam_detailed)\n",
    "slicer_detailed = copy.deepcopy(slicer_ref)\n",
    "\n",
    "processors_detailed_x = [\n",
    "        Bypass(debug=False),\n",
    "        ChargeWeighter(normalization = 'segment_average', debug=False),\n",
    "#         NoiseGenerator(RMS_noise_level, debug=False),\n",
    "        HarmonicADC(1*f_RF/10., ADC_bits, ADC_range,\n",
    "                    n_extras=extra_adc_bins, debug=False),\n",
    "        TurnFIRFilter(turn_FIR_filter_x, machine.Q_x, delay=1, debug=False),\n",
    "        FIRFilter(FIR_phase_filter, zero_tap = 40, debug=True),\n",
    "#         SignalHolder(holding_scheme, debug=True),\n",
    "        Upsampler(3, [0,3,0], debug=False),\n",
    "        FIRFilter(FIR_gain_filter, zero_tap = 32, debug=True),\n",
    "        DAC(ADC_bits, ADC_range, debug=False),\n",
    "        Lowpass(fc, f_cutoff_2nd=10*fc, debug=True),\n",
    "        BackToOriginalBins(debug=False),\n",
    "]\n",
    "\n",
    "processors_detailed_y = [\n",
    "        Bypass(debug=True),\n",
    "        ChargeWeighter(normalization = 'segment_average', debug=False),\n",
    "#         NoiseGenerator(RMS_noise_level, debug=False),\n",
    "        HarmonicADC(1*f_RF/10., ADC_bits, ADC_range,\n",
    "                    n_extras=extra_adc_bins, debug=False),\n",
    "        TurnFIRFilter(turn_FIR_filter_y, machine.Q_y, delay = 1, debug=True),\n",
    "        FIRFilter(FIR_phase_filter, zero_tap = 41, debug=True),\n",
    "#         SignalHolder(holding_scheme, debug=True),\n",
    "        Upsampler(3, [1,1,1], debug=False),\n",
    "        FIRFilter(FIR_gain_filter, zero_tap = 32, debug=True),\n",
    "        DAC(ADC_bits, ADC_range, debug=False),\n",
    "        Lowpass(fc, f_cutoff_2nd=10*fc, debug=False),\n",
    "        BackToOriginalBins(debug=False),\n",
    "]\n",
    "\n",
    "\n",
    "feedback_map = OneboxFeedback(feedback_gain,slicer_detailed,\n",
    "                              processors_detailed_x,processors_detailed_y, mpi=True)\n",
    "one_turn_map = [feedback_map] + [i for i in trans_map] # + [long_map]\n",
    "\n",
    "track(n_turns, beam_detailed, one_turn_map, tracker_detailed)\n",
    "plot_debug_data(processors_detailed_x, source = 'output')"
   ]
  },
  {
   "cell_type": "code",
   "execution_count": null,
   "metadata": {
    "collapsed": false,
    "deletable": true,
    "editable": true
   },
   "outputs": [],
   "source": [
    "# compare_traces([tracker_ref_data,tracker_detailed],\n",
    "#                ['Ideal bunch-by-slice\\nfeedback', 'Damper model'], bunch_idx=-10)\n",
    "# compare_beam_projections([ beam_ref_data, beam_detailed], \n",
    "#                ['Ideal bunch-by-slice\\nfeedback', 'Damper model'])"
   ]
  },
  {
   "cell_type": "markdown",
   "metadata": {
    "collapsed": true,
    "deletable": true,
    "editable": true
   },
   "source": [
    "Jani Komppula, CERN, 2017"
   ]
  },
  {
   "cell_type": "code",
   "execution_count": null,
   "metadata": {
    "collapsed": false,
    "deletable": true,
    "editable": true
   },
   "outputs": [],
   "source": [
    "\n",
    "\n",
    "plot3Dtraces(tracker_ref_data,\n",
    "               ['Ideal bunch-by-slice\\nfeedback'], bunches = 130,first_turn=0)\n",
    "\n",
    "plot3Dtraces(tracker_detailed,\n",
    "               ['Minimal model'], bunches = [100,120,203])"
   ]
  },
  {
   "cell_type": "code",
   "execution_count": null,
   "metadata": {
    "collapsed": true
   },
   "outputs": [],
   "source": []
  }
 ],
 "metadata": {
  "kernelspec": {
   "display_name": "Python 2",
   "language": "python",
   "name": "python2"
  },
  "language_info": {
   "codemirror_mode": {
    "name": "ipython",
    "version": 2
   },
   "file_extension": ".py",
   "mimetype": "text/x-python",
   "name": "python",
   "nbconvert_exporter": "python",
   "pygments_lexer": "ipython2",
   "version": "2.7.14"
  }
 },
 "nbformat": 4,
 "nbformat_minor": 1
}
