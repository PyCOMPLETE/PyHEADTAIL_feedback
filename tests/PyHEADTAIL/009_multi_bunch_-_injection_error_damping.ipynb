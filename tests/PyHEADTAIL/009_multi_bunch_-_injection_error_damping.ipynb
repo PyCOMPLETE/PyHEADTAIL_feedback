{
 "cells": [
  {
   "cell_type": "code",
   "execution_count": null,
   "metadata": {
    "collapsed": false,
    "deletable": true,
    "editable": true
   },
   "outputs": [],
   "source": [
    "from __future__ import unicode_literals\n",
    "\n",
    "import sys, os\n",
    "BIN = os.path.expanduser(\"../../../\")\n",
    "sys.path.append(BIN)\n",
    "\n",
    "import numpy as np\n",
    "from scipy.constants import m_p, c, e, pi\n",
    "import matplotlib.pyplot as plt\n",
    "%matplotlib inline\n",
    "\n",
    "import copy\n",
    "import itertools\n",
    "\n",
    "from test_tools import Machine, generate_objects, BunchTracker, track, compare_traces, BeamTracker, plot3Dtraces\n",
    "from test_tools import compare_beam_projections, plot_debug_data\n",
    "\n",
    "from PyHEADTAIL_feedback.feedback import OneboxFeedback, Kicker, PickUp\n",
    "from PyHEADTAIL_feedback.processors.multiplication import ChargeWeighter\n",
    "from PyHEADTAIL_feedback.processors.linear_transform import Averager\n",
    "from PyHEADTAIL_feedback.processors.misc import Bypass\n",
    "from PyHEADTAIL_feedback.processors.register import Register, TurnDelay, TurnFIRFilter\n",
    "from PyHEADTAIL_feedback.processors.convolution import Lowpass, Gaussian, FIRFilter\n",
    "from PyHEADTAIL_feedback.processors.resampling import DAC, HarmonicADC, BackToOriginalBins, Upsampler\n",
    "from PyHEADTAIL_feedback.processors.addition import NoiseGenerator\n",
    "np.random.seed(0)"
   ]
  },
  {
   "cell_type": "markdown",
   "metadata": {
    "collapsed": false,
    "deletable": true,
    "editable": true
   },
   "source": [
    "# 009 Injection error damping\n",
    "\n",
    "This tests injection error damping by using a model for the original LHC damper system (ADT). The model still in progress and might not be correct!\n",
    "\n",
    "## Basic parameters and elements for the simulations"
   ]
  },
  {
   "cell_type": "code",
   "execution_count": null,
   "metadata": {
    "collapsed": false,
    "deletable": true,
    "editable": true
   },
   "outputs": [],
   "source": [
    "%%capture\n",
    "\n",
    "n_macroparticles = 1000\n",
    "n_slices = 10\n",
    "n_segments = 5\n",
    "n_sigma_z = 3\n",
    "# n_sigma_z = 6\n",
    "\n",
    "# n_turns = 100\n",
    "n_turns = 70\n",
    "\n",
    "machine = Machine(n_segments= n_segments)\n",
    "\n",
    "# harmonic frequency of the bunches (f_RF/every_n_bucket_filled)\n",
    "f_RF = 1./(machine.circumference/c/(float(machine.h_RF)))\n",
    "f_harmonic = f_RF/10.\n",
    "\n",
    "\n",
    "first_index = 10 #[buckets]\n",
    "batch_spacing = 8  #[buckets]\n",
    "# batch_spacing = 10  #[buckets]\n",
    "n_batches = 4\n",
    "# n_batches = 3\n",
    "n_bunches_per_batch = 72\n",
    "# n_bunches_per_batch = 6\n",
    "bunch_spacing = 1 #[buckets]\n",
    "\n",
    "batch_separation = batch_spacing+n_bunches_per_batch* bunch_spacing\n",
    "\n",
    "filling_scheme = []\n",
    "for j in xrange(n_batches):\n",
    "    for i in xrange(n_bunches_per_batch):\n",
    "        filling_scheme.append(first_index + i * bunch_spacing + j*batch_separation)\n",
    "\n",
    "\n",
    "print filling_scheme\n",
    "\n",
    "beam_ref, slicer_ref,trans_map, long_map = generate_objects(machine, n_macroparticles, n_slices,n_sigma_z,\n",
    "                                                             filling_scheme=filling_scheme, matched=False)"
   ]
  },
  {
   "cell_type": "code",
   "execution_count": null,
   "metadata": {
    "collapsed": false
   },
   "outputs": [],
   "source": [
    "print 'f_RF: ' + str(f_RF)\n",
    "print 'f_harmonic: ' + str(f_harmonic)\n",
    "print('Number of bunches: ' + str(len(beam_ref.split())))"
   ]
  },
  {
   "cell_type": "markdown",
   "metadata": {},
   "source": [
    "## Initial bunch kick\n",
    "Creates an artificially  kicked beam which will be damped by using a feedback model.\n",
    "\n",
    "The kick values are from numerical data:"
   ]
  },
  {
   "cell_type": "code",
   "execution_count": null,
   "metadata": {
    "collapsed": false
   },
   "outputs": [],
   "source": [
    "# numerical data for the injection error\n",
    "kick_data = [\n",
    "0.012621969679326828, -0.026454903239327976,\n",
    "0.31558417363359004, 0.05072075638667073,\n",
    "0.5941291539554268, -0.003539740574277417,\n",
    "0.8730933140821122, 0.04746046901562728,\n",
    "0.9238140704687821, 0.7840059616683348,\n",
    "0.9512703476863598, 7.678582240748934,\n",
    "0.9848047320742408, 8.099438764816842,\n",
    "1.0260939428518192, 8.467618360075452,\n",
    "1.0758715446775802, 8.967327262988753,\n",
    "1.109510724016673, 9.414498963694372,\n",
    "1.1523718590624337, 10.177406208518665,\n",
    "1.211581006497287, 9.045481008826064,\n",
    "1.2395612584709244, 8.071633171095225,\n",
    "1.3254931184648697, 7.650078014019238,\n",
    "1.4445401830418474, 7.544118674460307,\n",
    "1.5336158915721563, 7.912018816515684,\n",
    "1.5767914114715538, 8.753871591253116,\n",
    "1.612526489834889, 9.727346824712978,\n",
    "1.6383060478330722, 10.200880277590183,\n",
    "1.7261242169488362, 10.252998299993013,\n",
    "1.7713956358724756, 9.621154607484687,\n",
    "1.8247362660394488, 9.015579516080203,\n",
    "1.890023520644605, 9.40993456137491,\n",
    "1.9316271162758198, 9.857059686546657,\n",
    "2.019130900537947, 9.830232179036354,\n",
    "2.0498358212431, 9.540578933886032,\n",
    "2.1372348105540153, 9.487436249738012,\n",
    "2.210696071353717, 9.934375072774273,\n",
    "2.291597773689481, 10.2496914370881,\n",
    "2.412007172632215, 10.48582939381943,\n",
    "2.5316830069164666, 10.53776111408677,\n",
    "2.610593605179199, 10.353089122284064,\n",
    "2.6757760648331423, 10.721128990941061,\n",
    "2.748818145827996, 11.062807107426469,\n",
    "3.15521296662863, 11.11306210847442,\n",
    "4.031089168859598, 11.055308446473068,\n",
    "4.48516569246175, 11.078968817680074,\n",
    "5.0192007638387555, 11.181108963461494,\n",
    "5.2267995621899805, 11.311473882769382,\n",
    "5.4422579818821175, 11.415477049905686,\n",
    "5.816690342563051, 11.43960317645141,\n",
    "6.150776647027316, 11.332386297477935,\n",
    "6.525104212757038, 11.33019724738595,\n",
    "6.866945343610999, 11.170303439603178,\n",
    "7.186045970051932, 11.300016301436855,\n",
    "7.465848489788312, 11.561537924128457,\n",
    "7.761160662304091, 11.717705689201463,\n",
    "8.064646841014413, 11.926457232016023,\n",
    "8.310076616753218, 11.556600917538018,\n",
    "8.531508348664445, 11.160569153023918,\n",
    "8.702428914091428, 10.080622249132531,\n",
    "8.791923802426584, 8.553783097738759,\n",
    "8.825982161570527, 7.106215504995227,\n",
    "8.930881907733866, 5.447707319345149,\n",
    "8.966407396194779, 4.368552199529589,\n",
    "8.982860203535084, 2.5000349316504042,\n",
    "9.009163736289327, 1.1051442677161702,\n",
    "8.981602664120537, 0.18425281199785815,\n",
    "]\n",
    "\n",
    "kick_data = np.stack((kick_data[0::2], kick_data[1::2]), axis=-1)\n",
    "kick_data[:,0] = (kick_data[:,0]-0.95)*1e-6\n",
    "kick_data[:,1] = kick_data[:,1]/10."
   ]
  },
  {
   "cell_type": "code",
   "execution_count": null,
   "metadata": {
    "collapsed": false
   },
   "outputs": [],
   "source": [
    "bunch_list = beam_ref.split()\n",
    "\n",
    "n_bunches = len(bunch_list)\n",
    "\n",
    "amplitude = 0.003\n",
    "f_osc = 1e6\n",
    "wavelength = 1./f_osc*c\n",
    "\n",
    "kick_x = 0.003*(-1.0+2*np.random.rand(n_bunches))\n",
    "kick_y = 0.003*(-1.0+2*np.random.rand(n_bunches))\n",
    "\n",
    "for i in xrange(n_bunches):\n",
    "    if i > (n_bunches_per_batch-1):\n",
    "        bunch_list[i].x = bunch_list[i].x + amplitude\n",
    "        bunch_list[i].y = bunch_list[i].y + amplitude\n",
    "    \n",
    "#     bunch_list[i].x = bunch_list[i].x + amplitude * np.sin(2. * np.pi * bunch_list[i].mean_z() / wavelength)\n",
    "#     bunch_list[i].y = bunch_list[i].y + amplitude * np.sin(2. * np.pi * bunch_list[i].mean_z() / wavelength)\n",
    "\n",
    "t0 = bunch_list[n_bunches_per_batch].mean_z()/c\n",
    "for i in xrange(n_bunches):\n",
    "    if i > (n_bunches_per_batch-1):\n",
    "        bunch_list[i].x = bunch_list[i].x + amplitude*np.interp(bunch_list[i].mean_z()/c-t0, kick_data[:,0],kick_data[:,1])\n",
    "        bunch_list[i].y = bunch_list[i].y + amplitude*np.interp(bunch_list[i].mean_z()/c-t0, kick_data[:,0],kick_data[:,1])\n",
    "\n",
    "\n",
    "beam_ref = sum(bunch_list)"
   ]
  },
  {
   "cell_type": "markdown",
   "metadata": {},
   "source": [
    "## Special signal processor: SignalHolder\n",
    "\n",
    "Special signal processor, which holds the signal between the gaps of the injected batches"
   ]
  },
  {
   "cell_type": "code",
   "execution_count": null,
   "metadata": {
    "collapsed": true
   },
   "outputs": [],
   "source": [
    "from PyHEADTAIL_feedback.core import default_macros\n",
    "\n",
    "class SignalHolder(object):\n",
    "    def __init__(self, hold_pattern, **kwargs):\n",
    "        self._hold_pattern = hold_pattern\n",
    "        \n",
    "        self.extensions = []\n",
    "        self._macros = [] + default_macros(self, 'SignalHolder', **kwargs)\n",
    "        \n",
    "        self._value_maps = []\n",
    "        self._hold_maps = []\n",
    "        \n",
    "        value_indexes = self._hold_pattern[self._hold_pattern > 0]\n",
    "        \n",
    "        for i, idx in enumerate(value_indexes):\n",
    "            self._value_maps.append(np.where(self._hold_pattern==idx)[0][0])\n",
    "            self._hold_maps.append(np.where(self._hold_pattern==-idx)[0])\n",
    "        \n",
    "        \n",
    "    def process(self, parameters, signal, *args, **kwargs):\n",
    "        signal_out = np.copy(signal)\n",
    "        \n",
    "        for source_idx, target_map in zip(self._value_maps, self._hold_maps):\n",
    "            signal_out[target_map] = signal[source_idx]\n",
    "            \n",
    "        return parameters, signal_out\n",
    "        "
   ]
  },
  {
   "cell_type": "markdown",
   "metadata": {},
   "source": [
    "Determines holding scheme for the SignalHolder"
   ]
  },
  {
   "cell_type": "code",
   "execution_count": null,
   "metadata": {
    "collapsed": false
   },
   "outputs": [],
   "source": [
    "extra_adc_bins = 10\n",
    "\n",
    "max_bucket = np.max(filling_scheme)\n",
    "min_bucket = np.min(filling_scheme)\n",
    "\n",
    "n_bins = (max_bucket - min_bucket) + 1 \n",
    "print n_bins\n",
    "n_bins = n_bins + 2*extra_adc_bins\n",
    "print n_bins\n",
    "holding_scheme = np.zeros(int(n_bins))\n",
    "\n",
    "gap_1_value_idx = int(extra_adc_bins + 2*(n_bunches_per_batch)+ batch_spacing/10) - 1\n",
    "gap_1_from = gap_1_value_idx + 1\n",
    "gap_1_to = gap_1_from + int(batch_spacing/10)\n",
    "\n",
    "gap_2_value_idx = int(extra_adc_bins + 3*(n_bunches_per_batch)+ 2*batch_spacing/10) - 1\n",
    "gap_2_from = gap_2_value_idx + 1\n",
    "gap_2_to = gap_2_from + int(batch_spacing/10)\n",
    "\n",
    "\n",
    "holding_scheme[gap_1_value_idx] = 1\n",
    "holding_scheme[gap_1_from:gap_1_to] = -1\n",
    "\n",
    "holding_scheme[gap_2_value_idx] = 2\n",
    "holding_scheme[gap_2_from:gap_2_to] = -2"
   ]
  },
  {
   "cell_type": "markdown",
   "metadata": {},
   "source": [
    "## Feedback settings"
   ]
  },
  {
   "cell_type": "code",
   "execution_count": null,
   "metadata": {
    "collapsed": false,
    "deletable": true,
    "editable": true
   },
   "outputs": [],
   "source": [
    "feedback_gain = 0.1\n",
    "# feedback_gain = (0.1,0.4)\n",
    "\n",
    "# delay (a number of turns) before the pickup signal is used to the correction kick calculations.\n",
    "delay = 1\n",
    "\n",
    "# a number of values used to calculate the correct signal\n",
    "n_values = 2\n",
    "\n",
    "RMS_noise_level = 1e-6\n",
    "\n",
    "\n",
    "# feedback settings\n",
    "fc=1e6 # The cut off frequency of the power amplifier\n",
    "ADC_f = 40e9 # multiplier of the sampling rate from the harmonic frequency\n",
    "ADC_n_samples = 50\n",
    "ADC_bits = 16\n",
    "ADC_range = (-3e-3,3e-3)\n",
    "\n",
    "DAC_bits = 14\n",
    "DAC_range = (-3e-3,3e-3)\n",
    "\n",
    "RMS_noise_level = 1e-6"
   ]
  },
  {
   "cell_type": "markdown",
   "metadata": {
    "collapsed": true,
    "deletable": true,
    "editable": true
   },
   "source": [
    "## Reference data\n",
    "Tracks a bunch by using an ideal bunch-by-bunch feedback presented in the first test (001_ideal_feedbacks.ipynb). The data is used as baseline data for the detailed feedback model. "
   ]
  },
  {
   "cell_type": "code",
   "execution_count": null,
   "metadata": {
    "collapsed": false,
    "deletable": true,
    "editable": true
   },
   "outputs": [],
   "source": [
    "beam_ref_data = copy.deepcopy(beam_ref)\n",
    "tracker_ref_data = BeamTracker(beam_ref_data)\n",
    "slicer_ref_data = copy.deepcopy(slicer_ref)\n",
    "\n",
    "processors_bunch_x = [\n",
    "    ChargeWeighter(normalization = 'segment_average'),\n",
    "    Averager()\n",
    "]\n",
    "processors_bunch_y = [\n",
    "    ChargeWeighter(normalization = 'segment_average'),\n",
    "    Averager()\n",
    "]\n",
    "\n",
    "feedback_map = OneboxFeedback(feedback_gain,slicer_ref_data,processors_bunch_x,processors_bunch_y, mpi=True,\n",
    "                              circumference=machine.circumference, h_bunch=machine.h_bunch)\n",
    "one_turn_map = [i for i in trans_map] + [feedback_map] #  + [long_map]\n",
    "\n",
    "track(n_turns, beam_ref_data,one_turn_map ,tracker_ref_data)"
   ]
  },
  {
   "cell_type": "markdown",
   "metadata": {},
   "source": [
    "## Detailed feedback model\n",
    "Signal processors required for a detailed model of the transverse feedback system are tested here. Note that the tested system does not describe accurately any existing system, and the details of the models might affect significantly to the simulation results.\n",
    "\n",
    "### FIR filter coefficients for the bandwidth phase correction\n",
    "The bandwidth of this model is limited by using a 1st order lowpass filter, which has non-linear phase response. The phase of the filter is linearized by using a FIR filter. The filter coefficients are from Ref.  https://accelconf.web.cern.ch/accelconf/e08/papers/thpc122.pdf . Note that this is a test example and the coefficients are designed to the intrabunch feedback nor tuned to work perfectly with this model."
   ]
  },
  {
   "cell_type": "code",
   "execution_count": null,
   "metadata": {
    "collapsed": true
   },
   "outputs": [],
   "source": [
    "# Coefficients from \n",
    "FIR_filter = [0.0096,  0.0192,  0.0481,  0.0673,  0.0769,  0.1154,\n",
    "                0.1442,  0.1442,  0.2115,  0.2403,  0.2596,  0.3077,\n",
    "                0.3558,  0.3846,  0.4519,  0.5192,  0.6346,  0.75,\n",
    "                0.9519,  1.2019,  1.6346,  2.6346,  7.0192, -5.1923,\n",
    "                -1.4135, -0.6827, -0.3942, -0.2308, -0.1442, -0.096,\n",
    "                -0.0192, -0.0096]\n",
    "FIR_filter = np.array(FIR_filter)\n",
    "FIR_filter = FIR_filter/sum(FIR_filter)"
   ]
  },
  {
   "cell_type": "markdown",
   "metadata": {},
   "source": [
    "### Turn-by-turn FIR filter for the betatron phase correction\n",
    "The betatron phase correction is implemented manually by using a turn-by-turn FIR filter. Coefficients are from Ref. http://accelconf.web.cern.ch/AccelConf/IPAC2011/papers/mopo013.pdf, but they are not optimized to this model."
   ]
  },
  {
   "cell_type": "code",
   "execution_count": null,
   "metadata": {
    "collapsed": false,
    "deletable": true,
    "editable": true
   },
   "outputs": [],
   "source": [
    "# the total (group) delay to the middle coefficient is four turns, i.e.\n",
    "\n",
    "turn_notch_filter = [-1.,1.]\n",
    "\n",
    "phase_shift_x = -5. * machine.Q_x * 2.* pi\n",
    "turn_phase_filter_x = [-2. * np.sin(phase_shift_x)/(pi * 3.),\n",
    "                   0,\n",
    "                   -2. * np.sin(phase_shift_x)/(pi * 1.),\n",
    "                   np.cos(phase_shift_x),\n",
    "                   2. * np.sin(phase_shift_x)/(pi * 1.),\n",
    "                   0,\n",
    "                   2. * np.sin(phase_shift_x)/(pi * 3.)\n",
    "                   ]\n",
    "\n",
    "phase_shift_y = -5. * machine.Q_y * 2.* pi\n",
    "turn_phase_filter_y = [-2. * np.sin(phase_shift_y)/(pi * 3.),\n",
    "                   0,\n",
    "                   -2. * np.sin(phase_shift_y)/(pi * 1.),\n",
    "                   np.cos(phase_shift_y),\n",
    "                   2. * np.sin(phase_shift_y)/(pi * 1.),\n",
    "                   0,\n",
    "                   2. * np.sin(phase_shift_y)/(pi * 3.)\n",
    "                   ]\n",
    "\n",
    "\n",
    "turn_FIR_filter_x = np.convolve(turn_notch_filter, turn_phase_filter_x)\n",
    "turn_FIR_filter_y = np.convolve(turn_notch_filter, turn_phase_filter_y)\n",
    "\n",
    "# turn_FIR_filter_x = turn_phase_filter_x\n",
    "# turn_FIR_filter_y = turn_phase_filter_y"
   ]
  },
  {
   "cell_type": "markdown",
   "metadata": {},
   "source": [
    "### The model\n",
    "This model includes elements for digital signal processing (ADC, FIR filters and DAC) and power amplifier/kicker bandwidth limitation. A model for pickup could be build, but in this test a charge weighted signal (𝛥-signal) is used (read more about this choise from the previous test)."
   ]
  },
  {
   "cell_type": "code",
   "execution_count": null,
   "metadata": {
    "collapsed": false,
    "deletable": true,
    "editable": true
   },
   "outputs": [],
   "source": [
    "beam_detailed = copy.deepcopy(beam_ref)\n",
    "tracker_detailed = BeamTracker(beam_detailed)\n",
    "slicer_detailed = copy.deepcopy(slicer_ref)\n",
    "\n",
    "processors_detailed_x = [\n",
    "        Bypass(debug=False),\n",
    "        ChargeWeighter(normalization = 'segment_average', debug=False),\n",
    "#         NoiseGenerator(RMS_noise_level, debug=False),\n",
    "        HarmonicADC(1*f_RF/10., ADC_bits, ADC_range,\n",
    "                    n_extras=extra_adc_bins, debug=False),\n",
    "        TurnFIRFilter(turn_FIR_filter_x, machine.Q_x, delay=1, debug=True),\n",
    "        SignalHolder(holding_scheme, debug=True),\n",
    "        Upsampler(2, [1,1], debug=True),\n",
    "        FIRFilter(FIR_filter, zero_tap = 23, debug=False),\n",
    "        DAC(ADC_bits, ADC_range, debug=False),\n",
    "        Lowpass(fc, f_cutoff_2nd=4*fc, debug=False),\n",
    "        BackToOriginalBins(debug=False),\n",
    "]\n",
    "\n",
    "processors_detailed_y = [\n",
    "        Bypass(debug=True),\n",
    "        ChargeWeighter(normalization = 'segment_average', debug=False),\n",
    "#         NoiseGenerator(RMS_noise_level, debug=False),\n",
    "        HarmonicADC(1*f_RF/10., ADC_bits, ADC_range,\n",
    "                    n_extras=extra_adc_bins, debug=False),\n",
    "        TurnFIRFilter(turn_FIR_filter_y, machine.Q_y, delay = 1, debug=True),\n",
    "        SignalHolder(holding_scheme, debug=True),\n",
    "        Upsampler(2, [1,1], debug=True),\n",
    "        FIRFilter(FIR_filter, zero_tap = 23, debug=False),\n",
    "        DAC(ADC_bits, ADC_range, debug=False),\n",
    "        Lowpass(fc, f_cutoff_2nd=4*fc, debug=False),\n",
    "        BackToOriginalBins(debug=False),\n",
    "]\n",
    "\n",
    "\n",
    "feedback_map = OneboxFeedback(feedback_gain,slicer_detailed,\n",
    "                              processors_detailed_x,processors_detailed_y, mpi = True,\n",
    "                              circumference=machine.circumference, h_bunch=machine.h_bunch)\n",
    "one_turn_map = [feedback_map] + [i for i in trans_map] # + [long_map]\n",
    "\n",
    "track(n_turns, beam_detailed, one_turn_map, tracker_detailed)\n",
    "plot_debug_data(processors_detailed_x, source = 'output')"
   ]
  },
  {
   "cell_type": "code",
   "execution_count": null,
   "metadata": {
    "collapsed": false,
    "deletable": true,
    "editable": true
   },
   "outputs": [],
   "source": [
    "compare_traces([tracker_ref_data,tracker_detailed],\n",
    "               ['Ideal bunch-by-slice\\nfeedback', 'Damper model'], bunch_idx=-10)\n",
    "compare_beam_projections([ beam_ref_data, beam_detailed], \n",
    "               ['Ideal bunch-by-slice\\nfeedback', 'Damper model'])"
   ]
  },
  {
   "cell_type": "markdown",
   "metadata": {
    "collapsed": true,
    "deletable": true,
    "editable": true
   },
   "source": [
    "Jani Komppula, CERN, 2017"
   ]
  },
  {
   "cell_type": "code",
   "execution_count": null,
   "metadata": {
    "collapsed": false,
    "deletable": true,
    "editable": true
   },
   "outputs": [],
   "source": [
    "\n",
    "\n",
    "plot3Dtraces(tracker_ref_data,\n",
    "               ['Ideal bunch-by-slice\\nfeedback'], bunches = 130,first_turn=0)\n",
    "\n",
    "plot3Dtraces(tracker_detailed,\n",
    "               ['Minimal model'], bunches = [100,120,203])"
   ]
  },
  {
   "cell_type": "code",
   "execution_count": null,
   "metadata": {
    "collapsed": true
   },
   "outputs": [],
   "source": []
  }
 ],
 "metadata": {
  "kernelspec": {
   "display_name": "Python 2",
   "language": "python",
   "name": "python2"
  },
  "language_info": {
   "codemirror_mode": {
    "name": "ipython",
    "version": 2
   },
   "file_extension": ".py",
   "mimetype": "text/x-python",
   "name": "python",
   "nbconvert_exporter": "python",
   "pygments_lexer": "ipython2",
   "version": "2.7.14"
  }
 },
 "nbformat": 4,
 "nbformat_minor": 1
}
