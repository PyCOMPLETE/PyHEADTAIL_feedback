{
 "cells": [
  {
   "cell_type": "code",
   "execution_count": null,
   "metadata": {
    "collapsed": false,
    "deletable": true,
    "editable": true
   },
   "outputs": [],
   "source": [
    "from __future__ import unicode_literals\n",
    "\n",
    "import sys, os\n",
    "BIN = os.path.expanduser(\"../../../\")\n",
    "sys.path.append(BIN)\n",
    "\n",
    "import numpy as np\n",
    "from scipy.constants import m_p, c, e\n",
    "import matplotlib.pyplot as plt\n",
    "%matplotlib inline\n",
    "\n",
    "import copy\n",
    "import itertools\n",
    "\n",
    "from test_tools import Machine, generate_objects, BunchTracker, track, compare_traces, compare_projections\n",
    "from test_tools import particle_position_difference, trace_difference\n",
    "\n",
    "from PyHEADTAIL.feedback.feedback import IdealBunchFeedback,IdealSliceFeedback,OneboxFeedback\n",
    "from PyHEADTAIL.feedback.processors.multiplication import ChargeWeighter\n",
    "from PyHEADTAIL.feedback.processors.linear_transform import Averager\n",
    "from PyHEADTAIL.feedback.processors.misc import Bypass\n",
    "\n",
    "np.random.seed(0)"
   ]
  },
  {
   "cell_type": "markdown",
   "metadata": {},
   "source": [
    "# PyHEADTAIL feedback module\n",
    "\n",
    "This series of tests/examples shows how to include models of transverse feedback systems to PyHEADTAIL simulations. It is assumed that the user knows basics of PyHEADTAIL, i.e. how to construct and track beam and what is one_turn_map. Thus, these tests focus on building different models of transverse feedback systems to the one turn map and testing them.\n",
    "\n",
    "In order to avoid writing unnecessary code here, the bunch, slicer and transfer maps are created by using functions and classes in the file 'test_tools.py' of this folder."
   ]
  },
  {
   "cell_type": "markdown",
   "metadata": {},
   "source": [
    "## 001 ideal feedbacks\n",
    "This test tests and demonstrates ideal models for a feedback system.\n",
    "\n",
    "### Basic parameters and elements for the simulations"
   ]
  },
  {
   "cell_type": "code",
   "execution_count": null,
   "metadata": {
    "collapsed": false,
    "deletable": true,
    "editable": true
   },
   "outputs": [],
   "source": [
    "n_macroparticles = 10000\n",
    "n_slices = 20\n",
    "n_segments = 5\n",
    "n_sigma_z = 3\n",
    "# n_sigma_z = 6\n",
    "\n",
    "n_turns = 150\n",
    "\n",
    "# Longitudinal motion of the bunch is not taken into account by default, but it can be included by uncommenting\n",
    "# the line below\n",
    "machine = Machine(n_segments= n_segments)\n",
    "# machine = Machine(Q_s = 0.0020443)\n",
    "\n",
    "bunch_ref, slicer_ref,trans_map, long_map = generate_objects(machine, n_macroparticles, n_slices,n_sigma_z)"
   ]
  },
  {
   "cell_type": "markdown",
   "metadata": {},
   "source": [
    "### Initial bunch kick\n",
    "Creates an artificially (slice-by-slice) kicked bunch, which will be damped by using different feedback systems. "
   ]
  },
  {
   "cell_type": "code",
   "execution_count": null,
   "metadata": {
    "collapsed": false,
    "deletable": true,
    "editable": true
   },
   "outputs": [],
   "source": [
    "slice_set = bunch_ref.get_slices(slicer_ref, statistics=True)\n",
    "p_idx = slice_set.particles_within_cuts\n",
    "s_idx = slice_set.slice_index_of_particle.take(p_idx)\n",
    "\n",
    "# Random slice kicks\n",
    "kick_x = 0.003*(-1.0+2*np.random.rand(n_slices))\n",
    "kick_y = 0.003*(-1.0+2*np.random.rand(n_slices))\n",
    "\n",
    "for p_id, s_id in itertools.izip(p_idx,s_idx):\n",
    "    bunch_ref.x[p_id] += kick_x[s_id]\n",
    "    bunch_ref.y[p_id] += kick_y[s_id]\n",
    "\n",
    "# A bunch kick\n",
    "# kick_x = 0.003*np.ones(n_slices)\n",
    "# kick_y = 0.003*np.ones(n_slices)"
   ]
  },
  {
   "cell_type": "markdown",
   "metadata": {},
   "source": [
    "Tracks the kicked bunch without damper as reference data"
   ]
  },
  {
   "cell_type": "code",
   "execution_count": null,
   "metadata": {
    "collapsed": false
   },
   "outputs": [],
   "source": [
    "bunch_init = copy.deepcopy(bunch_ref)\n",
    "\n",
    "# tracker is an object which stores turn-by-turn data from the tracked bunch\n",
    "tracker_ref = BunchTracker(bunch_init)\n",
    "\n",
    "one_turn_map = [i for i in trans_map] #+ [long_map]\n",
    "\n",
    "# function track \n",
    "track(n_turns, bunch_init,one_turn_map,tracker_ref)"
   ]
  },
  {
   "cell_type": "markdown",
   "metadata": {},
   "source": [
    "### Feedback settings\n",
    "The definition of *gain* is that it is a fraction of the measured (pass band) oscillations corrected per turn. Because each axis of the beam is a 2D object (x and x' coordinates) and the damper affects only one plane at a time, the damping time $\\tau_d$ in turns is\n",
    "    \n",
    "$\\tau_d = \\frac{2}{gain}$\n",
    "\n",
    "There are two ways to set a gain value. If only one value is given, the same value is used both in horizontal and vertical planes. If two values are given (gain_x, gain_y), separate values are used for horizontal and\n",
    "vertical planes."
   ]
  },
  {
   "cell_type": "code",
   "execution_count": null,
   "metadata": {
    "collapsed": false,
    "deletable": true,
    "editable": true
   },
   "outputs": [],
   "source": [
    "feedback_gain = 0.1\n",
    "# feedback_gain = (0.1,0.4)"
   ]
  },
  {
   "cell_type": "markdown",
   "metadata": {},
   "source": [
    "### Ideal reference implementations\n",
    "\n",
    "Ideal feedbacks for a bunch-by-bunch feedback and a slice-by-slice feedback are implemented separately in order to test the actual framework. Reference data from these separate implementations are calculated here"
   ]
  },
  {
   "cell_type": "code",
   "execution_count": null,
   "metadata": {
    "collapsed": false,
    "deletable": true,
    "editable": true
   },
   "outputs": [],
   "source": [
    "# The bunch is created by copying the bunch created earlier\n",
    "bunch_IdealBunchFB = copy.deepcopy(bunch_ref)\n",
    "tracker_IdealBunchFB = BunchTracker(bunch_IdealBunchFB)\n",
    "\n",
    "feedback_map = IdealBunchFeedback(feedback_gain)\n",
    "one_turn_map = [i for i in trans_map] + [feedback_map]#  + [long_map]\n",
    "track(n_turns, bunch_IdealBunchFB, one_turn_map, tracker_IdealBunchFB)\n",
    "\n",
    "\n",
    "bunch_IdealSliceFB = copy.deepcopy(bunch_ref)\n",
    "tracker_IdealSliceFB = BunchTracker(bunch_IdealSliceFB)\n",
    "slicer_IdealSliceFB = copy.deepcopy(slicer_ref)\n",
    "feedback_map = IdealSliceFeedback(feedback_gain,slicer_IdealSliceFB)\n",
    "one_turn_map = [i for i in trans_map] + [feedback_map]#  + [long_map]\n",
    "track(n_turns, bunch_IdealSliceFB, one_turn_map, tracker_IdealSliceFB)"
   ]
  },
  {
   "cell_type": "markdown",
   "metadata": {
    "collapsed": false,
    "deletable": true,
    "editable": true
   },
   "source": [
    "### OneboxFeedback\n",
    "The feedback framework allows accurate implementations of transverse feedback systems, i.e. an arbitrary number of pickups and kickers can be added to the one turn map and signal processing from pickups to kickers can be modeled with all the details. However, if all the details are taken into account the model soon becomes complex and messy. Thus, we start with a simple example, where a pickup and a kicker are located in the same location of the one turn map. This is a rather good approximation because in most of the cases the betatron phase advance between a pickup and a kicker can be corrected well in feedback systems.\n",
    "\n",
    "When a pickup and a kicker locate in the same place, a feedback object for the one turn map can be created by using OneboxFeedback(...). At first OneboxFeedback reads x' (or x if chosen) values of the bunch, which is an input signal for the actual signal processing model.  Then the signal is processed by passing it through a given list of signal\n",
    "processors, which is the model for the feedback system.  Each signal processor in the list represents an elementary analog or digital signal processing step. Finally, the processed signal is multiplied by the gain value, which gives corrections to the x' (or x if chosen) values.\n",
    "\n",
    "By default, OneboxFeedback reads and corrects x' coordinates, but the pickup and kicker axes can be chosen by giving *'divergence'* or *'displacement'* to the input parameters, namely *pickup_axis* and *kicker_axis*. Note that if *pickup_axis* and *kicker_axis* have different values, the beta function values at the OneboxFeedback location must be given also as an input parameter. In most of the cases, the choice of the axis does not affect results.\n"
   ]
  },
  {
   "cell_type": "markdown",
   "metadata": {},
   "source": [
    "#### Ideal slice-by-slice feedback\n",
    "\n",
    "The simples feedback to implement is an ideal slice-by-slice feedback, which, correct ideally intra bunch oscillations. It takes *x'* and *y'* values of the PyHEADTAIL slices and correct them instantly by the fraction of the gain. Because in this case signal is not modified by the signal processors, the signal processor lists contain only a Bypass processor. "
   ]
  },
  {
   "cell_type": "code",
   "execution_count": null,
   "metadata": {
    "collapsed": false,
    "deletable": true,
    "editable": true
   },
   "outputs": [],
   "source": [
    "bunch_Onebox_slice = copy.deepcopy(bunch_ref)\n",
    "tracker_Onebox_slice = BunchTracker(bunch_Onebox_slice)\n",
    "slicer_Onebox_slice = copy.deepcopy(slicer_ref)\n",
    "\n",
    "processors_slice_x = [Bypass()]\n",
    "processors_slice_y = [Bypass()]\n",
    "\n",
    "feedback_map = OneboxFeedback(feedback_gain,slicer_Onebox_slice,processors_slice_x,processors_slice_y)\n",
    "one_turn_map = [i for i in trans_map] + [feedback_map] # + [long_map]\n",
    "track(n_turns, bunch_Onebox_slice,one_turn_map,tracker_Onebox_slice)"
   ]
  },
  {
   "cell_type": "markdown",
   "metadata": {},
   "source": [
    "#### Ideal bunch-by-bunch feedback\n",
    "The ideal bunch-by-bunch feedback corrects the mean x' and y' values of the bunch by the fraction of the gain. The mean x' and y' values for the bunch can be calculated from the slice data (which is the input data for the signal processors) by at first charge (i.e. macro particle) weighting the slice values and then calculating an average over all the values. This can be implemented by using a ChargeWeighter and an Averager signal processors. The default normalization for the ChargeWeighter is that maximum value of the weight is normalized to one, but here we want that an average slice weight is normalized to one (i.e. *'segment_average'*-option)."
   ]
  },
  {
   "cell_type": "code",
   "execution_count": null,
   "metadata": {
    "collapsed": false,
    "deletable": true,
    "editable": true
   },
   "outputs": [],
   "source": [
    "bunch_Onebox_bunch = copy.deepcopy(bunch_ref)\n",
    "tracker_Onebox_bunch = BunchTracker(bunch_Onebox_bunch)\n",
    "slicer_Onebox_bunch = copy.deepcopy(slicer_ref)\n",
    "\n",
    "processors_bunch_x = [\n",
    "    ChargeWeighter(normalization = 'segment_average'),\n",
    "    Averager()\n",
    "]\n",
    "processors_bunch_y = [\n",
    "    ChargeWeighter(normalization = 'segment_average'),\n",
    "    Averager()\n",
    "]\n",
    "\n",
    "feedback_map = OneboxFeedback(feedback_gain,slicer_Onebox_bunch,processors_bunch_x,processors_bunch_y,\n",
    "                              pickup_axis='displacement')\n",
    "one_turn_map = [i for i in trans_map] + [feedback_map] #  + [long_map]\n",
    "track(n_turns, bunch_Onebox_bunch,one_turn_map,tracker_Onebox_bunch)"
   ]
  },
  {
   "cell_type": "markdown",
   "metadata": {},
   "source": [
    "### Results comparison\n",
    "\n",
    "#### Slice-by-slice feedback"
   ]
  },
  {
   "cell_type": "code",
   "execution_count": null,
   "metadata": {
    "collapsed": false,
    "deletable": true,
    "editable": true,
    "scrolled": false
   },
   "outputs": [],
   "source": [
    "compare_traces([tracker_ref,tracker_IdealSliceFB,tracker_Onebox_slice],\n",
    "               ['Without feedback', 'Reference implementation', 'Onebox feedback'])\n",
    "compare_projections([bunch_init, bunch_IdealSliceFB, bunch_Onebox_slice], \n",
    "                    ['Without feedback', 'Reference implementation', 'Onebox feedback'])\n",
    "print ''\n",
    "print 'Note that the following values depend on the width of the slicing window (sigma_z for the slicer)!'\n",
    "particle_position_difference(bunch_IdealSliceFB, bunch_Onebox_slice)\n",
    "trace_difference(tracker_IdealSliceFB,tracker_Onebox_slice)"
   ]
  },
  {
   "cell_type": "markdown",
   "metadata": {},
   "source": [
    "#### Bunch-by-bunch feedback"
   ]
  },
  {
   "cell_type": "code",
   "execution_count": null,
   "metadata": {
    "collapsed": false,
    "deletable": true,
    "editable": true,
    "scrolled": false
   },
   "outputs": [],
   "source": [
    "compare_traces([tracker_ref,tracker_IdealBunchFB, tracker_Onebox_bunch],\n",
    "               ['Without feedback', 'Reference implementation', 'Onebox feedback'])\n",
    "compare_projections([bunch_init,bunch_IdealBunchFB, bunch_Onebox_bunch], \n",
    "                    ['Without feedback', 'Reference implementation', 'Onebox feedback'])\n",
    "print ''\n",
    "print 'Note that the following depend on the width of the slicing window (sigma_z for the slicer)!'\n",
    "particle_position_difference(bunch_IdealBunchFB, bunch_Onebox_bunch)\n",
    "trace_difference(tracker_IdealBunchFB, tracker_Onebox_bunch)"
   ]
  },
  {
   "cell_type": "markdown",
   "metadata": {
    "collapsed": true,
    "deletable": true,
    "editable": true
   },
   "source": [
    "Jani Komppula, CERN, 2017"
   ]
  },
  {
   "cell_type": "code",
   "execution_count": null,
   "metadata": {
    "collapsed": true,
    "deletable": true,
    "editable": true
   },
   "outputs": [],
   "source": []
  },
  {
   "cell_type": "code",
   "execution_count": null,
   "metadata": {
    "collapsed": true
   },
   "outputs": [],
   "source": []
  }
 ],
 "metadata": {
  "kernelspec": {
   "display_name": "Python 2",
   "language": "python",
   "name": "python2"
  },
  "language_info": {
   "codemirror_mode": {
    "name": "ipython",
    "version": 2
   },
   "file_extension": ".py",
   "mimetype": "text/x-python",
   "name": "python",
   "nbconvert_exporter": "python",
   "pygments_lexer": "ipython2",
   "version": "2.7.14"
  }
 },
 "nbformat": 4,
 "nbformat_minor": 1
}
