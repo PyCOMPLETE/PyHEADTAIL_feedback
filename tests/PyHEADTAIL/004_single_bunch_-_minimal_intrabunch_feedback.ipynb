{
 "cells": [
  {
   "cell_type": "code",
   "execution_count": null,
   "metadata": {
    "collapsed": false,
    "deletable": true,
    "editable": true
   },
   "outputs": [],
   "source": [
    "from __future__ import unicode_literals\n",
    "\n",
    "import sys, os\n",
    "BIN = os.path.expanduser(\"../../../\")\n",
    "sys.path.append(BIN)\n",
    "\n",
    "import numpy as np\n",
    "from scipy.constants import m_p, c, e, pi\n",
    "import matplotlib.pyplot as plt\n",
    "%matplotlib inline\n",
    "\n",
    "import copy\n",
    "import itertools\n",
    "\n",
    "from test_tools import Machine, generate_objects, BunchTracker, track, compare_traces\n",
    "from test_tools import compare_projections, plot_debug_data\n",
    "\n",
    "from PyHEADTAIL_feedback.feedback import OneboxFeedback, Kicker, PickUp\n",
    "from PyHEADTAIL_feedback.processors.multiplication import ChargeWeighter\n",
    "from PyHEADTAIL_feedback.processors.linear_transform import Averager\n",
    "from PyHEADTAIL_feedback.processors.misc import Bypass\n",
    "from PyHEADTAIL_feedback.processors.register import Register, TurnDelay\n",
    "from PyHEADTAIL_feedback.processors.convolution import Lowpass, Gaussian, FIRFilter\n",
    "from PyHEADTAIL_feedback.processors.addition import NoiseGenerator\n",
    "np.random.seed(0)"
   ]
  },
  {
   "cell_type": "markdown",
   "metadata": {
    "collapsed": false,
    "deletable": true,
    "editable": true
   },
   "source": [
    "# 004 Minimal intrabunch feedback model\n",
    "\n",
    "In this test/example, a minimal model for an intrabunch feedback system is used.\n",
    "\n",
    "## Basic parameters and elements for the simulations"
   ]
  },
  {
   "cell_type": "code",
   "execution_count": null,
   "metadata": {
    "collapsed": false,
    "deletable": true,
    "editable": true
   },
   "outputs": [],
   "source": [
    "n_macroparticles = 100000\n",
    "n_slices = 50\n",
    "n_segments = 5\n",
    "n_sigma_z = 3\n",
    "# n_sigma_z = 6\n",
    "\n",
    "n_turns = 100\n",
    "\n",
    "# Longitudinal motion of the bunch is not taken into account by default, but it can be included by uncommenting\n",
    "# the line below\n",
    "machine = Machine(n_segments= n_segments)\n",
    "# machine = Machine(Q_s = 0.0020443)\n",
    "\n",
    "bunch_ref, slicer_ref,trans_map, long_map = generate_objects(machine, n_macroparticles, n_slices,n_sigma_z)"
   ]
  },
  {
   "cell_type": "markdown",
   "metadata": {},
   "source": [
    "## Initial bunch kick\n",
    "Creates an artificially (slice-by-slice) kicked bunch, which will be damped by using different feedback implementations. "
   ]
  },
  {
   "cell_type": "code",
   "execution_count": null,
   "metadata": {
    "collapsed": false,
    "deletable": true,
    "editable": true
   },
   "outputs": [],
   "source": [
    "N_knots = 4\n",
    "amplitude = 1e-3 # [m]\n",
    "\n",
    "temp_bunch = copy.deepcopy(bunch_ref)\n",
    "temp_slicer = copy.deepcopy(slicer_ref)\n",
    "slice_set = temp_bunch.get_slices(temp_slicer)\n",
    "\n",
    "slicing_length = slice_set.z_bins[-1]-slice_set.z_bins[0]\n",
    "wavelength = slicing_length/((N_knots+1.)/2.)\n",
    "print 'slicing_length: ' + str(slicing_length)\n",
    "print 'slicing_length in time: ' + str(slicing_length/c)\n",
    "\n",
    "bunch_ref.x += amplitude*np.sin(2*np.pi*(bunch_ref.z-slice_set.z_bins[0])/wavelength)\n",
    "bunch_ref.y += amplitude*np.sin(2*np.pi*(bunch_ref.z-slice_set.z_bins[0])/wavelength)"
   ]
  },
  {
   "cell_type": "markdown",
   "metadata": {},
   "source": [
    "## Feedback settings"
   ]
  },
  {
   "cell_type": "code",
   "execution_count": null,
   "metadata": {
    "collapsed": false,
    "deletable": true,
    "editable": true
   },
   "outputs": [],
   "source": [
    "feedback_gain = 0.1\n",
    "# feedback_gain = (0.1,0.4)\n",
    "\n",
    "# delay (a number of turns) before the pickup signal is used to the correction kick calculations.\n",
    "delay = 1\n",
    "\n",
    "# a number of values used to calculate the correct signal\n",
    "n_values = 2\n",
    "\n",
    "RMS_noise_level = 1e-6\n",
    "\n",
    "# the cut off frequency of the bandwidth limitation\n",
    "fc=1e10 "
   ]
  },
  {
   "cell_type": "markdown",
   "metadata": {
    "collapsed": true,
    "deletable": true,
    "editable": true
   },
   "source": [
    "## Reference data\n",
    "Tracks a bunch by using a charge weighted version of the ideal slice-by-slice feedback system presented in the first test (001_ideal_feedbacks.ipynb). The data are used as a reference data for the minimal intra bunch feedback model. "
   ]
  },
  {
   "cell_type": "code",
   "execution_count": null,
   "metadata": {
    "collapsed": false,
    "deletable": true,
    "editable": true
   },
   "outputs": [],
   "source": [
    "# A reference feedback system, which is originally introduced in the file 001_ideal_feedbacks.ipynb:\n",
    "\n",
    "bunch_ref_data = copy.deepcopy(bunch_ref)\n",
    "tracker_ref_data = BunchTracker(bunch_ref_data)\n",
    "slicer_ref_data = copy.deepcopy(slicer_ref)\n",
    "\n",
    "processors_bunch_x = [\n",
    "    ChargeWeighter()\n",
    "]\n",
    "processors_bunch_y = [\n",
    "    ChargeWeighter()\n",
    "]\n",
    "\n",
    "feedback_map = OneboxFeedback(feedback_gain,slicer_ref_data,processors_bunch_x,processors_bunch_y)\n",
    "one_turn_map = [i for i in trans_map] + [feedback_map] + [long_map]\n",
    "\n",
    "track(n_turns, bunch_ref_data ,one_turn_map,tracker_ref_data)"
   ]
  },
  {
   "cell_type": "markdown",
   "metadata": {},
   "source": [
    "## Minimal feedback model\n",
    "The minimal feedback model includes the main elements of the feedback system, which might limit performance. Items for this model have chosen such a way that the modeled system should, in principle,  be possible to be built in real-life and any element of the model cause minimal disturbances and artifacts to simulation results. It is worth noting that the performance of the feedback system depends strongly on the details of the model.\n",
    "\n",
    "The following signal processors have been chosen to the minimal model:\n",
    "\n",
    " * **Bypass(...)** - for monitoring the input signal\n",
    " \n",
    " * **ChargeWeighter(...)** - it was found that the charge weighted signal (i.e. 𝛥-signal from the pickup plate) is more stable in the simulations than the pure displacement signal (i.e. 𝛥/𝛴-signal from the pickup plates). This is because the stronger oscillations on the head/tail of the bunch together with the limited bandwidth might cause artificially strong kicks to the main, center, part of the bunch leading to instability growth if the \"𝛥/𝛴-signal\" is used. Note that the weighting is normalized to be one to the maximum charge, i.e. damping on the head/tail is reduced.\n",
    " \n",
    " * **Noise(...)** - Often it is argued that the pickup noise is the main noise source. In that case, noise must be added before the bandwidth limitation, which is often set by the used power amplifier and/or the kicker structure\n",
    " \n",
    " * **Gaussian(...)** - There are many ways to limit bandwidth, but a Gaussian filter is chosen for the minimal model.  The reasons for that are that, in principle, the frequency responses of the real systems can often be modified into Gaussian shape and a Gaussian filter is straightforward to the treat both in a time domain and in a frequency domain. It is worth noting that simulations results depend strongly on the chosen model for the bandwidth limitation. It is also important to keep in mind that the impulse response of the filter must be smooth in order to get reasonable results, e.g. the sharp peaks in the impulse responses of an RC filter and a phase linearized low pass filter cause of unrealistically good damping if a second cutoff frequency (smoothing) is not set correctly.\n",
    " \n",
    " * **TurnDelay(...)** - One turn delay between the pickup readings and the correction kicks can be implemented by using a *TurnDelay(...)*. The default correction algorithm is based on vector sum, which works well and can be also implemented in real systems. The correction algorithm type can be chosen the *combiner* parameter or giving FIR filter coefficients manually using a *TurnFIRFilter*-object."
   ]
  },
  {
   "cell_type": "code",
   "execution_count": null,
   "metadata": {
    "collapsed": false,
    "deletable": true,
    "editable": true
   },
   "outputs": [],
   "source": [
    "bunch_minimal = copy.deepcopy(bunch_ref)\n",
    "tracker_minimal = BunchTracker(bunch_minimal)\n",
    "slicer_minimal = copy.deepcopy(slicer_ref)\n",
    "\n",
    "processors_minimal_x = [\n",
    "        Bypass(debug=True),\n",
    "        ChargeWeighter(debug=True),\n",
    "        NoiseGenerator(RMS_noise_level, debug=True),\n",
    "        Gaussian(fc,debug=True),\n",
    "        TurnDelay(delay, machine.Q_x, n_values,debug=True)\n",
    "]\n",
    "\n",
    "processors_minimal_y = [\n",
    "        Bypass(),\n",
    "        ChargeWeighter(),\n",
    "        NoiseGenerator(RMS_noise_level),\n",
    "        Gaussian(fc),\n",
    "        TurnDelay(delay, machine.Q_x, n_values)\n",
    "]\n",
    "\n",
    "\n",
    "feedback_map = OneboxFeedback(feedback_gain,slicer_minimal,\n",
    "                              processors_minimal_x, processors_minimal_y, mpi = True)\n",
    "one_turn_map = [feedback_map] + [i for i in trans_map] # + [long_map]\n",
    "\n",
    "track(n_turns, bunch_minimal,one_turn_map,tracker_minimal)\n",
    "plot_debug_data(processors_minimal_x, source = 'output')"
   ]
  },
  {
   "cell_type": "markdown",
   "metadata": {
    "collapsed": true,
    "deletable": true,
    "editable": true
   },
   "source": [
    "## Results comparison"
   ]
  },
  {
   "cell_type": "code",
   "execution_count": null,
   "metadata": {
    "collapsed": false,
    "deletable": true,
    "editable": true
   },
   "outputs": [],
   "source": [
    "compare_traces([tracker_ref_data,tracker_minimal],\n",
    "               ['Charge weighter ideal\\nslice-by-slice feedback', 'Minimal model'])\n",
    "compare_projections([ bunch_ref_data, bunch_minimal], \n",
    "               ['Charge weighter ideal\\nslice-by-slice feedback', 'Minimal model'])"
   ]
  },
  {
   "cell_type": "markdown",
   "metadata": {
    "collapsed": true,
    "deletable": true,
    "editable": true
   },
   "source": [
    "Jani Komppula, CERN, 2017"
   ]
  }
 ],
 "metadata": {
  "kernelspec": {
   "display_name": "Python 2",
   "language": "python",
   "name": "python2"
  },
  "language_info": {
   "codemirror_mode": {
    "name": "ipython",
    "version": 2
   },
   "file_extension": ".py",
   "mimetype": "text/x-python",
   "name": "python",
   "nbconvert_exporter": "python",
   "pygments_lexer": "ipython2",
   "version": "2.7.14"
  }
 },
 "nbformat": 4,
 "nbformat_minor": 1
}
