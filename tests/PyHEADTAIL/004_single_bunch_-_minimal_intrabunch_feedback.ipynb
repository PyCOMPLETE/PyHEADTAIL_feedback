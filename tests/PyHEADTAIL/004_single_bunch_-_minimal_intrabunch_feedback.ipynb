{
 "cells": [
  {
   "cell_type": "code",
   "execution_count": null,
   "metadata": {
    "collapsed": false,
    "deletable": true,
    "editable": true
   },
   "outputs": [],
   "source": [
    "from __future__ import unicode_literals\n",
    "\n",
    "import sys, os\n",
    "BIN = os.path.expanduser(\"../../../\")\n",
    "sys.path.append(BIN)\n",
    "\n",
    "import numpy as np\n",
    "from scipy.constants import m_p, c, e, pi\n",
    "import matplotlib.pyplot as plt\n",
    "%matplotlib inline\n",
    "\n",
    "import copy\n",
    "import itertools\n",
    "\n",
    "from test_tools import Machine, generate_objects, BunchTracker, track, compare_traces\n",
    "from test_tools import compare_projections, plot_debug_data\n",
    "\n",
    "from PyHEADTAIL_feedback.feedback import OneboxFeedback, Kicker, PickUp\n",
    "from PyHEADTAIL_feedback.processors.multiplication import ChargeWeighter\n",
    "from PyHEADTAIL_feedback.processors.linear_transform import Averager\n",
    "from PyHEADTAIL_feedback.processors.misc import Bypass\n",
    "from PyHEADTAIL_feedback.processors.register import Register, TurnDelay\n",
    "from PyHEADTAIL_feedback.processors.convolution import Lowpass, Gaussian, FIRFilter\n",
    "from PyHEADTAIL_feedback.processors.resampling import DAC, ADC\n",
    "np.random.seed(0)"
   ]
  },
  {
   "cell_type": "code",
   "execution_count": null,
   "metadata": {
    "collapsed": false,
    "deletable": true,
    "editable": true
   },
   "outputs": [],
   "source": [
    "\"\"\" \n",
    "    This test demonstrates how semi-realistic bunch by bunc feedback system can be implemented\n",
    "\"\"\""
   ]
  },
  {
   "cell_type": "code",
   "execution_count": null,
   "metadata": {
    "collapsed": false,
    "deletable": true,
    "editable": true
   },
   "outputs": [],
   "source": [
    "# Basic parameters for the simulation\n",
    "n_macroparticles = 100000\n",
    "n_slices = 50\n",
    "n_segments = 5\n",
    "n_sigma_z = 4\n",
    "\n",
    "# Longitudinal motion of the bunch is not taken into account in this example.\n",
    "machine = Machine(n_segments= n_segments)\n",
    "Q_x = machine.accQ_x\n",
    "Q_y = machine.accQ_y\n",
    "\n",
    "circumference = machine.circumference\n",
    "h_RF = machine.h_RF\n",
    "\n",
    "bunch_ref, slicer_ref,trans_map, long_map = generate_objects(machine, n_macroparticles, \n",
    "                                                             n_slices,n_sigma_z)\n"
   ]
  },
  {
   "cell_type": "code",
   "execution_count": null,
   "metadata": {
    "collapsed": false,
    "deletable": true,
    "editable": true
   },
   "outputs": [],
   "source": [
    "# General feedback parameters\n",
    "feedback_gain = 0.1\n",
    "# feedback_gain = (0.1,0.4)\n",
    "\n",
    "# Parameters for the registers\n",
    "delay = 1 \n",
    "n_values = 2\n",
    "\n",
    "# A number of turns to be tracked\n",
    "n_turns = 3\n",
    "\n",
    "\n",
    "# feedback settings\n",
    "fc=1e10 # The cut off frequency of the power amplifier\n"
   ]
  },
  {
   "cell_type": "code",
   "execution_count": null,
   "metadata": {
    "collapsed": false,
    "deletable": true,
    "editable": true
   },
   "outputs": [],
   "source": [
    "oscillation_lambda = 0.04 # [m]\n",
    "oscillation_amplitide = 1e-3 # [m]\n",
    "\n",
    "map_min = (bunch_ref.z > -80)\n",
    "map_max = (bunch_ref.z < -40)\n",
    "map_total = map_min*map_max\n",
    "\n",
    "# bunch_ref.x[map_total] = bunch_ref.x[map_total]+1e-3\n",
    "# bunch_ref.y[map_total] = bunch_ref.y[map_total]+1e-3\n",
    "\n",
    "# bunch_ref.x += oscillation_amplitide*np.sin(2*np.pi*bunch_ref.z/oscillation_lambda)\n",
    "# bunch_ref.y += oscillation_amplitide*np.sin(2*np.pi*bunch_ref.z/oscillation_lambda)\n",
    "bunch_ref.x += oscillation_amplitide*np.cos(2*np.pi*bunch_ref.z/oscillation_lambda)\n",
    "bunch_ref.y += oscillation_amplitide*np.cos(2*np.pi*bunch_ref.z/oscillation_lambda)\n",
    "    \n",
    "bunch_init = copy.deepcopy(bunch_ref)\n",
    "tracker_ref = BunchTracker(bunch_init)\n",
    "maps_ref = [i for i in trans_map]\n",
    "# + [long_map]\n",
    "track(n_turns, bunch_init,maps_ref,tracker_ref)"
   ]
  },
  {
   "cell_type": "code",
   "execution_count": null,
   "metadata": {
    "collapsed": true,
    "deletable": true,
    "editable": true
   },
   "outputs": [],
   "source": []
  },
  {
   "cell_type": "code",
   "execution_count": null,
   "metadata": {
    "collapsed": false,
    "deletable": true,
    "editable": true
   },
   "outputs": [],
   "source": [
    "# A reference feedback system, which is originally introduced in the file 001_ideal_feedbacks.ipynb:\n",
    "\n",
    "bunch_OneBox_bunch = copy.deepcopy(bunch_ref)\n",
    "tracker_OneBox_bunch = BunchTracker(bunch_OneBox_bunch)\n",
    "slicer_OneBox_bunch = copy.deepcopy(slicer_ref)\n",
    "\n",
    "processors_bunch_x = [\n",
    "    ChargeWeighter(normalization = 'segment_average'),\n",
    "    Averager()\n",
    "]\n",
    "processors_bunch_y = [\n",
    "    ChargeWeighter(normalization = 'segment_average'),\n",
    "    Averager()\n",
    "]\n",
    "\n",
    "feedback_map = OneboxFeedback(feedback_gain,slicer_OneBox_bunch,processors_bunch_x,processors_bunch_y)\n",
    "total_map_OneBox_bunch = [i for i in trans_map] + [feedback_map]\n",
    "#  + [long_map]\n",
    "\n",
    "track(n_turns, bunch_OneBox_bunch,total_map_OneBox_bunch,tracker_OneBox_bunch)"
   ]
  },
  {
   "cell_type": "code",
   "execution_count": null,
   "metadata": {
    "collapsed": false,
    "deletable": true,
    "editable": true
   },
   "outputs": [],
   "source": [
    "# In this test, the ideal BPM signal is digitized by using one sample per bunch\n",
    "# Then the signal is delayed one turn and betatron phase correction is applied by \n",
    "# using a vector sum algorithm. After the DAC the bandwidth is limited by using\n",
    "# a Gaussian filter\n",
    "\n",
    "bunch_built_in = copy.deepcopy(bunch_ref)\n",
    "tracker_built_in = BunchTracker(bunch_built_in)\n",
    "slicer_built_in = copy.deepcopy(slicer_ref)\n",
    "\n",
    "processors_built_in_x = [\n",
    "        Bypass(),\n",
    "        ChargeWeighter(),\n",
    "        Gaussian(fc),\n",
    "        TurnDelay(delay, Q_x, n_values)\n",
    "    \n",
    "#         Bypass(debug=True),\n",
    "#         ChargeWeighter(debug=True),\n",
    "#         Gaussian(fc, debug=True),\n",
    "#         TurnDelay(delay, Q_x, n_values, debug=True)\n",
    "]\n",
    "\n",
    "processors_built_in_y = [\n",
    "        Bypass(),\n",
    "        ChargeWeighter(),\n",
    "        Gaussian(fc),\n",
    "        TurnDelay(delay, Q_y, n_values)\n",
    "    \n",
    "#         Bypass(debug=True),\n",
    "#         ChargeWeighter(debug=True),\n",
    "#         Gaussian(fc, debug=True),\n",
    "#         TurnDelay(delay, Q_y, n_values, debug=True),\n",
    "]\n",
    "\n",
    "\n",
    "feedback_map = OneboxFeedback(feedback_gain,slicer_built_in,\n",
    "                              processors_built_in_x, processors_built_in_y, mpi = True)\n",
    "total_map_built_in = [feedback_map] + [i for i in trans_map]\n",
    "#  + [long_map]\n",
    "\n",
    "track(n_turns, bunch_built_in,total_map_built_in,tracker_built_in)\n",
    "plot_debug_data(processors_built_in_x, source = 'output')"
   ]
  },
  {
   "cell_type": "code",
   "execution_count": null,
   "metadata": {
    "collapsed": true,
    "deletable": true,
    "editable": true
   },
   "outputs": [],
   "source": []
  },
  {
   "cell_type": "code",
   "execution_count": null,
   "metadata": {
    "collapsed": true,
    "deletable": true,
    "editable": true
   },
   "outputs": [],
   "source": []
  },
  {
   "cell_type": "code",
   "execution_count": null,
   "metadata": {
    "collapsed": false,
    "deletable": true,
    "editable": true
   },
   "outputs": [],
   "source": [
    "# In here, the traces and the projections from different implementations of the feedback system are compared.\n",
    "# Note: the properties are calculated over all particles in all bunches\n",
    "# Note: the scale in the emittance figures\n",
    "\n",
    "compare_traces([tracker_OneBox_bunch,tracker_built_in,tracker_manual_FIR],\n",
    "               ['Ideal', 'Built in function', 'Manual FIR filters'])\n",
    "compare_projections([ bunch_OneBox_bunch,  bunch_built_in, bunch_manual_FIR], \n",
    "                    ['Ideal', 'Built in function', 'Manual FIR filters'])\n",
    "\n",
    "# compare_traces([tracker_OneBox_bunch,tracker_register_example],\n",
    "#                ['Ideal', 'Delayed', 'Separated'])\n",
    "# compare_projections([ bunch_OneBox_bunch,  bunch_register_example], \n",
    "#                     ['Ideal', 'Delayed', 'Separated'])"
   ]
  },
  {
   "cell_type": "markdown",
   "metadata": {
    "collapsed": true,
    "deletable": true,
    "editable": true
   },
   "source": [
    "Jani Komppula, CERN, 2017"
   ]
  },
  {
   "cell_type": "code",
   "execution_count": null,
   "metadata": {
    "collapsed": true,
    "deletable": true,
    "editable": true
   },
   "outputs": [],
   "source": [
    "\n",
    "\n"
   ]
  }
 ],
 "metadata": {
  "kernelspec": {
   "display_name": "Python 2",
   "language": "python",
   "name": "python2"
  },
  "language_info": {
   "codemirror_mode": {
    "name": "ipython",
    "version": 2
   },
   "file_extension": ".py",
   "mimetype": "text/x-python",
   "name": "python",
   "nbconvert_exporter": "python",
   "pygments_lexer": "ipython2",
   "version": "2.7.13"
  }
 },
 "nbformat": 4,
 "nbformat_minor": 1
}
