{
 "cells": [
  {
   "cell_type": "code",
   "execution_count": null,
   "metadata": {
    "collapsed": false,
    "deletable": true,
    "editable": true
   },
   "outputs": [],
   "source": [
    "from __future__ import unicode_literals\n",
    "\n",
    "import sys, os\n",
    "BIN = os.path.expanduser(\"../../../\")\n",
    "sys.path.append(BIN)\n",
    "\n",
    "import numpy as np\n",
    "from scipy.constants import m_p, c, e, pi\n",
    "import matplotlib.pyplot as plt\n",
    "%matplotlib inline\n",
    "\n",
    "import copy\n",
    "import itertools\n",
    "\n",
    "from test_tools import Machine, generate_objects, BunchTracker, track, compare_traces\n",
    "from test_tools import compare_beam_projections, plot_debug_data\n",
    "\n",
    "from PyHEADTAIL.feedback.feedback import OneboxFeedback, Kicker, PickUp\n",
    "from PyHEADTAIL.feedback.processors.multiplication import ChargeWeighter\n",
    "from PyHEADTAIL.feedback.processors.linear_transform import Averager\n",
    "from PyHEADTAIL.feedback.processors.misc import Bypass\n",
    "from PyHEADTAIL.feedback.processors.register import Register, TurnDelay\n",
    "from PyHEADTAIL.feedback.processors.convolution import Lowpass, Gaussian, FIRFilter\n",
    "from PyHEADTAIL.feedback.processors.addition import NoiseGenerator\n",
    "np.random.seed(0)"
   ]
  },
  {
   "cell_type": "markdown",
   "metadata": {
    "collapsed": false,
    "deletable": true,
    "editable": true
   },
   "source": [
    "# 007 Minimal bunch-by-bunch feedback model\n",
    "\n",
    "In this test/example, a minimal model for an intrabunch feedback system is used.\n",
    "\n",
    "## Basic parameters and elements for the simulations"
   ]
  },
  {
   "cell_type": "code",
   "execution_count": null,
   "metadata": {
    "collapsed": false,
    "deletable": true,
    "editable": true
   },
   "outputs": [],
   "source": [
    "%%capture\n",
    "\n",
    "n_macroparticles = 1000\n",
    "n_slices = 50\n",
    "n_segments = 5\n",
    "n_sigma_z = 3\n",
    "# n_sigma_z = 6\n",
    "\n",
    "n_turns = 100\n",
    "\n",
    "machine = Machine(n_segments= n_segments)\n",
    "\n",
    "# harmonic frequency of the bunches (f_RF/every_n_bucket_filled)\n",
    "f_harmonic = 1./(machine.circumference/c/(float(machine.h_RF)/10.))\n",
    "\n",
    "\n",
    "first_index = 10 #[buckets]\n",
    "batch_spacing = 1  #[buckets]\n",
    "n_batches = 2\n",
    "n_bunches_per_batch = 20\n",
    "bunch_spacing = 1 #[buckets]\n",
    "\n",
    "batch_separation = batch_spacing+n_bunches_per_batch* bunch_spacing\n",
    "\n",
    "filling_scheme = []\n",
    "for j in xrange(n_batches):\n",
    "    for i in xrange(n_bunches_per_batch):\n",
    "        filling_scheme.append(first_index + i * bunch_spacing + j*batch_separation)\n",
    "\n",
    "\n",
    "print filling_scheme\n",
    "\n",
    "beam_ref, slicer_ref,trans_map, long_map = generate_objects(machine, n_macroparticles, n_slices,n_sigma_z,\n",
    "                                                             filling_scheme=filling_scheme)"
   ]
  },
  {
   "cell_type": "code",
   "execution_count": null,
   "metadata": {
    "collapsed": false
   },
   "outputs": [],
   "source": [
    "print f_harmonic\n",
    "print('Number of bunches: ' + str(len(beam_ref.split())))"
   ]
  },
  {
   "cell_type": "markdown",
   "metadata": {},
   "source": [
    "## Initial bunch kick\n",
    "Creates an artificially kicked beam which will be damped by using different feedback implementations. "
   ]
  },
  {
   "cell_type": "code",
   "execution_count": null,
   "metadata": {
    "collapsed": false,
    "deletable": true,
    "editable": true
   },
   "outputs": [],
   "source": [
    "bunch_list = beam_ref.split()\n",
    "\n",
    "n_bunches = len(bunch_list)\n",
    "\n",
    "amplitude = 0.003\n",
    "f_osc = 1e6\n",
    "wavelength = 1./f_osc*c\n",
    "\n",
    "kick_x = 0.003*(-1.0+2*np.random.rand(n_bunches))\n",
    "kick_y = 0.003*(-1.0+2*np.random.rand(n_bunches))\n",
    "\n",
    "for i in xrange(n_bunches):\n",
    "    bunch_list[i].x = bunch_list[i].x + amplitude * np.sin(2. * np.pi * bunch_list[i].mean_z() / wavelength)\n",
    "    bunch_list[i].y = bunch_list[i].y + amplitude * np.sin(2. * np.pi * bunch_list[i].mean_z() / wavelength)\n",
    "\n",
    "beam_ref = sum(bunch_list)"
   ]
  },
  {
   "cell_type": "markdown",
   "metadata": {},
   "source": [
    "## Feedback settings"
   ]
  },
  {
   "cell_type": "code",
   "execution_count": null,
   "metadata": {
    "collapsed": false,
    "deletable": true,
    "editable": true
   },
   "outputs": [],
   "source": [
    "feedback_gain = 0.1\n",
    "# feedback_gain = (0.1,0.4)\n",
    "\n",
    "# delay (a number of turns) before the pickup signal is used to the correction kick calculations.\n",
    "delay = 1\n",
    "\n",
    "# a number of values used to calculate the correct signal\n",
    "n_values = 2\n",
    "\n",
    "RMS_noise_level = 1e-6\n",
    "\n",
    "# the cut off frequency of the bandwidth limitation\n",
    "fc=1e7 "
   ]
  },
  {
   "cell_type": "markdown",
   "metadata": {
    "collapsed": true,
    "deletable": true,
    "editable": true
   },
   "source": [
    "## Reference data\n",
    "Tracks a bunch by using an ideal bunch-by-bunch feedback presented in the first test (001_ideal_feedbacks.ipynb). The data is used as baseline data for the minimal feedback model. "
   ]
  },
  {
   "cell_type": "code",
   "execution_count": null,
   "metadata": {
    "collapsed": false,
    "deletable": true,
    "editable": true
   },
   "outputs": [],
   "source": [
    "beam_ref_data = copy.deepcopy(beam_ref)\n",
    "tracker_ref_data = BunchTracker(beam_ref_data)\n",
    "slicer_ref_data = copy.deepcopy(slicer_ref)\n",
    "\n",
    "processors_bunch_x = [\n",
    "    ChargeWeighter(normalization = 'segment_average'),\n",
    "    Averager()\n",
    "]\n",
    "processors_bunch_y = [\n",
    "    ChargeWeighter(normalization = 'segment_average'),\n",
    "    Averager()\n",
    "]\n",
    "\n",
    "feedback_map = OneboxFeedback(feedback_gain,slicer_ref_data,processors_bunch_x,processors_bunch_y, mpi=True)\n",
    "one_turn_map = [i for i in trans_map] + [feedback_map] #  + [long_map]\n",
    "\n",
    "track(n_turns, beam_ref_data,one_turn_map ,tracker_ref_data)"
   ]
  },
  {
   "cell_type": "markdown",
   "metadata": {},
   "source": [
    "## Minimal bunch-by-bunch feedback model\n",
    "The minimal feedback model includes the main elements of the feedback system, which might limit performance. Items for this model have chosen such a way that the modeled system should, in principle, be possible to be built in real-life and any element of the model cause minimal disturbances and artifacts to simulation results. It is worth noting that the performance of the feedback system depends strongly on the details of the model.\n",
    "\n",
    "The following signal processors have been chosen to the minimal model:\n",
    "\n",
    " * **Bypass()** - for monitoring the input signal\n",
    " \n",
    " * **ChargeWeighter(normalization='segment_average')** - Used for calculating an average bunch displacement from the slice data, i.e. input signal to the feedback is a perfect \"𝛥/𝛴-signal\" from a pickup\n",
    " \n",
    " * **Noise(...)** - It is often argued that the pickup noise is the main noise source. In that case, noise must be added before the bandwidth limitation, which is often set by the used power amplifier and/or the kicker structure\n",
    " \n",
    " * **Gaussian(fc, normalization=('bunch_by_bunch', f_harmonic))** - There are many ways to limit bandwidth, but a Gaussian filter is chosen for the minimal model.  The reasons for that are that, in principle, the frequency responses of the real systems can often be modified into Gaussian shape and a Gaussian filter is straightforward to the treat both in a time domain and in a frequency domain. It is worth noting that simulations results depend strongly on the chosen model for the bandwidth limitation. It is also important to keep in mind that the impulse response of the filter must be smooth in order to get reasonable results, e.g. the sharp peaks in the impulse responses of a RC filter and a phase linearized low pass filter cause of unrealistically good damping if a second cutoff frequency (smoothing) is not set correctly. The Gaussian filter is normalized in such a way that the gain value corresponds to damping of oscillations in the passband for an (infinite) long bunch train, which is close to implementation in the real systems. \n",
    " * **TurnDelay(...)** - One turn delay between the pickup readings and the correction kicks can be implemented by using a *TurnDelay(...)*. The default correction algorithm is based on vector sum, which works well and can be also implemented to real systems. Other options can be used by setting the *combiner* parameter or giving FIR filter coefficients manually using a *TurnFIRFilter*-object."
   ]
  },
  {
   "cell_type": "code",
   "execution_count": null,
   "metadata": {
    "collapsed": false,
    "deletable": true,
    "editable": true
   },
   "outputs": [],
   "source": [
    "beam_minimal = copy.deepcopy(beam_ref)\n",
    "tracker_minimal = BunchTracker(beam_minimal)\n",
    "slicer_minimal = copy.deepcopy(slicer_ref)\n",
    "\n",
    "processors_minimal_x = [\n",
    "        Bypass(debug=True),\n",
    "        ChargeWeighter(normalization='segment_average', debug=True),\n",
    "        NoiseGenerator(RMS_noise_level, debug=True),\n",
    "        Gaussian(fc, normalization=('bunch_by_bunch', f_harmonic), debug=True),\n",
    "        TurnDelay(delay, machine.Q_x, n_values,debug=True)\n",
    "]\n",
    "\n",
    "processors_minimal_y = [\n",
    "        Bypass(),\n",
    "        ChargeWeighter(normalization='segment_average'),\n",
    "        NoiseGenerator(RMS_noise_level),\n",
    "        Gaussian(fc, normalization=('bunch_by_bunch', f_harmonic)),\n",
    "        TurnDelay(delay, machine.Q_y, n_values)\n",
    "]\n",
    "\n",
    "\n",
    "feedback_map = OneboxFeedback(feedback_gain,slicer_minimal,\n",
    "                              processors_minimal_x, processors_minimal_y, mpi = True)\n",
    "one_turn_map = [feedback_map] + [i for i in trans_map] # + [long_map]\n",
    "\n",
    "track(n_turns, beam_minimal,one_turn_map,tracker_minimal)\n",
    "plot_debug_data(processors_minimal_x, source = 'output')"
   ]
  },
  {
   "cell_type": "markdown",
   "metadata": {
    "collapsed": true,
    "deletable": true,
    "editable": true
   },
   "source": [
    "## Results comparison"
   ]
  },
  {
   "cell_type": "code",
   "execution_count": null,
   "metadata": {
    "collapsed": false,
    "deletable": true,
    "editable": true
   },
   "outputs": [],
   "source": [
    "compare_traces([tracker_ref_data,tracker_minimal],\n",
    "               ['Ideal bunch-by-slice\\nfeedback', 'Minimal model'])\n",
    "compare_beam_projections([ beam_ref_data, beam_minimal], \n",
    "               ['Ideal bunch-by-slice\\nfeedback', 'Minimal model'])"
   ]
  },
  {
   "cell_type": "markdown",
   "metadata": {
    "collapsed": true,
    "deletable": true,
    "editable": true
   },
   "source": [
    "Jani Komppula, CERN, 2017"
   ]
  }
 ],
 "metadata": {
  "kernelspec": {
   "display_name": "Python 2",
   "language": "python",
   "name": "python2"
  },
  "language_info": {
   "codemirror_mode": {
    "name": "ipython",
    "version": 2
   },
   "file_extension": ".py",
   "mimetype": "text/x-python",
   "name": "python",
   "nbconvert_exporter": "python",
   "pygments_lexer": "ipython2",
   "version": "2.7.14"
  }
 },
 "nbformat": 4,
 "nbformat_minor": 1
}
