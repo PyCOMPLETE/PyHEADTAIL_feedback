{
 "cells": [
  {
   "cell_type": "code",
   "execution_count": null,
   "metadata": {
    "collapsed": false,
    "deletable": true,
    "editable": true
   },
   "outputs": [],
   "source": [
    "from __future__ import unicode_literals\n",
    "\n",
    "import sys, os\n",
    "BIN = os.path.expanduser(\"../../../\")\n",
    "sys.path.append(BIN)\n",
    "\n",
    "import numpy as np\n",
    "from scipy.constants import m_p, c, e, pi\n",
    "import matplotlib.pyplot as plt\n",
    "%matplotlib inline\n",
    "\n",
    "import copy\n",
    "import itertools\n",
    "\n",
    "from test_tools import generate_objects, BunchTracker, track, compare_traces, compare_projections, Machine\n",
    "\n",
    "from PyHEADTAIL_feedback.feedback import OneboxFeedback, Kicker, PickUp\n",
    "from PyHEADTAIL_feedback.processors.multiplication import ChargeWeighter\n",
    "from PyHEADTAIL_feedback.processors.linear_transform import Averager\n",
    "from PyHEADTAIL_feedback.processors.misc import Bypass\n",
    "from PyHEADTAIL_feedback.processors.register import Register, TurnDelay, UncorrectedDelay\n",
    "\n",
    "np.random.seed(0)"
   ]
  },
  {
   "cell_type": "markdown",
   "metadata": {},
   "source": [
    "# 002 Separate pickup and kicker\n",
    "\n",
    "In this test/example a pickup and a kicker are located separately in the one turn map. The used signal processing follows the ideal bunch-by-bunch feedback presented in the previous test (001_ideal_feedbacks.ipynb).\n",
    "\n",
    "## Basic parameters and elements for the simulations"
   ]
  },
  {
   "cell_type": "code",
   "execution_count": null,
   "metadata": {
    "collapsed": false,
    "deletable": true,
    "editable": true
   },
   "outputs": [],
   "source": [
    "n_macroparticles = 10000\n",
    "n_slices = 20\n",
    "n_segments = 5\n",
    "n_sigma_z = 3\n",
    "# n_sigma_z = 6\n",
    "\n",
    "n_turns = 50\n",
    "\n",
    "# Longitudinal motion of the bunch is not taken into account by default, but it can be included by uncommenting\n",
    "# the line below\n",
    "machine = Machine(n_segments= n_segments)\n",
    "# machine = Machine(Q_s = 0.0020443)\n",
    "\n",
    "bunch_ref, slicer_ref,trans_map, long_map = generate_objects(machine, n_macroparticles, n_slices,n_sigma_z)"
   ]
  },
  {
   "cell_type": "markdown",
   "metadata": {},
   "source": [
    "## Initial bunch kick\n",
    "Creates an artificially (slice-by-slice) kicked bunch, which will be damped by using different feedback systems. "
   ]
  },
  {
   "cell_type": "code",
   "execution_count": null,
   "metadata": {
    "collapsed": false,
    "deletable": true,
    "editable": true
   },
   "outputs": [],
   "source": [
    "slice_set = bunch_ref.get_slices(slicer_ref, statistics=True)\n",
    "p_idx = slice_set.particles_within_cuts\n",
    "s_idx = slice_set.slice_index_of_particle.take(p_idx)\n",
    "\n",
    "# Random slice kicks\n",
    "kick_x = 0.003*(-1.0+2*np.random.rand(n_slices))\n",
    "kick_y = 0.003*(-1.0+2*np.random.rand(n_slices))\n",
    "\n",
    "for p_id, s_id in itertools.izip(p_idx,s_idx):\n",
    "    bunch_ref.x[p_id] += kick_x[s_id]\n",
    "    bunch_ref.y[p_id] += kick_y[s_id]\n",
    "\n",
    "# A bunch kick\n",
    "# kick_x = 0.003*np.ones(n_slices)\n",
    "# kick_y = 0.003*np.ones(n_slices)"
   ]
  },
  {
   "cell_type": "markdown",
   "metadata": {},
   "source": [
    "## Feedback settings"
   ]
  },
  {
   "cell_type": "code",
   "execution_count": null,
   "metadata": {
    "collapsed": true
   },
   "outputs": [],
   "source": [
    "feedback_gain = 0.1\n",
    "# feedback_gain = (0.1,0.4)\n",
    "\n",
    "# delay (a number of turns) before the pickup signal is used to the correction kick calculations.\n",
    "delay = 1\n",
    "\n",
    "# a number of values used to calculate the correct signal\n",
    "n_values = 2"
   ]
  },
  {
   "cell_type": "markdown",
   "metadata": {},
   "source": [
    "## Reference data\n",
    "Tracks a bunch by using an ideal bunch-by-bunch feedback system presented in the previous test (001_ideal_feedbacks.ipynb). This data are used as a reference data for the feedback models including delay and serate pickup(s) and kicker(s)"
   ]
  },
  {
   "cell_type": "code",
   "execution_count": null,
   "metadata": {
    "collapsed": true
   },
   "outputs": [],
   "source": [
    "bunch_ref_data = copy.deepcopy(bunch_ref)\n",
    "tracker_ref_data = BunchTracker(bunch_ref_data)\n",
    "slicer_ref_data = copy.deepcopy(slicer_ref)\n",
    "\n",
    "processors_bunch_x = [\n",
    "    ChargeWeighter(normalization = 'segment_average'),\n",
    "    Averager()\n",
    "]\n",
    "processors_bunch_y = [\n",
    "    ChargeWeighter(normalization = 'segment_average'),\n",
    "    Averager()\n",
    "]\n",
    "\n",
    "feedback_map = OneboxFeedback(feedback_gain,slicer_ref_data,processors_bunch_x,processors_bunch_y)\n",
    "one_turn_map = [i for i in trans_map] + [feedback_map] #  + [long_map]\n",
    "\n",
    "track(n_turns, bunch_ref_data,one_turn_map ,tracker_ref_data)"
   ]
  },
  {
   "cell_type": "markdown",
   "metadata": {
    "collapsed": false,
    "deletable": true,
    "editable": true
   },
   "source": [
    "## Betatron motion in a feedback model \n",
    "\n",
    "Because pickup(s) and kicker(s) are often located in different locations in the accelerator and there is a delay between pickup reading and correction kick, betatron motion of a bunch is an essential part of a feedback system. However, because the betatron motion correction algorthms work usually quite well, implementations of a turn delay or a separate pickup and kicker into the feedback model does not often affect simulation results if a simplified model for a damper system is used and the gain value is low. \n",
    "\n",
    "Because of the finite signal processing time required by the damper system, there is often one turn delay between pickup readings and correction kicks. Betatron phase advance of one turn delay is much longer than the physical separation of the pickup and the kicker and, therefore, the feedback model can be often simplified by taking only into account the one turn delay between the pickup reading and the correction kick instead of implementing a separate pickup and kicker into the model\n",
    "\n",
    "### Turn delay\n",
    "\n",
    "Turn delay can be implemented two different ways: by rotating betatron phase before the signal processing or using a realistic betatron correction algorithm in the signal processing model.\n",
    "\n",
    "The most ideal, but more unrealistic way is to rotate a pickup signal to the correct betatron phase before the signal processing by using both x and x' coordinates of the beam. This can be implemented to the feedback model by adding an UncorrectedDelay() to the signal processor chain and giving the required betatron phase rotation angle to the OneboxFeedback object. \n",
    "\n",
    "#### Case 1: Artificial phase rotation\n",
    "\n",
    "This is close to the real life situation where oscillations are measured by using two pickups and the betatron phase advances differences between the pickups and the kicker are perfectly known. "
   ]
  },
  {
   "cell_type": "code",
   "execution_count": null,
   "metadata": {
    "collapsed": false
   },
   "outputs": [],
   "source": [
    "bunch_delay_rotation = copy.deepcopy(bunch_ref)\n",
    "tracker_delay_rotation = BunchTracker(bunch_delay_rotation)\n",
    "slicer_delay_rotation = copy.deepcopy(slicer_ref)\n",
    "\n",
    "processors_delay_rotation_x = [\n",
    "    ChargeWeighter(normalization = 'segment_average'),\n",
    "    Averager(),\n",
    "    UncorrectedDelay(delay)\n",
    "]\n",
    "processors_delay_rotation_y = [\n",
    "    ChargeWeighter(normalization = 'segment_average'),\n",
    "    Averager(),\n",
    "    UncorrectedDelay(delay)\n",
    "]\n",
    "\n",
    "phase_rotation_x = 0.\n",
    "phase_rotation_y = 0.\n",
    "\n",
    "# one turn delay in betatron phase advances\n",
    "phase_rotation_x += delay * 2. * pi * machine.Q_x\n",
    "phase_rotation_y += delay * 2. * pi * machine.Q_y\n",
    "\n",
    "# additional rotation required by transformation from pickup displacement signalto kicker divergence signal\n",
    "phase_rotation_x += pi/2.\n",
    "phase_rotation_y += pi/2.\n",
    "\n",
    "feedback_map = OneboxFeedback(feedback_gain,slicer_delay_rotation,\n",
    "                              processors_delay_rotation_x,processors_delay_rotation_y,\n",
    "                              phase_x=phase_rotation_x, phase_y=phase_rotation_y,\n",
    "                              beta_x=machine.beta_x, beta_y=machine.beta_y,\n",
    "                              pickup_axis='displacement', kicker_axis='divergence')\n",
    "one_turn_map = [feedback_map] + [i for i in trans_map] #  + [long_map]\n",
    "\n",
    "track(n_turns, bunch_delay_rotation,one_turn_map,tracker_delay_rotation)"
   ]
  },
  {
   "cell_type": "markdown",
   "metadata": {},
   "source": [
    "#### Case 2: Correction algorithm\n",
    "\n",
    "Different betatron correction algorithms can be implemented by adding a *TurnDelay(...)* or a *TurnFIRFilter(...)* to the signal processing chain. The object *TurnDelay(...)* stores signals from a number of turns given in parameters *delay* and *n_values*. The return signal is calculated from the stored signals after the delay by using diffrent algorithms. \n",
    "\n",
    "The different algorithms have been programmed into the framework by using *combiner* objects. Combiner objects read signals from register objects and calculate the correct signal by using an algorithm programmed into the combiner. The same combiner objects are utilised both in the cases of one turn delay and separate pickups and kickers, but in the case of the one turn delay this mechanism is hidden into the TurnDelay object in order to simplify the user interface.\n",
    "\n",
    "The combiner type can be specified by giving an input parameter *combiner* into the *TurnDelay(...)*. At the moment available combiner types are a Hilbert phase shifter (*'hilbert'*), a cosine sum algorithm  (*'cosine_sum'*) and a vector sum algorithm (*'vector_sum'*). The vector sum combiner is used by default, because it gives almost ideal correction in most of the cases."
   ]
  },
  {
   "cell_type": "code",
   "execution_count": null,
   "metadata": {
    "collapsed": false,
    "deletable": true,
    "editable": true
   },
   "outputs": [],
   "source": [
    "bunch_delay_algorithm = copy.deepcopy(bunch_ref)\n",
    "tracker_delay_algorithm = BunchTracker(bunch_delay_algorithm)\n",
    "slicer_delay_algorithm = copy.deepcopy(slicer_ref)\n",
    "\n",
    "\n",
    "\n",
    "processors_delay_algorithm_x = [\n",
    "    ChargeWeighter(normalization = 'segment_average'),\n",
    "    Averager(),\n",
    "    TurnDelay(delay, machine.Q_x, n_values,additional_phase_advance=0.)\n",
    "]\n",
    "processors_delay_algorithm_y = [\n",
    "    ChargeWeighter(normalization = 'segment_average'),\n",
    "    Averager(),\n",
    "    TurnDelay(delay, machine.Q_y, n_values,additional_phase_advance=0.)\n",
    "]\n",
    "\n",
    "feedback_map = OneboxFeedback(feedback_gain,slicer_delay_algorithm,\n",
    "                              processors_delay_algorithm_x,processors_delay_algorithm_y)\n",
    "one_turn_map = [feedback_map] + [i for i in trans_map] # + [long_map]\n",
    "\n",
    "track(n_turns, bunch_delay_algorithm,one_turn_map,tracker_delay_algorithm)\n"
   ]
  },
  {
   "cell_type": "markdown",
   "metadata": {},
   "source": [
    "### Separate pickup and kicker\n",
    "\n",
    "Pickups and kickers can be added separately to the one turn map by using a *Pickup(...)* and *Kicker(...)* object. Because signal and kick strenghts depend on the values of the beta function and betatron phase advance on the pickup and kicker locations, these values must be given as input parameters to *Pickup(...)* and *Kicker(...)* objects. \n"
   ]
  },
  {
   "cell_type": "code",
   "execution_count": null,
   "metadata": {
    "collapsed": true
   },
   "outputs": [],
   "source": [
    "# Beta function values in the pickup and the kicker locations\n",
    "pickup_beta_x = machine.beta_x\n",
    "pickup_beta_y = machine.beta_y\n",
    "\n",
    "kicker_beta_x = machine.beta_x\n",
    "kicker_beta_y = machine.beta_y"
   ]
  },
  {
   "cell_type": "markdown",
   "metadata": {},
   "source": [
    "The values of betatron phase advances are from an arbitrary reference poin of the accelerator to the pickup and the kicker locations. In this example the reference point is chosen to be the start point of the one turn map. Because the one turn map is divided into equally lenght segments in this example, the phase advances of the pickup and the kicker are determined only by their locations in the one turn map, i.e."
   ]
  },
  {
   "cell_type": "code",
   "execution_count": null,
   "metadata": {
    "collapsed": true
   },
   "outputs": [],
   "source": [
    "pickup_location_x = 1.*2.*pi/float(n_segments)*machine.Q_x\n",
    "pickup_location_y = 1.*2.*pi/float(n_segments)*machine.Q_y\n",
    "\n",
    "kicker_location_x = 2.*2.*pi/float(n_segments)*machine.Q_x\n",
    "kicker_location_y = 2.*2.*pi/float(n_segments)*machine.Q_y"
   ]
  },
  {
   "cell_type": "markdown",
   "metadata": {},
   "source": [
    "The signal between a pickup and a kicker is transferred by using *Register(...)* objects. A *Register* object in the signal processing chain of the pickup stores signals from the pickup. A reference to the register is given as an input parameter to the *Kicker* object. In the kicker object, signals from different registers are combined by using a combiner object. The betatron correction algorithm/combiner can be specified with a *combiner* parameter to the kicker. The combiner options are the same as for the *TurnDelay(...)* object and *'vector_sum'* is the default option as well."
   ]
  },
  {
   "cell_type": "code",
   "execution_count": null,
   "metadata": {
    "collapsed": false
   },
   "outputs": [],
   "source": [
    "processors_pickup_x = [\n",
    "    ChargeWeighter(normalization = 'segment_average'),\n",
    "    Averager(),\n",
    "    Register(1, machine.Q_x, delay)\n",
    "]\n",
    "processors_pickup_y = [\n",
    "    ChargeWeighter(normalization = 'segment_average'),\n",
    "    Averager(),\n",
    "    Register(1, machine.Q_y, delay)\n",
    "]"
   ]
  },
  {
   "cell_type": "markdown",
   "metadata": {},
   "source": [
    "As in the case of the turn delay, betatron phase advance correction can be implemented two different ways; rotating the signals artificially directly in the pickup object before the signal processing or using a combiner object including a realistic betatron correction algorithm.\n",
    "\n",
    "#### Case 1: Artificial phase rotation in the pickup object\n",
    "\n",
    "By rotating the signals direcly in the pickup object, the total phase rotation angle must be calculated separately, i.e."
   ]
  },
  {
   "cell_type": "code",
   "execution_count": null,
   "metadata": {
    "collapsed": true
   },
   "outputs": [],
   "source": [
    "phase_rotation_x = 0.\n",
    "phase_rotation_y = 0.\n",
    "\n",
    "# rotation required by one turn delay\n",
    "phase_rotation_x +=  (delay) * 2. * pi * machine.Q_x\n",
    "phase_rotation_y +=  (delay) * 2. * pi * machine.Q_y\n",
    "\n",
    "# rotation required by transformation from pickup displacement signal into kicker divergence signal\n",
    "phase_rotation_x += pi/2.\n",
    "phase_rotation_y += pi/2.\n",
    "\n",
    "# rotation required by the location difference between the pickup and the kicker\n",
    "phase_rotation_x += kicker_location_x - pickup_location_x\n",
    "phase_rotation_y += kicker_location_y - pickup_location_y"
   ]
  },
  {
   "cell_type": "markdown",
   "metadata": {},
   "source": [
    "After that initial phase rotation angles are given into pickup object and the pickup and the kicker objects are added to correct locations of the one turn map. *Dummy* combiner must be used in the kicker object, because the betatron phase correction is already taken into account in the pickup object"
   ]
  },
  {
   "cell_type": "code",
   "execution_count": null,
   "metadata": {
    "collapsed": false
   },
   "outputs": [],
   "source": [
    "bunch_separate_rotation = copy.deepcopy(bunch_ref)\n",
    "tracker_separate_rotation = BunchTracker(bunch_separate_rotation)\n",
    "slicer_separate_rotation = copy.deepcopy(slicer_ref)\n",
    "\n",
    "# The map element is created by giving a slicer object, the signal processors and the beam parameters as input parameters\n",
    "pickup_map = PickUp(slicer_separate_rotation, processors_pickup_x, processors_pickup_y,\n",
    "                    pickup_location_x, pickup_beta_x, pickup_location_y, pickup_beta_y,\n",
    "                    phase_x=phase_rotation_x, phase_y=phase_rotation_y)\n",
    "\n",
    "# In this example, the signals are not modified in the kicker, i.e. only bypass processors are used\n",
    "processors_kicker_x = [Bypass()]\n",
    "processors_kicker_y = [Bypass()]\n",
    "\n",
    "# A list of references to registers from the pickup signal processsor chains\n",
    "registers_x = [processors_pickup_x[-1]]\n",
    "registers_y = [processors_pickup_y[-1]]\n",
    "\n",
    "kicker_map = Kicker(feedback_gain, slicer_separate_rotation, processors_kicker_x, processors_kicker_y,\n",
    "                    registers_x, registers_y, kicker_location_x, kicker_beta_x, kicker_location_y, kicker_beta_y,\n",
    "                    combiner='dummy')\n",
    "\n",
    "one_turn_map = [trans_map[0]] + [pickup_map] + [trans_map[1]] + [kicker_map]\n",
    "for element in trans_map[2:]:\n",
    "    one_turn_map += [element]\n",
    "# one_turn_map += [long_map]\n",
    "      \n",
    "track(n_turns, bunch_separate_rotation, one_turn_map, tracker_separate_rotation)"
   ]
  },
  {
   "cell_type": "markdown",
   "metadata": {},
   "source": [
    "#### Case 2: Correction algorithm\n",
    "\n",
    "The use of correction algoritm is simpler than the artificial phase rotation in the pickup object, because the phase rotation must not be calculated separately. The code is exactly same, expect the phase rotations are not given to the pickup objects and another option than *'dummy'* is used for the cobiner in the kicker object."
   ]
  },
  {
   "cell_type": "code",
   "execution_count": null,
   "metadata": {
    "collapsed": false,
    "deletable": true,
    "editable": true
   },
   "outputs": [],
   "source": [
    "bunch_separate_algorithm = copy.deepcopy(bunch_ref)\n",
    "tracker_separate_algorithm = BunchTracker(bunch_separate_algorithm)\n",
    "slicer_separate_algorithm = copy.deepcopy(slicer_ref)\n",
    "\n",
    "# Exactly same signal processors as in the previous example are used in the pickup\n",
    "processors_pickup_x = [\n",
    "    ChargeWeighter(normalization = 'segment_average'),\n",
    "    Averager(),\n",
    "    Register(n_values, machine.Q_x, delay)\n",
    "]\n",
    "processors_pickup_y = [\n",
    "    ChargeWeighter(normalization = 'segment_average'),\n",
    "    Averager(),\n",
    "    Register(n_values, machine.Q_y, delay)\n",
    "]\n",
    "\n",
    "pickup_map = PickUp(slicer_separate_algorithm,processors_pickup_x,processors_pickup_y, pickup_location_x, pickup_beta_x,\n",
    "                 pickup_location_y, pickup_beta_y)\n",
    "\n",
    "\n",
    "# In this example, the signals are not modified in the kicker, i.e. only bypass processors are used\n",
    "processors_kicker_x = [Bypass()]\n",
    "processors_kicker_y = [Bypass()]\n",
    "\n",
    "# A list of references to registers from the signal processors(s) of the pickup(s)\n",
    "registers_x = [processors_pickup_x[-1]]\n",
    "registers_y = [processors_pickup_y[-1]]\n",
    "\n",
    "kicker_map = Kicker(feedback_gain, slicer_separate_algorithm, processors_kicker_x, processors_kicker_y,\n",
    "                    registers_x, registers_y, kicker_location_x, kicker_beta_x, kicker_location_y, kicker_beta_y)\n",
    "\n",
    "one_turn_map = [trans_map[0]] + [pickup_map] + [trans_map[1]] + [kicker_map]\n",
    "for element in trans_map[2:]:\n",
    "    one_turn_map += [element]\n",
    "# tone_turn_map += [long_map]\n",
    "    \n",
    "track(n_turns, bunch_separate_algorithm,one_turn_map,tracker_separate_algorithm)"
   ]
  },
  {
   "cell_type": "markdown",
   "metadata": {},
   "source": [
    "## Results comparison"
   ]
  },
  {
   "cell_type": "code",
   "execution_count": null,
   "metadata": {
    "collapsed": false,
    "deletable": true,
    "editable": true
   },
   "outputs": [],
   "source": [
    "compare_traces([tracker_ref_data,tracker_delay_rotation,tracker_delay_algorithm,\n",
    "                tracker_separate_rotation, tracker_separate_algorithm],\n",
    "               ['Reference', 'Delayed, rotation', 'Delayed, algorithm', 'Separate, rotation', 'Separate, algorithm'])\n",
    "compare_projections([bunch_ref_data,bunch_delay_rotation,bunch_delay_algorithm,\n",
    "                bunch_separate_rotation, bunch_separate_algorithm],\n",
    "               ['Reference', 'Delayed, rotation', 'Delayed, algorithm', 'Separate, rotation', 'Separate, algorithm'])"
   ]
  },
  {
   "cell_type": "markdown",
   "metadata": {
    "collapsed": true,
    "deletable": true,
    "editable": true
   },
   "source": [
    "Jani Komppula, CERN, 2017"
   ]
  },
  {
   "cell_type": "code",
   "execution_count": null,
   "metadata": {
    "collapsed": true,
    "deletable": true,
    "editable": true
   },
   "outputs": [],
   "source": []
  }
 ],
 "metadata": {
  "kernelspec": {
   "display_name": "Python 2",
   "language": "python",
   "name": "python2"
  },
  "language_info": {
   "codemirror_mode": {
    "name": "ipython",
    "version": 2
   },
   "file_extension": ".py",
   "mimetype": "text/x-python",
   "name": "python",
   "nbconvert_exporter": "python",
   "pygments_lexer": "ipython2",
   "version": "2.7.14"
  }
 },
 "nbformat": 4,
 "nbformat_minor": 1
}
