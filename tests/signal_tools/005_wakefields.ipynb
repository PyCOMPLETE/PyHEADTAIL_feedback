{
 "cells": [
  {
   "cell_type": "code",
   "execution_count": 46,
   "metadata": {
    "collapsed": true
   },
   "outputs": [],
   "source": [
    "# from __future__ import division\n",
    "import sys, os\n",
    "BIN = os.path.expanduser(\"../../../\")\n",
    "sys.path.append(BIN)\n",
    "import numpy as np\n",
    "import matplotlib.pyplot as plt\n",
    "from scipy.constants import c, e"
   ]
  },
  {
   "cell_type": "code",
   "execution_count": null,
   "metadata": {},
   "outputs": [],
   "source": [
    "from PyHEADTAIL_feedback.signal_tools.signal_generators import SimpleBeam, SimpleCircularPointBeam\n",
    "from PyHEADTAIL_feedback.signal_tools.trackers_and_kickers import track_beam, Wake\n",
    "from PyHEADTAIL_feedback.signal_tools.plotters import plot_beam"
   ]
  },
  {
   "cell_type": "code",
   "execution_count": null,
   "metadata": {},
   "outputs": [
    {
     "name": "stdout",
     "output_type": "stream",
     "text": [
      "9788.2237537\n",
      "{}\n",
      "wakedata.shape(11822, 6)\n"
     ]
    }
   ],
   "source": [
    "\n",
    "\n",
    "# SIMULATION PARAMETERS\n",
    "# ---------------------\n",
    "n_turns = 1000\n",
    "n_buckets_per_bunch = 1\n",
    "\n",
    "# MACHINE PARAMETERS\n",
    "#-------------------\n",
    "circumference = 9770.14\n",
    "p0 = 3300e9 * e / c\n",
    "accQ_x = 109.28\n",
    "beta_x = circumference / (2.*np.pi*accQ_x)\n",
    "n_bunches=1306\n",
    "bunch_spacing=25e-9\n",
    "intensity=1e13\n",
    "\n",
    "\n",
    "# GENERATES BEAM\n",
    "# --------------\n",
    "beam = SimpleCircularPointBeam(n_bunches, bunch_spacing, intensity, circular_overlapping=0)\n",
    "\n",
    "# beam = SimpleBeam(n_bunches, bunch_spacing, bunch_length, intensity, n_slices, beta_x=beta_x)\n",
    "beam.set_beam_paramters(p0)\n",
    "beam.init_noise(1e-7)\n",
    "\n",
    "\n",
    "# GENERATES WAKES\n",
    "# --------------\n",
    "wakedata = np.loadtxt('example_impedance.wake')\n",
    "print 'wakedata.shape' + str(wakedata.shape)\n",
    "data_t = wakedata[:,0]\n",
    "data_x = wakedata[:,2]\n",
    "wake = Wake(data_t,data_x,10)\n",
    "\n",
    "\n",
    "trackers = [\n",
    "    wake\n",
    "]\n",
    "fig, ax1, ax11 = plot_beam(beam)\n",
    "\n",
    "track_beam(beam,trackers,n_turns,accQ_x)\n",
    "print 'Done'\n",
    "\n",
    "fig, ax1, ax11 = plot_beam(beam,fig=fig, ax1=ax1, ax11=ax11)\n",
    "plt.show()"
   ]
  },
  {
   "cell_type": "code",
   "execution_count": null,
   "metadata": {},
   "outputs": [],
   "source": [
    "print beam.x\n",
    "print np.max(beam.x)"
   ]
  },
  {
   "cell_type": "code",
   "execution_count": null,
   "metadata": {
    "collapsed": true
   },
   "outputs": [],
   "source": []
  }
 ],
 "metadata": {
  "kernelspec": {
   "display_name": "Python 2",
   "language": "python",
   "name": "python2"
  },
  "language_info": {
   "codemirror_mode": {
    "name": "ipython",
    "version": 2
   },
   "file_extension": ".py",
   "mimetype": "text/x-python",
   "name": "python",
   "nbconvert_exporter": "python",
   "pygments_lexer": "ipython2",
   "version": "2.7.12"
  }
 },
 "nbformat": 4,
 "nbformat_minor": 2
}
