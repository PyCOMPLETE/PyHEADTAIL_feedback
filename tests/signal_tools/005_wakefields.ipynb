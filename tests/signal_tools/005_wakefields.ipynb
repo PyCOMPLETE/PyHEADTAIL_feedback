{
 "cells": [
  {
   "cell_type": "code",
   "execution_count": null,
   "metadata": {
    "collapsed": true,
    "deletable": true,
    "editable": true
   },
   "outputs": [],
   "source": [
    "# from __future__ import division\n",
    "import sys, os, copy\n",
    "BIN = os.path.expanduser(\"../../../\")\n",
    "sys.path.append(BIN)\n",
    "import numpy as np\n",
    "import matplotlib.pyplot as plt\n",
    "from scipy.constants import c, e\n",
    "import time"
   ]
  },
  {
   "cell_type": "code",
   "execution_count": null,
   "metadata": {
    "collapsed": true,
    "deletable": true,
    "editable": true
   },
   "outputs": [],
   "source": [
    "from PyHEADTAIL_feedback.signal_tools.signal_generators import SimpleBeam, SimpleCircularPointBeam\n",
    "from PyHEADTAIL_feedback.signal_tools.trackers_and_kickers import track_beam, Wake\n",
    "from PyHEADTAIL_feedback.signal_tools.plotters import plot_beams"
   ]
  },
  {
   "cell_type": "code",
   "execution_count": null,
   "metadata": {
    "collapsed": false,
    "deletable": true,
    "editable": true
   },
   "outputs": [],
   "source": [
    "\n",
    "\n",
    "# SIMULATION PARAMETERS\n",
    "# ---------------------\n",
    "n_turns = 3000\n",
    "n_buckets_per_bunch = 1\n",
    "\n",
    "# MACHINE PARAMETERS\n",
    "#-------------------\n",
    "circumference = 9770.14\n",
    "p0 = 3300e9 * e / c\n",
    "accQ_x = 109.28\n",
    "beta_x = circumference / (2.*np.pi*accQ_x)\n",
    "n_bunches=1306\n",
    "bunch_spacing=25e-9\n",
    "intensity=4e13\n",
    "\n",
    "\n",
    "# GENERATES BEAM\n",
    "# --------------\n",
    "beam = SimpleCircularPointBeam(n_bunches, bunch_spacing, intensity, circular_overlapping=0)\n",
    "\n",
    "# beam = SimpleBeam(n_bunches, bunch_spacing, bunch_length, intensity, n_slices, beta_x=beta_x)\n",
    "beam.set_beam_paramters(p0)\n",
    "beam.init_noise(1e-7)\n",
    "# beam_map = (beam.z>3000.)*(beam.z<6000.)\n",
    "# beam.x[beam_map] = beam.x[beam_map]+1e-3\n",
    "\n",
    "# GENERATES WAKES\n",
    "# --------------\n",
    "wakedata = np.loadtxt('example_impedance.wake')\n",
    "print 'wakedata.shape' + str(wakedata.shape)\n",
    "data_t = wakedata[:,0]\n",
    "data_x = wakedata[:,2]\n",
    "\n",
    "\n",
    "\n",
    "# fig, ax1, ax11 = plot_beam(beam, label='init')\n",
    "startTime = time.time()\n",
    "trackers_numpy = [\n",
    "    Wake(data_t,data_x,1, method = 'numpy')\n",
    "]\n",
    "beam_numpy = copy.deepcopy(beam)\n",
    "track_beam(beam_numpy,trackers_numpy,n_turns,accQ_x)\n",
    "print 'Numpy running time: ' + str(time.time() - startTime)\n",
    "\n",
    "startTime = time.time()\n",
    "trackers_cython = [\n",
    "    Wake(data_t,data_x,1, method = 'cython')\n",
    "]\n",
    "beam_cython = copy.deepcopy(beam)\n",
    "track_beam(beam_cython,trackers_cython,n_turns,accQ_x)\n",
    "print 'Cython running time: ' + str(time.time() - startTime)\n",
    "\n",
    "startTime = time.time()\n",
    "trackers_fft = [\n",
    "    Wake(data_t,data_x,1, method = 'fft')\n",
    "]\n",
    "beam_fft = copy.deepcopy(beam)\n",
    "track_beam(beam_fft,trackers_fft,n_turns,accQ_x)\n",
    "print 'FFT running time: ' + str(time.time() - startTime)\n",
    "\n",
    "startTime = time.time()\n",
    "trackers_fftconvolve = [\n",
    "    Wake(data_t,data_x,1, method = 'fftconvolve')\n",
    "]\n",
    "beam_fftconvolve = copy.deepcopy(beam)\n",
    "track_beam(beam_fftconvolve,trackers_fftconvolve,n_turns,accQ_x)\n",
    "print 'FFT convolve running time: ' + str(time.time() - startTime)\n",
    "# fig, ax1, ax11 = plot_beam(beam_fft,fig=fig, ax1=ax1, ax11=ax11)\n",
    "\n",
    "beams = [\n",
    "    beam,\n",
    "    beam_numpy,\n",
    "    beam_cython,\n",
    "    beam_fft,\n",
    "    beam_fftconvolve,\n",
    "]\n",
    "\n",
    "print ''\n",
    "print 'Integarated Cython error: ' + str(np.sum(beam_cython.x - beam_numpy.x))\n",
    "print 'Integarated FFT error: ' + str(np.sum(np.abs(beam_fft.x - beam_numpy.x)))\n",
    "print 'Integarated FFT convolve error: ' + str(np.sum(np.abs(beam_fftconvolve.x - beam_numpy.x))) \n",
    "\n",
    "labels = [\n",
    "    'Init',\n",
    "    'NumPy',\n",
    "    'Cython',\n",
    "    'FFT',\n",
    "    'FFTconvolve',\n",
    "]\n",
    "fig, ax1, ax11 = plot_beams(beams,labels)\n",
    "plt.show()"
   ]
  },
  {
   "cell_type": "code",
   "execution_count": null,
   "metadata": {
    "collapsed": false,
    "deletable": true,
    "editable": true
   },
   "outputs": [],
   "source": []
  },
  {
   "cell_type": "code",
   "execution_count": null,
   "metadata": {
    "collapsed": false,
    "deletable": true,
    "editable": true
   },
   "outputs": [],
   "source": []
  },
  {
   "cell_type": "code",
   "execution_count": null,
   "metadata": {
    "collapsed": true,
    "deletable": true,
    "editable": true
   },
   "outputs": [],
   "source": []
  }
 ],
 "metadata": {
  "kernelspec": {
   "display_name": "Python 2",
   "language": "python",
   "name": "python2"
  },
  "language_info": {
   "codemirror_mode": {
    "name": "ipython",
    "version": 2
   },
   "file_extension": ".py",
   "mimetype": "text/x-python",
   "name": "python",
   "nbconvert_exporter": "python",
   "pygments_lexer": "ipython2",
   "version": "2.7.13"
  }
 },
 "nbformat": 4,
 "nbformat_minor": 2
}
