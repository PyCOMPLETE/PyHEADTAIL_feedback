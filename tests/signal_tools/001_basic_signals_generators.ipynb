{
 "cells": [
  {
   "cell_type": "code",
   "execution_count": null,
   "metadata": {
    "collapsed": true,
    "deletable": true,
    "editable": true
   },
   "outputs": [],
   "source": [
    "import sys, os\n",
    "BIN = os.path.expanduser(\"../../../\")\n",
    "sys.path.append(BIN)\n",
    "from scipy.constants import c\n",
    "\n",
    "import numpy as np\n",
    "import matplotlib.pyplot as plt"
   ]
  },
  {
   "cell_type": "code",
   "execution_count": null,
   "metadata": {
    "collapsed": false,
    "deletable": true,
    "editable": true
   },
   "outputs": [],
   "source": [
    "from PyHEADTAIL_feedback.signal_tools.signal_generators import square_wave, triangle_wave, sine_wave\n",
    "\n",
    "f = 1e6 \n",
    "n_per = 4\n",
    "\n",
    "square_w = square_wave(f, n_periods=n_per)\n",
    "triangle_w = triangle_wave(f, n_periods=n_per)\n",
    "sine_w = sine_wave(f, n_periods=n_per)\n",
    "\n",
    "fig, ax1 = plt.subplots()\n",
    "ax2 = ax1.twiny()\n",
    "\n",
    "ax1.plot(square_w.z,square_w.x)\n",
    "ax1.plot(triangle_w.z,triangle_w.x)\n",
    "ax1.plot(sine_w.z,sine_w.x)\n",
    "\n",
    "ax2.plot(sine_w.t*1e6, np.zeros(len(sine_w.t)))\n",
    "ax2.cla()\n",
    "\n",
    "ax1.set_xlabel('Z distance [m]')\n",
    "ax1.set_ylabel('Amplitude')\n",
    "ax2.set_xlabel('Time [us]')\n",
    "\n",
    "plt.show()\n"
   ]
  },
  {
   "cell_type": "code",
   "execution_count": null,
   "metadata": {
    "collapsed": false,
    "deletable": true,
    "editable": true
   },
   "outputs": [],
   "source": [
    "from PyHEADTAIL_feedback.signal_tools.signal_generators import square_step, triangle_step, sine_step\n",
    "\n",
    "f = 1e6 \n",
    "n_per = 2\n",
    "\n",
    "square_s = square_step(f, n_periods=n_per)\n",
    "triangle_s = triangle_step(f, n_periods=n_per)\n",
    "sine_s = sine_step(f, n_periods=n_per)\n",
    "\n",
    "fig, ax1 = plt.subplots()\n",
    "ax2 = ax1.twiny()\n",
    "\n",
    "ax1.plot(square_s.z,square_s.x)\n",
    "ax1.plot(triangle_s.z,triangle_s.x)\n",
    "ax1.plot(sine_s.z,sine_s.x)\n",
    "\n",
    "ax2.plot(sine_s.t*1e6, np.zeros(len(sine_s.t)))\n",
    "ax2.cla()\n",
    "\n",
    "ax1.set_xlabel('Z distance [m]')\n",
    "ax1.set_ylabel('Amplitude')\n",
    "ax2.set_xlabel('Time [us]')\n",
    "plt.show()"
   ]
  },
  {
   "cell_type": "code",
   "execution_count": null,
   "metadata": {
    "collapsed": false,
    "deletable": true,
    "editable": true
   },
   "outputs": [],
   "source": [
    "from PyHEADTAIL_feedback.signal_tools.signal_generators import square_impulse, triangle_impulse, sine_impulse\n",
    "from PyHEADTAIL_feedback.signal_tools.signal_generators import binary_impulse\n",
    "f = 1e6 \n",
    "n_per = 2\n",
    "binary_i = binary_impulse(2./f)\n",
    "square_i = square_impulse(f)\n",
    "triangle_i = triangle_impulse(f)\n",
    "sine_i = sine_impulse(f)\n",
    "\n",
    "fig, ax1 = plt.subplots()\n",
    "ax2 = ax1.twiny()\n",
    "\n",
    "ax1.plot(square_i.z,square_i.x)\n",
    "ax1.plot(triangle_i.z,triangle_i.x)\n",
    "ax1.plot(sine_i.z,sine_i.x)\n",
    "ax1.plot(binary_i.z,binary_i.x)\n",
    "\n",
    "ax2.plot(sine_i.t*1e6, np.zeros(len(sine_i.t)))\n",
    "ax2.cla()\n",
    "\n",
    "ax1.set_xlabel('Z distance [m]')\n",
    "ax1.set_ylabel('Amplitude')\n",
    "ax2.set_xlabel('Time [us]')\n",
    "plt.show()"
   ]
  },
  {
   "cell_type": "code",
   "execution_count": null,
   "metadata": {
    "collapsed": true,
    "deletable": true,
    "editable": true
   },
   "outputs": [],
   "source": [
    "from PyHEADTAIL_feedback.signal_tools.signal_generators import Bunch, Beam, SimpleBeam\n",
    "from PyHEADTAIL_feedback.signal_tools.signal_generators import CircularPointBeam, SimpleCircularPointBeam"
   ]
  },
  {
   "cell_type": "code",
   "execution_count": null,
   "metadata": {
    "collapsed": false,
    "deletable": true,
    "editable": true
   },
   "outputs": [],
   "source": [
    "bunch_length = 4e-9\n",
    "n_slices = 10\n",
    "intensity = 1e11\n",
    "\n",
    "h_RF = 462\n",
    "circumference = 6900\n",
    "counter = 12\n",
    "filling_scheme = []\n",
    "for i in xrange(3):\n",
    "    for j in xrange(12):\n",
    "        filling_scheme.append(counter)\n",
    "        counter += 1\n",
    "    counter += 6\n",
    "print filling_scheme"
   ]
  },
  {
   "cell_type": "code",
   "execution_count": null,
   "metadata": {
    "collapsed": false,
    "deletable": true,
    "editable": true
   },
   "outputs": [],
   "source": [
    "bunch = Bunch(bunch_length, n_slices*10, intensity)\n",
    "\n",
    "fig, ax1 = plt.subplots()\n",
    "ax2 = ax1.twiny()\n",
    "\n",
    "ax1.plot(bunch.z,bunch.n_macroparticles_per_slice,'.')\n",
    "ax1.plot(bunch.z,bunch.x,'.')\n",
    "\n",
    "ax2.plot(bunch.t*1e9, np.zeros(len(bunch.t)))\n",
    "ax2.cla()\n",
    "\n",
    "ax1.set_xlabel('Z distance [m]')\n",
    "ax1.set_ylabel('Amplitude')\n",
    "ax2.set_xlabel('Time [ns]')\n",
    "plt.show()"
   ]
  },
  {
   "cell_type": "code",
   "execution_count": null,
   "metadata": {
    "collapsed": false,
    "deletable": true,
    "editable": true
   },
   "outputs": [],
   "source": [
    "beam = Beam(filling_scheme, circumference, h_RF, bunch_length, intensity, n_slices)\n",
    "\n",
    "print 'len(filling_scheme): ' + str(len(filling_scheme))\n",
    "print 'len(beam.x): ' + str(len(beam.x))\n",
    "\n",
    "fig, ax1 = plt.subplots()\n",
    "ax2 = ax1.twiny()\n",
    "\n",
    "ax1.plot(beam.z,beam.n_macroparticles_per_slice,'.')\n",
    "ax1.plot(beam.z,beam.x,'.')\n",
    "\n",
    "ax2.plot(beam.t*1e6, np.zeros(len(beam.t)))\n",
    "ax2.cla()\n",
    "\n",
    "ax1.set_xlabel('Z distance [m]')\n",
    "ax1.set_ylabel('Amplitude')\n",
    "ax2.set_xlabel('Time [us]')\n",
    "plt.show()"
   ]
  },
  {
   "cell_type": "code",
   "execution_count": null,
   "metadata": {
    "collapsed": false,
    "deletable": true,
    "editable": true
   },
   "outputs": [],
   "source": [
    "n_bunches = 4\n",
    "bunch_spacing = 25e-9\n",
    "simple_beam = SimpleBeam(n_bunches, bunch_spacing, bunch_length, intensity, n_slices)\n",
    "\n",
    "fig, ax1 = plt.subplots()\n",
    "ax2 = ax1.twiny()\n",
    "\n",
    "ax1.plot(simple_beam.z,simple_beam.n_macroparticles_per_slice,'.')\n",
    "ax1.plot(simple_beam.z,simple_beam.x,'.')\n",
    "\n",
    "ax2.plot(simple_beam.t*1e6, np.zeros(len(simple_beam.t)))\n",
    "ax2.cla()\n",
    "\n",
    "ax1.set_xlabel('Z distance [m]')\n",
    "ax1.set_ylabel('Amplitude')\n",
    "ax2.set_xlabel('Time [us]')\n",
    "plt.show()"
   ]
  },
  {
   "cell_type": "code",
   "execution_count": null,
   "metadata": {
    "collapsed": false,
    "deletable": true,
    "editable": true
   },
   "outputs": [],
   "source": [
    "circular_beam = CircularPointBeam(filling_scheme, circumference, h_RF, intensity, circular_overlapping=10)\n",
    "\n",
    "fig, ax1 = plt.subplots()\n",
    "ax2 = ax1.twiny()\n",
    "\n",
    "ax1.plot(circular_beam.z,circular_beam.n_macroparticles_per_slice)\n",
    "\n",
    "ax2.plot(circular_beam.t*1e6, np.zeros(len(circular_beam.t)))\n",
    "ax2.cla()\n",
    "\n",
    "ax1.set_xlabel('Z distance [m]')\n",
    "ax1.set_ylabel('Amplitude')\n",
    "ax2.set_xlabel('Time [us]')\n",
    "plt.show()\n"
   ]
  },
  {
   "cell_type": "code",
   "execution_count": null,
   "metadata": {
    "collapsed": false,
    "deletable": true,
    "editable": true
   },
   "outputs": [],
   "source": [
    "n_bunches = 40\n",
    "bunch_spacing = 25e-9\n",
    "simple_circular_beam = SimpleCircularPointBeam(n_bunches, bunch_spacing, intensity, 3)\n",
    "\n",
    "fig, ax1 = plt.subplots()\n",
    "ax2 = ax1.twiny()\n",
    "\n",
    "ax1.plot(simple_circular_beam.z,simple_circular_beam.n_macroparticles_per_slice,'.')\n",
    "ax1.plot(simple_circular_beam.z,simple_circular_beam.x,'.')\n",
    "\n",
    "ax2.plot(simple_circular_beam.t*1e6, np.zeros(len(simple_circular_beam.t)))\n",
    "ax2.cla()\n",
    "\n",
    "ax1.set_xlabel('Z distance [m]')\n",
    "ax1.set_ylabel('Amplitude')\n",
    "ax2.set_xlabel('Time [us]')\n",
    "plt.show()"
   ]
  },
  {
   "cell_type": "code",
   "execution_count": null,
   "metadata": {
    "collapsed": true,
    "deletable": true,
    "editable": true
   },
   "outputs": [],
   "source": []
  }
 ],
 "metadata": {
  "kernelspec": {
   "display_name": "Python 2",
   "language": "python",
   "name": "python2"
  },
  "language_info": {
   "codemirror_mode": {
    "name": "ipython",
    "version": 2
   },
   "file_extension": ".py",
   "mimetype": "text/x-python",
   "name": "python",
   "nbconvert_exporter": "python",
   "pygments_lexer": "ipython2",
   "version": "2.7.14"
  }
 },
 "nbformat": 4,
 "nbformat_minor": 2
}
