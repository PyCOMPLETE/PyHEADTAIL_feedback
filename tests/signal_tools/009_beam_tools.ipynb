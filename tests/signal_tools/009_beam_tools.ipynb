{
 "cells": [
  {
   "cell_type": "code",
   "execution_count": null,
   "metadata": {
    "collapsed": true,
    "deletable": true,
    "editable": true
   },
   "outputs": [],
   "source": [
    "import sys, os\n",
    "BIN = os.path.expanduser(\"../../../\")\n",
    "sys.path.append(BIN)\n",
    "from scipy.constants import c\n",
    "\n",
    "import numpy as np\n",
    "import matplotlib.pyplot as plt"
   ]
  },
  {
   "cell_type": "code",
   "execution_count": null,
   "metadata": {
    "collapsed": false,
    "deletable": true,
    "editable": true
   },
   "outputs": [],
   "source": [
    "from PyHEADTAIL_feedback.signal_tools.trackers_and_kickers import track_beam, Kicker, Tracer, FixedPhaseTracer, Damper\n",
    "from PyHEADTAIL_feedback.signal_tools.signal_generators import Bunch, Beam, SimpleBeam, SimpleCircularPointBeam\n",
    "\n",
    "\n",
    "from PyHEADTAIL_feedback.signal_tools.plotters import plot_traces, plot_3D_traces, plot_beam"
   ]
  },
  {
   "cell_type": "code",
   "execution_count": null,
   "metadata": {
    "collapsed": false,
    "deletable": true,
    "editable": true
   },
   "outputs": [],
   "source": [
    "bunch_length = 4e-9\n",
    "n_slices = 10\n",
    "intensity = 1e11\n",
    "\n",
    "bunch_length = 4e-9\n",
    "n_slices = 10\n",
    "intensity = 1e11\n",
    "\n",
    "h_RF = 462\n",
    "circumference = 6900\n",
    "counter = 12\n",
    "filling_scheme = []\n",
    "for i in xrange(3):\n",
    "    for j in xrange(12):\n",
    "        filling_scheme.append(counter)\n",
    "        counter += 1\n",
    "    counter += 6\n",
    "print filling_scheme"
   ]
  },
  {
   "cell_type": "code",
   "execution_count": null,
   "metadata": {
    "collapsed": false,
    "deletable": true,
    "editable": true
   },
   "outputs": [],
   "source": [
    "\n",
    "from PyHEADTAIL_feedback.processors.convolution import Lowpass, Highpass\n",
    "from PyHEADTAIL_feedback.processors.convolution import PhaseLinearizedLowpass, Gaussian, Sinc\n",
    "from PyHEADTAIL_feedback.processors.multiplication import ChargeWeighter\n",
    "\n",
    "beam = Beam(filling_scheme, circumference, h_RF, bunch_length, intensity, n_slices)\n",
    "\n",
    "def kicker_function(seed):\n",
    "    seed_more_than = (seed > 400)\n",
    "    seed_less_than = (seed < 700)\n",
    "    valid_seed = seed_more_than * seed_less_than\n",
    "    \n",
    "    kick = np.zeros(len(seed))\n",
    "    kick[valid_seed] = 1e-3\n",
    "    \n",
    "    return kick\n",
    "\n",
    "f_c = 40e6\n",
    "\n",
    "processors = [\n",
    "    ChargeWeighter(normalization = 'segment_average'),\n",
    "    Gaussian(f_c, normalization = ('bunch_by_bunch',1./25e-9, bunch_length))\n",
    "]\n",
    "\n",
    "trackers = [\n",
    "    Kicker(kicker_function),\n",
    "    Tracer(10,['z','x','x_fixed']),\n",
    "    Damper(0.1,processors)\n",
    "]\n",
    "\n",
    "track_beam(beam,trackers,100,53.325357225)\n",
    "\n",
    "plot_traces(trackers[1],'x_fixed')\n",
    "plot_3D_traces(trackers[1],'x_fixed')"
   ]
  },
  {
   "cell_type": "code",
   "execution_count": null,
   "metadata": {
    "collapsed": false,
    "deletable": true,
    "editable": true
   },
   "outputs": [],
   "source": [
    "n_turns = 10\n",
    "n_bunches = 30\n",
    "bunch_spacing = 25e-9\n",
    "offset = 1e-3\n",
    "beam = SimpleBeam(n_bunches, bunch_spacing, bunch_length, intensity, n_slices)\n",
    "# beam = SimpleCircularPointBeam(n_bunches, bunch_spacing, intensity, circular_overlapping=0)\n",
    "def kicker_function(seed):\n",
    "    seed_more_than = (seed > 200)\n",
    "    #seed_less_than = (seed < 700)\n",
    "    valid_seed = seed_more_than #* seed_less_than\n",
    "    \n",
    "    kick = np.zeros(len(seed))\n",
    "    kick[valid_seed] = offset\n",
    "    \n",
    "    return kick\n",
    "\n",
    "f_c = 4e6\n",
    "\n",
    "processors = [\n",
    "    #ChargeWeighter(normalization = 'segment_average'),\n",
    "    Sinc(f_c, normalization = ('bunch_by_bunch',1./25e-9,bunch_length))\n",
    "]\n",
    "\n",
    "trackers = [\n",
    "    Kicker(kicker_function),\n",
    "    Tracer(n_turns,['z','x','x_fixed']),\n",
    "    Damper(2./float(100),processors)\n",
    "]\n",
    "\n",
    "track_beam(beam,trackers,n_turns,53.325357225)\n",
    "\n",
    "plot_traces(trackers[1],'x_fixed')\n",
    "plot_3D_traces(trackers[1],'x_fixed')\n",
    "fig, ax1, ax11 = plot_beam(beam,'x_fixed')\n",
    "ax1.axhline(y=0.36787944*offset,xmin=0,xmax=3,c=\"red\",linewidth=0.5,zorder=0)\n",
    "plt.show()"
   ]
  },
  {
   "cell_type": "code",
   "execution_count": null,
   "metadata": {
    "collapsed": false,
    "deletable": true,
    "editable": true
   },
   "outputs": [],
   "source": [
    "n_turns = 100\n",
    "n_bunches = 100\n",
    "bunch_spacing = 25e-9\n",
    "offset = 1e-3\n",
    "# beam = SimpleBeam(n_bunches, bunch_spacing, bunch_length, intensity, n_slices)\n",
    "beam = SimpleCircularPointBeam(n_bunches, bunch_spacing, intensity, circular_overlapping=2, n_segments = 10)\n",
    "def kicker_function(seed):\n",
    "    seed_more_than = (seed > 350)\n",
    "    #seed_less_than = (seed < 700)\n",
    "    valid_seed = seed_more_than #* seed_less_than\n",
    "    \n",
    "    kick = np.zeros(len(seed))\n",
    "    kick[valid_seed] = offset\n",
    "    \n",
    "    return kick\n",
    "\n",
    "f_c = 4e6\n",
    "\n",
    "processors = [\n",
    "    #ChargeWeighter(normalization = 'segment_average'),\n",
    "    Gaussian(f_c)\n",
    "]\n",
    "\n",
    "trackers = [\n",
    "    Kicker(kicker_function),\n",
    "    Tracer(n_turns,['z','x','x_fixed']),\n",
    "    Damper(2./float(100),processors)\n",
    "]\n",
    "\n",
    "track_beam(beam,trackers,n_turns,53.325357225)\n",
    "\n",
    "plot_traces(trackers[1],'x_fixed')\n",
    "plot_3D_traces(trackers[1],'x_fixed')\n",
    "fig, ax1, ax11 = plot_beam(beam,'x_fixed')\n",
    "ax1.axhline(y=0.36787944,c=\"red\",linewidth=0.5,zorder=0)\n",
    "plt.show()"
   ]
  },
  {
   "cell_type": "code",
   "execution_count": null,
   "metadata": {
    "collapsed": false
   },
   "outputs": [],
   "source": [
    "n_turns = 100\n",
    "n_bunches = 100\n",
    "bunch_spacing = 25e-9\n",
    "offset = 1e-3\n",
    "# beam = SimpleBeam(n_bunches, bunch_spacing, bunch_length, intensity, n_slices)\n",
    "beam = SimpleCircularPointBeam(n_bunches, bunch_spacing, intensity, circular_overlapping=0, n_segments = 10)\n",
    "def kicker_function(seed):\n",
    "    seed_more_than = (seed > 350)\n",
    "    #seed_less_than = (seed < 700)\n",
    "    valid_seed = seed_more_than #* seed_less_than\n",
    "    \n",
    "    kick = np.zeros(len(seed))\n",
    "    kick[valid_seed] = offset\n",
    "    \n",
    "    return kick\n",
    "\n",
    "f_c = 4e6\n",
    "\n",
    "processors = [\n",
    "    #ChargeWeighter(normalization = 'segment_average'),\n",
    "    Sinc(f_c)\n",
    "]\n",
    "\n",
    "trackers = [\n",
    "    Kicker(kicker_function),\n",
    "    Tracer(n_turns,['z','x','x_fixed']),\n",
    "    Damper(2./float(100),processors)\n",
    "]\n",
    "\n",
    "track_beam(beam,trackers,n_turns,53.325357225)\n",
    "\n",
    "plot_traces(trackers[1],'x_fixed')\n",
    "plot_3D_traces(trackers[1],'x_fixed')\n",
    "fig, ax1, ax11 = plot_beam(beam,'x_fixed')\n",
    "ax1.axhline(y=0.36787944,c=\"red\",linewidth=0.5,zorder=0)\n",
    "plt.show()"
   ]
  },
  {
   "cell_type": "code",
   "execution_count": null,
   "metadata": {
    "collapsed": true
   },
   "outputs": [],
   "source": []
  }
 ],
 "metadata": {
  "kernelspec": {
   "display_name": "Python 2",
   "language": "python",
   "name": "python2"
  },
  "language_info": {
   "codemirror_mode": {
    "name": "ipython",
    "version": 2
   },
   "file_extension": ".py",
   "mimetype": "text/x-python",
   "name": "python",
   "nbconvert_exporter": "python",
   "pygments_lexer": "ipython2",
   "version": "2.7.14"
  }
 },
 "nbformat": 4,
 "nbformat_minor": 2
}
