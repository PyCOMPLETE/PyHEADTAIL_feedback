{
 "cells": [
  {
   "cell_type": "code",
   "execution_count": null,
   "metadata": {
    "collapsed": true,
    "deletable": true,
    "editable": true
   },
   "outputs": [],
   "source": [
    "import sys, os\n",
    "BIN = os.path.expanduser(\"../../../\")\n",
    "sys.path.append(BIN)\n",
    "from scipy.constants import c\n",
    "\n",
    "import numpy as np\n",
    "import matplotlib.pyplot as plt"
   ]
  },
  {
   "cell_type": "code",
   "execution_count": null,
   "metadata": {
    "collapsed": false,
    "deletable": true,
    "editable": true
   },
   "outputs": [],
   "source": [
    "from PyHEADTAIL_feedback.signal_tools.response_tools import frequency_response, impulse_response, signal_response\n",
    "from PyHEADTAIL_feedback.signal_tools.plotters import plot_frequency_responses\n",
    "# , plot_impulse_response"
   ]
  },
  {
   "cell_type": "code",
   "execution_count": null,
   "metadata": {
    "collapsed": true,
    "deletable": true,
    "editable": true
   },
   "outputs": [],
   "source": [
    "from PyHEADTAIL_feedback.processors.convolution import Delay, WaveletGenerator, MovingAverage\n",
    "from PyHEADTAIL_feedback.processors.misc import Bypass\n",
    "n_point = 240\n",
    "length = (-0.6e-8, 0.6e-8)\n",
    "\n",
    "processors_1 = [Delay(-2e-9)]\n",
    "processors_2 = [WaveletGenerator(2e-9, 3)]\n",
    "processors_3 = [MovingAverage(5e-9)]\n",
    "processors_4 = [Bypass()]\n",
    "\n",
    "processor_sets = [\n",
    "    processors_1,\n",
    "    processors_2,\n",
    "    processors_3,\n",
    "    processors_4\n",
    "]\n",
    "\n",
    "set_labels = [\n",
    "    'Delay',\n",
    "    'Wavelet',\n",
    "    'Average',\n",
    "    'ByPass'\n",
    "]\n"
   ]
  },
  {
   "cell_type": "code",
   "execution_count": null,
   "metadata": {
    "collapsed": false,
    "deletable": true,
    "editable": true
   },
   "outputs": [],
   "source": [
    "fig, ax1 = plt.subplots()\n",
    "ax2 = ax1.twiny()\n",
    "\n",
    "for processors, label in zip(processor_sets, set_labels):\n",
    "    t, z, input_signal, output_signal = impulse_response(processors, length, n_points=n_point,\n",
    "                                           impulse_type = 'sine')\n",
    "    ax1.plot(z,output_signal, label=label)\n",
    "    ax2.plot(t*1e6, np.zeros(len(t)))\n",
    "    ax2.cla()\n",
    "\n",
    "ax1.set_xlabel('Z distance [m]')\n",
    "ax1.set_ylabel('Amplitude')\n",
    "ax2.set_xlabel('Time [us]')\n",
    "ax1.legend(loc='upper right')\n",
    "plt.show()"
   ]
  }
 ],
 "metadata": {
  "kernelspec": {
   "display_name": "Python 2",
   "language": "python",
   "name": "python2"
  },
  "language_info": {
   "codemirror_mode": {
    "name": "ipython",
    "version": 2
   },
   "file_extension": ".py",
   "mimetype": "text/x-python",
   "name": "python",
   "nbconvert_exporter": "python",
   "pygments_lexer": "ipython2",
   "version": "2.7.14"
  }
 },
 "nbformat": 4,
 "nbformat_minor": 2
}
