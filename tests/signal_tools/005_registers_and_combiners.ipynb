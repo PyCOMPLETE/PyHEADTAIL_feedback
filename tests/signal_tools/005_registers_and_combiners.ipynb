{
 "cells": [
  {
   "cell_type": "code",
   "execution_count": null,
   "metadata": {
    "collapsed": false,
    "deletable": true,
    "editable": true
   },
   "outputs": [],
   "source": [
    "import sys, os\n",
    "BIN = os.path.expanduser(\"../../../\")\n",
    "sys.path.append(BIN)\n",
    "from scipy.constants import c\n",
    "\n",
    "import numpy as np\n",
    "import matplotlib.pyplot as plt\n",
    "\n",
    "import seaborn as sns\n",
    "\n",
    "from __future__ import division"
   ]
  },
  {
   "cell_type": "code",
   "execution_count": null,
   "metadata": {
    "collapsed": false,
    "deletable": true,
    "editable": true
   },
   "outputs": [],
   "source": [
    "from PyHEADTAIL_feedback.core import Parameters, process, z_bins_to_bin_edges, bin_mids"
   ]
  },
  {
   "cell_type": "code",
   "execution_count": null,
   "metadata": {
    "collapsed": true,
    "deletable": true,
    "editable": true
   },
   "outputs": [],
   "source": [
    "def generate_signal(min_val,max_val,n_points):\n",
    "    bin_width = (max_val-min_val)/float(n_points-1)\n",
    "    z_bins = np.linspace(min_val-bin_width/2.,max_val+bin_width/2.,n_points+1)\n",
    "    \n",
    "    signal_class = 0\n",
    "    bin_edges = z_bins_to_bin_edges(z_bins)\n",
    "    n_segments = 1\n",
    "    n_bins_per_segment = n_points\n",
    "    segment_ref_points = [(min_val + max_val) / 2.]\n",
    "    previous_parameters = []\n",
    "    location = 0. \n",
    "    beta = 1.\n",
    "    \n",
    "    parameters = Parameters(signal_class, bin_edges, n_segments,\n",
    "               n_bins_per_segment, segment_ref_points,\n",
    "               previous_parameters, location, beta)\n",
    "    signal_x = bin_mids(bin_edges)\n",
    "    signal_xp = np.zeros(n_points)\n",
    "    \n",
    "    return parameters, signal_x, signal_xp\n",
    "\n",
    "\n",
    "def rotate(angle, parameters, x, xp):\n",
    "    s = np.sin(angle)\n",
    "    c = np.cos(angle)\n",
    "    beta_x = parameters['beta']\n",
    "\n",
    "    new_x = c * x + beta_x * s * xp\n",
    "    new_xp = (-1. / beta_x) * s * x + c * xp\n",
    "    \n",
    "    return parameters, new_x, new_xp\n",
    "\n",
    "def process_signals(processors, parameters, x, xp):\n",
    "    parameters_out, x_out = process(parameters, x, processors)\n",
    "    if np.abs(np.min(x_out)) > np.max(x_out):\n",
    "        return np.min(x_out)\n",
    "    else:\n",
    "        return np.max(x_out)\n",
    "    \n",
    "    "
   ]
  },
  {
   "cell_type": "code",
   "execution_count": null,
   "metadata": {
    "collapsed": true,
    "deletable": true,
    "editable": true
   },
   "outputs": [],
   "source": [
    "Q_x = 25. +0.285678326893 # + 0.1*np.pi\n",
    "n_points = 10\n",
    "min_val = 0.\n",
    "max_val = 1.\n",
    "n_turns = 1000"
   ]
  },
  {
   "cell_type": "code",
   "execution_count": null,
   "metadata": {
    "collapsed": false
   },
   "outputs": [],
   "source": [
    "# error distribution\n",
    "from PyHEADTAIL_feedback.processors.register import TurnDelay\n",
    "\n",
    "# This is a test, which tests how well the combiner roates an ideal signal. Horizontal values represent values from\n",
    "# the combiner while the vectors from the origin represent values given to the register.\n",
    "\n",
    "parameters, signal_x, signal_xp = generate_signal(min_val, max_val, n_points)\n",
    "\n",
    "processors = [\n",
    "#     TurnDelay(delay=1, tune=Q_x+0.005, n_taps=9, combiner='cosine_sum',\n",
    "#                  additional_phase_advance=0)\n",
    "#     TurnDelay(delay=1, tune=Q_x+0.005, n_taps=2, combiner='vector_sum',\n",
    "#                  additional_phase_advance=0)\n",
    "    TurnDelay(delay=1, tune=Q_x, n_taps=9, combiner='hilbert',\n",
    "                 additional_phase_advance=0),\n",
    "#     TurnDelay(delay=1, tune=Q_x, n_taps=9, combiner='DCrem_vector_sum',\n",
    "#                  additional_phase_advance=0),\n",
    "]\n",
    "\n",
    "fig = plt.figure(figsize=(10, 12))\n",
    "seq_col_brew = sns.color_palette(\"Blues\", n_turns)\n",
    "sns.set_palette(seq_col_brew)\n",
    "\n",
    "ax1 = fig.add_subplot(211)\n",
    "ax2 = fig.add_subplot(212)\n",
    "\n",
    "bins = np.linspace(-0.5,0.5,50)\n",
    "errors = np.zeros(n_turns)\n",
    "\n",
    "for i in xrange(n_turns):\n",
    "    angle = Q_x*2.*np.pi\n",
    "    parameters, signal_x, signal_xp = rotate(angle,parameters, signal_x, signal_xp)\n",
    "    ax1.plot(signal_x,signal_xp, '-')\n",
    "    max_x = process_signals(processors, parameters, signal_x, signal_xp)\n",
    "    ax1.axvline(x=max_x,linewidth=3.0,color = seq_col_brew[i],linestyle='--')\n",
    "    \n",
    "    errors[i] = max_x-signal_x[-1]\n",
    "    \n",
    "print 'Average error: ' + str(np.mean(errors))\n",
    "    \n",
    "ax1.set_xlabel('Beam X ')\n",
    "ax1.set_ylabel('Beam Xp ')\n",
    "\n",
    "ax2.hist(errors, bins=bins, normed=1, facecolor='green', alpha=0.75)\n",
    "ax2.set_xlabel('X value error')\n",
    "ax2.set_ylabel('N turns')\n",
    "plt.show()\n",
    "\n"
   ]
  },
  {
   "cell_type": "code",
   "execution_count": null,
   "metadata": {
    "collapsed": false,
    "deletable": true,
    "editable": true
   },
   "outputs": [],
   "source": [
    "from PyHEADTAIL_feedback.signal_tools.signal_generators import SimpleBeam\n",
    "\n",
    "from PyHEADTAIL_feedback.signal_tools.plotters import plot_traces, plot_3D_traces, plot_beam"
   ]
  },
  {
   "cell_type": "code",
   "execution_count": null,
   "metadata": {
    "collapsed": true,
    "deletable": true,
    "editable": true
   },
   "outputs": [],
   "source": [
    "from PyHEADTAIL_feedback.processors.register import TurnDelay\n",
    "from PyHEADTAIL_feedback.processors.misc import Bypass"
   ]
  },
  {
   "cell_type": "code",
   "execution_count": null,
   "metadata": {
    "collapsed": false,
    "deletable": true,
    "editable": true
   },
   "outputs": [],
   "source": [
    "beam = SimpleBeam(n_bunches=3, bunch_spacing=25e-9, bunch_length=4e-9, intensity=1e11, n_slices=5)\n",
    "\n",
    "def offset_kicker(seed):\n",
    "    kick = np.ones(len(seed))*1e-3\n",
    "    \n",
    "    return kick\n",
    "\n",
    "processors = [\n",
    "    # Bypass()\n",
    "    TurnDelay(delay=1, tune=Q_x, n_taps=4, combiner='vector_sum',\n",
    "                 additional_phase_advance=0)\n",
    "]\n",
    "\n",
    "angle = Q_x*2.*np.pi\n",
    "    \n",
    "\n",
    "fig = plt.figure(figsize=(10, 16))\n",
    "seq_col_brew = sns.color_palette(\"Blues\", n_turns)\n",
    "sns.set_palette(seq_col_brew)\n",
    "\n",
    "ax1 = fig.add_subplot(211)\n",
    "\n",
    "beam.x = beam.z/np.max(beam.z)* 1.\n",
    "\n",
    "for i in xrange(n_turns):\n",
    "    angle = Q_x*2.*np.pi\n",
    "    beam.rotate(angle)\n",
    "    parameters_in, signal_in = beam.signal()\n",
    "    \n",
    "    parameters_out, signal_out = process(parameters_in,np.copy(signal_in),processors)\n",
    "    \n",
    "    if np.abs(np.min(signal_out)) > np.max(signal_out):\n",
    "        max_signal = np.min(signal_out)\n",
    "    else:\n",
    "        max_signal = np.max(signal_out)\n",
    "    x = beam.x\n",
    "    xp = beam.xp\n",
    "    ax1.plot(x,xp, '.')\n",
    "    ax1.axvline(x=max_signal,linewidth=3.0,color = seq_col_brew[i],linestyle='--')\n",
    "\n",
    "ax1.set_xlabel('Beam X ')\n",
    "ax1.set_ylabel('Beam Xp ')\n",
    "plt.show()\n"
   ]
  },
  {
   "cell_type": "code",
   "execution_count": null,
   "metadata": {
    "collapsed": true,
    "deletable": true,
    "editable": true
   },
   "outputs": [],
   "source": []
  }
 ],
 "metadata": {
  "kernelspec": {
   "display_name": "Python 2",
   "language": "python",
   "name": "python2"
  },
  "language_info": {
   "codemirror_mode": {
    "name": "ipython",
    "version": 2
   },
   "file_extension": ".py",
   "mimetype": "text/x-python",
   "name": "python",
   "nbconvert_exporter": "python",
   "pygments_lexer": "ipython2",
   "version": "2.7.14"
  }
 },
 "nbformat": 4,
 "nbformat_minor": 2
}
