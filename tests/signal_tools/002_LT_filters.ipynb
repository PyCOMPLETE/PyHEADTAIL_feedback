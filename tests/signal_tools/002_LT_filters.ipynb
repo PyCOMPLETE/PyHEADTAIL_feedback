{
 "cells": [
  {
   "cell_type": "code",
   "execution_count": null,
   "metadata": {
    "collapsed": true,
    "deletable": true,
    "editable": true
   },
   "outputs": [],
   "source": [
    "import sys, os\n",
    "BIN = os.path.expanduser(\"../../../\")\n",
    "sys.path.append(BIN)\n",
    "from scipy.constants import c\n",
    "\n",
    "import numpy as np\n",
    "import matplotlib.pyplot as plt"
   ]
  },
  {
   "cell_type": "code",
   "execution_count": null,
   "metadata": {
    "collapsed": false,
    "deletable": true,
    "editable": true
   },
   "outputs": [],
   "source": [
    "from PyHEADTAIL_feedback.signal_tools.response_tools import frequency_response, impulse_response, signal_response\n",
    "# , plot_impulse_response"
   ]
  },
  {
   "cell_type": "code",
   "execution_count": null,
   "metadata": {
    "collapsed": false,
    "deletable": true,
    "editable": true
   },
   "outputs": [],
   "source": [
    "from PyHEADTAIL_feedback.processors.linear_transform import Lowpass, Highpass\n",
    "from PyHEADTAIL_feedback.processors.linear_transform import PhaseLinearizedLowpass, Gaussian, Sinc\n",
    "f_c = 10e6\n",
    "n_point = 240\n",
    "length = (-1./f_c, 1./f_c)\n",
    "\n",
    "processors_1 = [Lowpass(f_c, mode = 'total')]\n",
    "processors_2 = [PhaseLinearizedLowpass(f_c, mode = 'total')]\n",
    "processors_3 = [Gaussian(f_c, mode = 'total')]\n",
    "processors_4 = [Sinc(f_c, mode = 'total')]\n",
    "\n",
    "processor_sets = [\n",
    "    processors_1,\n",
    "    processors_2,\n",
    "    processors_3,\n",
    "    processors_4\n",
    "]\n",
    "\n",
    "set_labels = [\n",
    "    'Lowpass',\n",
    "    'Phase linearized',\n",
    "    'Gaussian',\n",
    "    'Sinc',\n",
    "]\n"
   ]
  },
  {
   "cell_type": "code",
   "execution_count": null,
   "metadata": {
    "collapsed": false,
    "deletable": true,
    "editable": true
   },
   "outputs": [],
   "source": [
    "fig, ax1 = plt.subplots()\n",
    "ax2 = ax1.twiny()\n",
    "\n",
    "for processors, label in zip(processor_sets, set_labels):\n",
    "    t, z, input_signal, output_signal = impulse_response(processors, length, n_points=n_point,\n",
    "                                           impulse_type = 'binary')\n",
    "    ax1.plot(z,output_signal, label=label)\n",
    "    ax2.plot(t*1e6, np.zeros(len(t)))\n",
    "    ax2.cla()\n",
    "\n",
    "ax1.set_xlabel('Z distance [m]')\n",
    "ax1.set_ylabel('Amplitude')\n",
    "ax2.set_xlabel('Time [us]')\n",
    "ax1.legend(loc='upper right')\n",
    "plt.show()"
   ]
  },
  {
   "cell_type": "code",
   "execution_count": null,
   "metadata": {
    "collapsed": false,
    "deletable": true,
    "editable": true
   },
   "outputs": [],
   "source": [
    "fig, ax1 = plt.subplots()\n",
    "ax2 = ax1.twiny()\n",
    "\n",
    "for processors, label in zip(processor_sets, set_labels):\n",
    "    t, z, input_signal, output_signal = impulse_response(processors, length, n_points=n_point,\n",
    "                                           impulse_type = 'sine')\n",
    "    ax1.plot(z,output_signal, label=label)\n",
    "    ax2.plot(t*1e6, np.zeros(len(t)))\n",
    "    ax2.cla()\n",
    "\n",
    "ax1.set_xlabel('Z distance [m]')\n",
    "ax1.set_ylabel('Amplitude')\n",
    "ax2.set_xlabel('Time [us]')\n",
    "ax1.legend(loc='upper right')\n",
    "plt.show()"
   ]
  },
  {
   "cell_type": "code",
   "execution_count": null,
   "metadata": {
    "collapsed": false,
    "deletable": true,
    "editable": true
   },
   "outputs": [],
   "source": [
    "fig, ax1 = plt.subplots()\n",
    "ax2 = ax1.twiny()\n",
    "\n",
    "for processors, label in zip(processor_sets, set_labels):\n",
    "    t, z, input_signal, output_signal = impulse_response(processors, length, n_points=n_point,\n",
    "                                           impulse_type = 'bipolar_sine')\n",
    "    ax1.plot(z,output_signal, label=label)\n",
    "    ax2.plot(t*1e6, np.zeros(len(t)))\n",
    "    ax2.cla()\n",
    "\n",
    "ax1.set_xlabel('Z distance [m]')\n",
    "ax1.set_ylabel('Amplitude')\n",
    "ax2.set_xlabel('Time [us]')\n",
    "ax1.legend(loc='upper right')\n",
    "plt.show()"
   ]
  },
  {
   "cell_type": "code",
   "execution_count": null,
   "metadata": {
    "collapsed": false,
    "deletable": true,
    "editable": true
   },
   "outputs": [],
   "source": [
    "from PyHEADTAIL_feedback.signal_tools.signal_generators import SimpleBeam\n",
    "f_c = 10e6\n",
    "n_slices = 40\n",
    "intensity = 1e11\n",
    "n_bunches = 14\n",
    "bunch_spacing = 20e-9\n",
    "bunch_length = 5e-9\n",
    "\n",
    "fig, ax1 = plt.subplots()\n",
    "ax2 = ax1.twiny()\n",
    "\n",
    "\n",
    "for processors, label in zip(processor_sets, set_labels):\n",
    "    simple_beam = SimpleBeam(n_bunches, bunch_spacing, bunch_length, intensity, n_slices)\n",
    "    temp_x = simple_beam.x\n",
    "    map_1 = (simple_beam.z>20.)\n",
    "    map_2 = (simple_beam.z<50.) \n",
    "    \n",
    "    temp_x[map_1*map_2] += 1.\n",
    "    simple_beam.x = temp_x\n",
    "    \n",
    "    t, z, input_signal, output_signal = signal_response(simple_beam, processors)\n",
    "    \n",
    "    # t, z, input_signal, output_signal = impulse_response(processors, length, n_points=n_point,\n",
    "    #                                        impulse_type = 'bipolar_sine')\n",
    "    ax1.plot(z,output_signal, '.', label=label)\n",
    "    ax2.plot(t*1e6, np.zeros(len(t)))\n",
    "    ax2.cla()\n",
    "\n",
    "\n",
    "\n",
    "\n",
    "ax1.set_xlabel('Z distance [m]')\n",
    "ax1.set_ylabel('Amplitude')\n",
    "ax2.set_xlabel('Time [us]')\n",
    "ax1.legend(loc='upper right')\n",
    "plt.show()\n"
   ]
  },
  {
   "cell_type": "code",
   "execution_count": null,
   "metadata": {
    "collapsed": false,
    "deletable": true,
    "editable": true
   },
   "outputs": [],
   "source": [
    "\n",
    "data = []\n",
    "for processors, label in zip(processor_sets, set_labels):\n",
    "    print label + ' -> ',\n",
    "    f, amp, phase = frequency_response(processors, 1./f_c)\n",
    "    data.append([f, amp, phase])\n",
    "    print 'DONE'\n"
   ]
  },
  {
   "cell_type": "code",
   "execution_count": null,
   "metadata": {
    "collapsed": false,
    "deletable": true,
    "editable": true
   },
   "outputs": [],
   "source": [
    "from PyHEADTAIL_feedback.signal_tools.plotters import plot_frequency_responses\n",
    "plot_frequency_responses(data,set_labels, f_c)"
   ]
  },
  {
   "cell_type": "code",
   "execution_count": null,
   "metadata": {
    "collapsed": true,
    "deletable": true,
    "editable": true
   },
   "outputs": [],
   "source": []
  },
  {
   "cell_type": "code",
   "execution_count": null,
   "metadata": {
    "collapsed": true,
    "deletable": true,
    "editable": true
   },
   "outputs": [],
   "source": []
  }
 ],
 "metadata": {
  "kernelspec": {
   "display_name": "Python 2",
   "language": "python",
   "name": "python2"
  },
  "language_info": {
   "codemirror_mode": {
    "name": "ipython",
    "version": 2
   },
   "file_extension": ".py",
   "mimetype": "text/x-python",
   "name": "python",
   "nbconvert_exporter": "python",
   "pygments_lexer": "ipython2",
   "version": "2.7.14"
  }
 },
 "nbformat": 4,
 "nbformat_minor": 2
}
